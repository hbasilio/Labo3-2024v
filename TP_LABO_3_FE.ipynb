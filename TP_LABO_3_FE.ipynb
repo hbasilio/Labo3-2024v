{
 "cells": [
  {
   "cell_type": "code",
   "execution_count": null,
   "id": "383ee319-54b2-4812-be1b-68f16fa5467a",
   "metadata": {},
   "outputs": [],
   "source": [
    "# ANALISIS DE DATOS y primer entrenamiento de un modelo Prophet"
   ]
  },
  {
   "cell_type": "code",
   "execution_count": 1,
   "id": "9d3db90a-53c8-4175-9f7c-9ac14b0854eb",
   "metadata": {},
   "outputs": [],
   "source": [
    "# Paso 1: Importar las bibliotecas necesarias"
   ]
  },
  {
   "cell_type": "code",
   "execution_count": null,
   "id": "2be4cdac-f652-435d-8fa7-42064ab44471",
   "metadata": {},
   "outputs": [],
   "source": []
  },
  {
   "cell_type": "code",
   "execution_count": 1,
   "id": "7edcc8fe-69dd-410b-91aa-c3a5b1106ece",
   "metadata": {},
   "outputs": [],
   "source": [
    "# Python\n",
    "import pandas as pd\n",
    "from prophet import Prophet\n",
    "import matplotlib.pyplot as plt"
   ]
  },
  {
   "cell_type": "code",
   "execution_count": 2,
   "id": "cb5ab77c-9d51-4bbf-8af0-5e9aac8452d1",
   "metadata": {},
   "outputs": [],
   "source": [
    "# Paso 2: Cargar los datos en DataFrames de pandas"
   ]
  },
  {
   "cell_type": "code",
   "execution_count": 3,
   "id": "73a67c43-7744-4a54-b36f-90508f78ad30",
   "metadata": {},
   "outputs": [],
   "source": [
    "# Cargar los datos\n",
    "stock_df = pd.read_csv('data/tb_stocks.csv', delimiter='\\t')\n",
    "producto_df = pd.read_csv('data/tb_productos.csv', delimiter='\\t')\n",
    "ventas_df = pd.read_csv('data/sell-in.csv', delimiter='\\t')"
   ]
  },
  {
   "cell_type": "code",
   "execution_count": 4,
   "id": "e7d4170e-35b7-4339-b54f-0584c6c99dcf",
   "metadata": {},
   "outputs": [],
   "source": [
    "# Paso 3: Asegurarse de que los datos estén bien formateados"
   ]
  },
  {
   "cell_type": "code",
   "execution_count": 5,
   "id": "e8a74f9c-b06d-439c-9633-0ad02455b7ac",
   "metadata": {},
   "outputs": [
    {
     "data": {
      "text/html": [
       "<div>\n",
       "<style scoped>\n",
       "    .dataframe tbody tr th:only-of-type {\n",
       "        vertical-align: middle;\n",
       "    }\n",
       "\n",
       "    .dataframe tbody tr th {\n",
       "        vertical-align: top;\n",
       "    }\n",
       "\n",
       "    .dataframe thead th {\n",
       "        text-align: right;\n",
       "    }\n",
       "</style>\n",
       "<table border=\"1\" class=\"dataframe\">\n",
       "  <thead>\n",
       "    <tr style=\"text-align: right;\">\n",
       "      <th></th>\n",
       "      <th>periodo</th>\n",
       "      <th>product_id</th>\n",
       "      <th>stock_final</th>\n",
       "    </tr>\n",
       "  </thead>\n",
       "  <tbody>\n",
       "    <tr>\n",
       "      <th>0</th>\n",
       "      <td>201810</td>\n",
       "      <td>20524</td>\n",
       "      <td>1.61267</td>\n",
       "    </tr>\n",
       "    <tr>\n",
       "      <th>1</th>\n",
       "      <td>201810</td>\n",
       "      <td>20311</td>\n",
       "      <td>2.93657</td>\n",
       "    </tr>\n",
       "    <tr>\n",
       "      <th>2</th>\n",
       "      <td>201810</td>\n",
       "      <td>20654</td>\n",
       "      <td>6.83269</td>\n",
       "    </tr>\n",
       "    <tr>\n",
       "      <th>3</th>\n",
       "      <td>201810</td>\n",
       "      <td>21005</td>\n",
       "      <td>1.01338</td>\n",
       "    </tr>\n",
       "    <tr>\n",
       "      <th>4</th>\n",
       "      <td>201810</td>\n",
       "      <td>20974</td>\n",
       "      <td>0.34595</td>\n",
       "    </tr>\n",
       "  </tbody>\n",
       "</table>\n",
       "</div>"
      ],
      "text/plain": [
       "   periodo  product_id  stock_final\n",
       "0   201810       20524      1.61267\n",
       "1   201810       20311      2.93657\n",
       "2   201810       20654      6.83269\n",
       "3   201810       21005      1.01338\n",
       "4   201810       20974      0.34595"
      ]
     },
     "execution_count": 5,
     "metadata": {},
     "output_type": "execute_result"
    }
   ],
   "source": [
    "stock_df.head()"
   ]
  },
  {
   "cell_type": "code",
   "execution_count": 6,
   "id": "9b816603-e091-4e32-bdcb-adbdc6804d87",
   "metadata": {},
   "outputs": [],
   "source": [
    "# Paso 4: Unir los DataFrames\n",
    "# Primero, une el DataFrame de STOCK con el de PRODUCTO en la columna product_id."
   ]
  },
  {
   "cell_type": "code",
   "execution_count": 7,
   "id": "2366380e-6ac1-41a7-b76d-c13e4230fc64",
   "metadata": {},
   "outputs": [],
   "source": [
    "stock_producto_df = pd.merge(stock_df, producto_df, on='product_id', how='left')"
   ]
  },
  {
   "cell_type": "code",
   "execution_count": 8,
   "id": "08d22221-1403-4b53-8e6d-5fe24725cf44",
   "metadata": {},
   "outputs": [
    {
     "data": {
      "text/html": [
       "<div>\n",
       "<style scoped>\n",
       "    .dataframe tbody tr th:only-of-type {\n",
       "        vertical-align: middle;\n",
       "    }\n",
       "\n",
       "    .dataframe tbody tr th {\n",
       "        vertical-align: top;\n",
       "    }\n",
       "\n",
       "    .dataframe thead th {\n",
       "        text-align: right;\n",
       "    }\n",
       "</style>\n",
       "<table border=\"1\" class=\"dataframe\">\n",
       "  <thead>\n",
       "    <tr style=\"text-align: right;\">\n",
       "      <th></th>\n",
       "      <th>periodo</th>\n",
       "      <th>product_id</th>\n",
       "      <th>stock_final</th>\n",
       "      <th>cat1</th>\n",
       "      <th>cat2</th>\n",
       "      <th>cat3</th>\n",
       "      <th>brand</th>\n",
       "      <th>sku_size</th>\n",
       "    </tr>\n",
       "  </thead>\n",
       "  <tbody>\n",
       "    <tr>\n",
       "      <th>0</th>\n",
       "      <td>201810</td>\n",
       "      <td>20524</td>\n",
       "      <td>1.61267</td>\n",
       "      <td>HC</td>\n",
       "      <td>VAJILLA</td>\n",
       "      <td>Cristalino</td>\n",
       "      <td>Importado</td>\n",
       "      <td>500.0</td>\n",
       "    </tr>\n",
       "    <tr>\n",
       "      <th>1</th>\n",
       "      <td>201810</td>\n",
       "      <td>20311</td>\n",
       "      <td>2.93657</td>\n",
       "      <td>HC</td>\n",
       "      <td>VAJILLA</td>\n",
       "      <td>Cristalino</td>\n",
       "      <td>Importado</td>\n",
       "      <td>1000.0</td>\n",
       "    </tr>\n",
       "    <tr>\n",
       "      <th>2</th>\n",
       "      <td>201810</td>\n",
       "      <td>20654</td>\n",
       "      <td>6.83269</td>\n",
       "      <td>PC</td>\n",
       "      <td>DEOS</td>\n",
       "      <td>Aero</td>\n",
       "      <td>DEOS2</td>\n",
       "      <td>60.0</td>\n",
       "    </tr>\n",
       "    <tr>\n",
       "      <th>3</th>\n",
       "      <td>201810</td>\n",
       "      <td>21005</td>\n",
       "      <td>1.01338</td>\n",
       "      <td>FOODS</td>\n",
       "      <td>SOPAS Y CALDOS</td>\n",
       "      <td>Caldos Granulados</td>\n",
       "      <td>MAGGI</td>\n",
       "      <td>12.0</td>\n",
       "    </tr>\n",
       "    <tr>\n",
       "      <th>4</th>\n",
       "      <td>201810</td>\n",
       "      <td>20974</td>\n",
       "      <td>0.34595</td>\n",
       "      <td>FOODS</td>\n",
       "      <td>SOPAS Y CALDOS</td>\n",
       "      <td>Caldos Granulados</td>\n",
       "      <td>MAGGI</td>\n",
       "      <td>12.0</td>\n",
       "    </tr>\n",
       "  </tbody>\n",
       "</table>\n",
       "</div>"
      ],
      "text/plain": [
       "   periodo  product_id  stock_final   cat1            cat2               cat3  \\\n",
       "0   201810       20524      1.61267     HC         VAJILLA         Cristalino   \n",
       "1   201810       20311      2.93657     HC         VAJILLA         Cristalino   \n",
       "2   201810       20654      6.83269     PC            DEOS               Aero   \n",
       "3   201810       21005      1.01338  FOODS  SOPAS Y CALDOS  Caldos Granulados   \n",
       "4   201810       20974      0.34595  FOODS  SOPAS Y CALDOS  Caldos Granulados   \n",
       "\n",
       "       brand  sku_size  \n",
       "0  Importado     500.0  \n",
       "1  Importado    1000.0  \n",
       "2      DEOS2      60.0  \n",
       "3      MAGGI      12.0  \n",
       "4      MAGGI      12.0  "
      ]
     },
     "execution_count": 8,
     "metadata": {},
     "output_type": "execute_result"
    }
   ],
   "source": [
    "stock_producto_df.head()"
   ]
  },
  {
   "cell_type": "code",
   "execution_count": 9,
   "id": "ca06ce36-64f9-45df-ae1c-c72e6e42dee7",
   "metadata": {},
   "outputs": [],
   "source": [
    "# Luego, une el resultado con el DataFrame de VENTAS."
   ]
  },
  {
   "cell_type": "code",
   "execution_count": 10,
   "id": "d73f2015-4f35-4ff5-9b89-40f091c6e859",
   "metadata": {},
   "outputs": [],
   "source": [
    "final_df = pd.merge(ventas_df, stock_producto_df, on='product_id', how='left')"
   ]
  },
  {
   "cell_type": "code",
   "execution_count": 11,
   "id": "4c4646b1-049a-4de1-8a13-8f41eac47dea",
   "metadata": {},
   "outputs": [
    {
     "data": {
      "text/html": [
       "<div>\n",
       "<style scoped>\n",
       "    .dataframe tbody tr th:only-of-type {\n",
       "        vertical-align: middle;\n",
       "    }\n",
       "\n",
       "    .dataframe tbody tr th {\n",
       "        vertical-align: top;\n",
       "    }\n",
       "\n",
       "    .dataframe thead th {\n",
       "        text-align: right;\n",
       "    }\n",
       "</style>\n",
       "<table border=\"1\" class=\"dataframe\">\n",
       "  <thead>\n",
       "    <tr style=\"text-align: right;\">\n",
       "      <th></th>\n",
       "      <th>periodo_x</th>\n",
       "      <th>customer_id</th>\n",
       "      <th>product_id</th>\n",
       "      <th>plan_precios_cuidados</th>\n",
       "      <th>cust_request_qty</th>\n",
       "      <th>cust_request_tn</th>\n",
       "      <th>tn</th>\n",
       "      <th>periodo_y</th>\n",
       "      <th>stock_final</th>\n",
       "      <th>cat1</th>\n",
       "      <th>cat2</th>\n",
       "      <th>cat3</th>\n",
       "      <th>brand</th>\n",
       "      <th>sku_size</th>\n",
       "    </tr>\n",
       "  </thead>\n",
       "  <tbody>\n",
       "    <tr>\n",
       "      <th>0</th>\n",
       "      <td>201701</td>\n",
       "      <td>10234</td>\n",
       "      <td>20524</td>\n",
       "      <td>0</td>\n",
       "      <td>2</td>\n",
       "      <td>0.053</td>\n",
       "      <td>0.053</td>\n",
       "      <td>201810.0</td>\n",
       "      <td>1.61267</td>\n",
       "      <td>HC</td>\n",
       "      <td>VAJILLA</td>\n",
       "      <td>Cristalino</td>\n",
       "      <td>Importado</td>\n",
       "      <td>500.0</td>\n",
       "    </tr>\n",
       "    <tr>\n",
       "      <th>1</th>\n",
       "      <td>201701</td>\n",
       "      <td>10234</td>\n",
       "      <td>20524</td>\n",
       "      <td>0</td>\n",
       "      <td>2</td>\n",
       "      <td>0.053</td>\n",
       "      <td>0.053</td>\n",
       "      <td>201811.0</td>\n",
       "      <td>13.65087</td>\n",
       "      <td>HC</td>\n",
       "      <td>VAJILLA</td>\n",
       "      <td>Cristalino</td>\n",
       "      <td>Importado</td>\n",
       "      <td>500.0</td>\n",
       "    </tr>\n",
       "    <tr>\n",
       "      <th>2</th>\n",
       "      <td>201701</td>\n",
       "      <td>10234</td>\n",
       "      <td>20524</td>\n",
       "      <td>0</td>\n",
       "      <td>2</td>\n",
       "      <td>0.053</td>\n",
       "      <td>0.053</td>\n",
       "      <td>201812.0</td>\n",
       "      <td>31.68547</td>\n",
       "      <td>HC</td>\n",
       "      <td>VAJILLA</td>\n",
       "      <td>Cristalino</td>\n",
       "      <td>Importado</td>\n",
       "      <td>500.0</td>\n",
       "    </tr>\n",
       "    <tr>\n",
       "      <th>3</th>\n",
       "      <td>201701</td>\n",
       "      <td>10234</td>\n",
       "      <td>20524</td>\n",
       "      <td>0</td>\n",
       "      <td>2</td>\n",
       "      <td>0.053</td>\n",
       "      <td>0.053</td>\n",
       "      <td>201901.0</td>\n",
       "      <td>41.73245</td>\n",
       "      <td>HC</td>\n",
       "      <td>VAJILLA</td>\n",
       "      <td>Cristalino</td>\n",
       "      <td>Importado</td>\n",
       "      <td>500.0</td>\n",
       "    </tr>\n",
       "    <tr>\n",
       "      <th>4</th>\n",
       "      <td>201701</td>\n",
       "      <td>10234</td>\n",
       "      <td>20524</td>\n",
       "      <td>0</td>\n",
       "      <td>2</td>\n",
       "      <td>0.053</td>\n",
       "      <td>0.053</td>\n",
       "      <td>201902.0</td>\n",
       "      <td>31.70061</td>\n",
       "      <td>HC</td>\n",
       "      <td>VAJILLA</td>\n",
       "      <td>Cristalino</td>\n",
       "      <td>Importado</td>\n",
       "      <td>500.0</td>\n",
       "    </tr>\n",
       "  </tbody>\n",
       "</table>\n",
       "</div>"
      ],
      "text/plain": [
       "   periodo_x  customer_id  product_id  plan_precios_cuidados  \\\n",
       "0     201701        10234       20524                      0   \n",
       "1     201701        10234       20524                      0   \n",
       "2     201701        10234       20524                      0   \n",
       "3     201701        10234       20524                      0   \n",
       "4     201701        10234       20524                      0   \n",
       "\n",
       "   cust_request_qty  cust_request_tn     tn  periodo_y  stock_final cat1  \\\n",
       "0                 2            0.053  0.053   201810.0      1.61267   HC   \n",
       "1                 2            0.053  0.053   201811.0     13.65087   HC   \n",
       "2                 2            0.053  0.053   201812.0     31.68547   HC   \n",
       "3                 2            0.053  0.053   201901.0     41.73245   HC   \n",
       "4                 2            0.053  0.053   201902.0     31.70061   HC   \n",
       "\n",
       "      cat2        cat3      brand  sku_size  \n",
       "0  VAJILLA  Cristalino  Importado     500.0  \n",
       "1  VAJILLA  Cristalino  Importado     500.0  \n",
       "2  VAJILLA  Cristalino  Importado     500.0  \n",
       "3  VAJILLA  Cristalino  Importado     500.0  \n",
       "4  VAJILLA  Cristalino  Importado     500.0  "
      ]
     },
     "execution_count": 11,
     "metadata": {},
     "output_type": "execute_result"
    }
   ],
   "source": [
    "final_df.head()"
   ]
  },
  {
   "cell_type": "code",
   "execution_count": null,
   "id": "2ddee031-3761-4e62-b372-bc861b9d0f02",
   "metadata": {},
   "outputs": [],
   "source": [
    "# Paso 5: Crear la serie de tiempo\n",
    "# Agrupa los datos por periodo y suma las toneladas (tn) para obtener la producción total por periodo"
   ]
  },
  {
   "cell_type": "code",
   "execution_count": 11,
   "id": "3cd9ec77-1b13-4e42-9ae4-9ddd9cd4c96c",
   "metadata": {},
   "outputs": [],
   "source": [
    "# Convertir la columna 'periodo' a formato de fecha\n",
    "final_df['periodo'] = pd.to_datetime(final_df['periodo'], format='%Y%m')\n",
    "\n",
    "# Agrupar por periodo y sumar las toneladas\n",
    "ts_df = final_df.groupby('periodo')['tn'].sum().reset_index()\n",
    "\n",
    "# Renombrar las columnas para ajustarse a Prophet\n",
    "ts_df.columns = ['ds', 'y']\n"
   ]
  },
  {
   "cell_type": "code",
   "execution_count": null,
   "id": "35a6d9eb-edf9-45b9-a077-1657c61c3a07",
   "metadata": {},
   "outputs": [],
   "source": [
    "# Paso 6: Entrenar el modelo Prophet"
   ]
  },
  {
   "cell_type": "code",
   "execution_count": null,
   "id": "5fb7b997-c174-43c7-8905-fd84ea31549d",
   "metadata": {},
   "outputs": [],
   "source": [
    "# Crear el modelo Prophet\n",
    "model = Prophet()\n",
    "\n",
    "# Entrenar el modelo con los datos\n",
    "model.fit(ts_df)"
   ]
  },
  {
   "cell_type": "code",
   "execution_count": null,
   "id": "eae23742-e856-4711-9d89-8521e23cb15e",
   "metadata": {},
   "outputs": [],
   "source": [
    "# Paso 7: Hacer predicciones para los próximos 6 periodos"
   ]
  },
  {
   "cell_type": "code",
   "execution_count": null,
   "id": "aa2a9d9d-cc96-404a-85dc-964dcf0df595",
   "metadata": {},
   "outputs": [],
   "source": [
    "# Crear un DataFrame con los periodos futuros\n",
    "future = model.make_future_dataframe(periods=6, freq='M')\n",
    "\n",
    "# Hacer las predicciones\n",
    "forecast = model.predict(future)\n",
    "\n",
    "# Visualizar las predicciones\n",
    "forecast[['ds', 'yhat', 'yhat_lower', 'yhat_upper']].tail(6)"
   ]
  },
  {
   "cell_type": "code",
   "execution_count": null,
   "id": "ef13e4b3-37c7-492e-bc8c-9f8a9d8a4495",
   "metadata": {},
   "outputs": [],
   "source": [
    "# Paso 8: Graficar los resultados"
   ]
  },
  {
   "cell_type": "code",
   "execution_count": null,
   "id": "e1156e46-4865-4f9c-955c-c1edd58219e7",
   "metadata": {},
   "outputs": [],
   "source": [
    "# Importar biblioteca para graficar\n",
    "import matplotlib.pyplot as plt\n",
    "\n",
    "# Graficar los resultados\n",
    "fig = model.plot(forecast)\n",
    "plt.show()\n"
   ]
  },
  {
   "cell_type": "code",
   "execution_count": null,
   "id": "0c9dd151-e918-4297-9833-50376910d493",
   "metadata": {},
   "outputs": [],
   "source": [
    "Resumen del código completo"
   ]
  },
  {
   "cell_type": "code",
   "execution_count": null,
   "id": "1eafcd2e-1a1f-442c-b9c9-95c8e4775520",
   "metadata": {},
   "outputs": [],
   "source": [
    "import pandas as pd\n",
    "from fbprophet import Prophet\n",
    "import matplotlib.pyplot as plt\n",
    "\n",
    "# Cargar los datos desde archivos de texto delimitados por tabuladores\n",
    "stock_df = pd.read_csv('archivo_01_stock.txt', delimiter='\\t')\n",
    "producto_df = pd.read_csv('archivo_02_producto.txt', delimiter='\\t')\n",
    "ventas_df = pd.read_csv('archivo_03_ventas.txt', delimiter='\\t')\n",
    "\n",
    "# Convertir las columnas a enteros\n",
    "stock_df['stock_final'] = stock_df['stock_final'].astype(int)\n",
    "ventas_df['cust_request_tn'] = ventas_df['cust_request_tn'].astype(int)\n",
    "ventas_df['tn'] = ventas_df['tn'].astype(int)\n",
    "\n",
    "# Unir los DataFrames\n",
    "stock_producto_df = pd.merge(stock_df, producto_df, on='product_id', how='left')\n",
    "final_df = pd.merge(ventas_df, stock_producto_df, on='product_id', how='left')\n",
    "\n",
    "# Convertir la columna 'periodo' a formato de fecha\n",
    "final_df['periodo'] = pd.to_datetime(final_df['periodo'], format='%Y%m')\n",
    "\n",
    "# Agrupar por periodo y sumar las toneladas\n",
    "ts_df = final_df.groupby('periodo')['tn'].sum().reset_index()\n",
    "\n",
    "# Renombrar las columnas para ajustarse a Prophet\n",
    "ts_df.columns = ['ds', 'y']\n",
    "\n",
    "# Crear el modelo Prophet\n",
    "model = Prophet()\n",
    "\n",
    "# Entrenar el modelo con los datos\n",
    "model.fit(ts_df)\n",
    "\n",
    "# Crear un DataFrame con los periodos futuros\n",
    "future = model.make_future_dataframe(periods=6, freq='M')\n",
    "\n",
    "# Hacer las predicciones\n",
    "forecast = model.predict(future)\n",
    "\n",
    "# Visualizar las predicciones\n",
    "forecast[['ds', 'yhat', 'yhat_lower', 'yhat_upper']].tail(6)\n",
    "\n",
    "# Graficar los resultados\n",
    "fig = model.plot(forecast)\n",
    "plt.show()\n"
   ]
  }
 ],
 "metadata": {
  "kernelspec": {
   "display_name": "Python 3 (ipykernel)",
   "language": "python",
   "name": "python3"
  },
  "language_info": {
   "codemirror_mode": {
    "name": "ipython",
    "version": 3
   },
   "file_extension": ".py",
   "mimetype": "text/x-python",
   "name": "python",
   "nbconvert_exporter": "python",
   "pygments_lexer": "ipython3",
   "version": "3.12.3"
  }
 },
 "nbformat": 4,
 "nbformat_minor": 5
}
