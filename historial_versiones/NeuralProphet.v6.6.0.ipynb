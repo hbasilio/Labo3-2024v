{
 "cells": [
  {
   "cell_type": "markdown",
   "metadata": {},
   "source": [
    "<a id = \"1.0\"></a>\n",
    "<p style=\"font-size:25px;color:#34656d;font-family:'Comic Sans MS';text-align:center;border-radius:5px;\">\n",
    "<strong>Neural ProPhet - V6.0</strong></p> "
   ]
  },
  {
   "cell_type": "markdown",
   "metadata": {},
   "source": [
    "<a id = \"1.0\"></a>\n",
    "<p style=\"font-size:25px;color:#34656d;font-family:'Comic Sans MS';text-align:center;border-radius:5px;\">\n",
    "<strong>______________________</strong></p> "
   ]
  },
  {
   "cell_type": "code",
   "execution_count": 1,
   "metadata": {},
   "outputs": [],
   "source": [
    "# Importar las bibliotecas necesarias\n",
    "import pandas as pd\n",
    "from neuralprophet import NeuralProphet\n",
    "import matplotlib.pyplot as plt\n",
    "#\n",
    "import warnings\n",
    "warnings.filterwarnings(\"ignore\")"
   ]
  },
  {
   "cell_type": "code",
   "execution_count": 2,
   "metadata": {},
   "outputs": [
    {
     "name": "stdout",
     "output_type": "stream",
     "text": [
      "   periodo  customer_id  product_id  plan_precios_cuidados  cust_request_qty  cust_request_tn       tn\n",
      "0   201701        10234       20524                      0                 2          0.05300  0.05300\n",
      "1   201701        10032       20524                      0                 1          0.13628  0.13628\n",
      "2   201701        10217       20524                      0                 1          0.03028  0.03028\n",
      "3   201701        10125       20524                      0                 1          0.02271  0.02271\n",
      "4   201701        10012       20524                      0                11          1.54452  1.54452\n",
      "<class 'pandas.core.frame.DataFrame'>\n",
      "RangeIndex: 2945818 entries, 0 to 2945817\n",
      "Data columns (total 7 columns):\n",
      " #   Column                 Dtype  \n",
      "---  ------                 -----  \n",
      " 0   periodo                int64  \n",
      " 1   customer_id            int64  \n",
      " 2   product_id             int64  \n",
      " 3   plan_precios_cuidados  int64  \n",
      " 4   cust_request_qty       int64  \n",
      " 5   cust_request_tn        float64\n",
      " 6   tn                     float64\n",
      "dtypes: float64(2), int64(5)\n",
      "memory usage: 157.3 MB\n",
      "   product_id\n",
      "0       20001\n",
      "1       20002\n",
      "2       20003\n",
      "3       20004\n",
      "4       20005\n",
      "    cat1      cat2         cat3   brand  sku_size  product_id        descripcion\n",
      "0  FOODS  ADEREZOS  Aji Picante  NATURA       240       20609  Salsa Aji Picante\n",
      "1  FOODS  ADEREZOS     Barbacoa  NATURA       250       20266     Salsa Barbacoa\n",
      "2  FOODS  ADEREZOS     Barbacoa  NATURA       400       20325     Salsa Barbacoa\n",
      "3  FOODS  ADEREZOS     Barbacoa  NATURA       500       20503     Salsa Barbacoa\n",
      "4  FOODS  ADEREZOS  Chimichurri  NATURA       350       20797        Chimichurri\n",
      "<class 'pandas.core.frame.DataFrame'>\n",
      "RangeIndex: 1251 entries, 0 to 1250\n",
      "Data columns (total 7 columns):\n",
      " #   Column       Non-Null Count  Dtype \n",
      "---  ------       --------------  ----- \n",
      " 0   cat1         1251 non-null   object\n",
      " 1   cat2         1251 non-null   object\n",
      " 2   cat3         1251 non-null   object\n",
      " 3   brand        1251 non-null   object\n",
      " 4   sku_size     1251 non-null   int64 \n",
      " 5   product_id   1251 non-null   int64 \n",
      " 6   descripcion  1251 non-null   object\n",
      "dtypes: int64(2), object(5)\n",
      "memory usage: 68.5+ KB\n"
     ]
    }
   ],
   "source": [
    "# Lee el archivo como un DataFrame\n",
    "data_full  = pd.read_csv('data/sell-in.csv', delimiter='\\t')\n",
    "df_pid_validos  = pd.read_csv('data/productos_a_predecir.txt')\n",
    "productos_descripcion = pd.read_csv('data/tb_productos_descripcion.txt', delimiter='\\t')\n",
    "\n",
    "# Ajustar el ancho máximo de las columnas\n",
    "pd.set_option('display.max_colwidth', None)\n",
    "\n",
    "# Ajustar el ancho máximo de la visualización\n",
    "pd.set_option('display.width', 1600)\n",
    "\n",
    "# Muestra las primeras filas del DataFrame\n",
    "print(data_full.head())\n",
    "data_full.info()\n",
    "print(df_pid_validos.head())\n",
    "print(productos_descripcion.head())\n",
    "productos_descripcion.info()\n"
   ]
  },
  {
   "cell_type": "code",
   "execution_count": 3,
   "metadata": {},
   "outputs": [
    {
     "name": "stdout",
     "output_type": "stream",
     "text": [
      "La lista product_ids_validos tiene 780 registros.\n"
     ]
    }
   ],
   "source": [
    "# Armado de la lista de productos validos a predecir para el periodo\n",
    "product_ids_validos = df_pid_validos['product_id'].tolist()\n",
    "\n",
    "# Ver cuántos registros tiene la lista\n",
    "num_registros = len(product_ids_validos)\n",
    "print(f\"La lista product_ids_validos tiene {num_registros} registros.\")"
   ]
  },
  {
   "cell_type": "code",
   "execution_count": 4,
   "metadata": {},
   "outputs": [
    {
     "name": "stdout",
     "output_type": "stream",
     "text": [
      "El DataFrame filtrado tiene 2293481 registros.\n",
      "Todos los product_id en el DataFrame filtrado son válidos.\n",
      "Número de registros por product_id en el DataFrame filtrado:\n",
      "product_id\n",
      "20111    7973\n",
      "20122    7950\n",
      "20120    7537\n",
      "20326    7397\n",
      "20132    7199\n",
      "         ... \n",
      "21267      67\n",
      "21252      67\n",
      "21276      64\n",
      "20886      63\n",
      "20953      62\n",
      "Name: count, Length: 780, dtype: int64\n",
      "<class 'pandas.core.frame.DataFrame'>\n",
      "Index: 2293481 entries, 0 to 2945817\n",
      "Data columns (total 7 columns):\n",
      " #   Column                 Dtype  \n",
      "---  ------                 -----  \n",
      " 0   periodo                int64  \n",
      " 1   customer_id            int64  \n",
      " 2   product_id             int64  \n",
      " 3   plan_precios_cuidados  int64  \n",
      " 4   cust_request_qty       int64  \n",
      " 5   cust_request_tn        float64\n",
      " 6   tn                     float64\n",
      "dtypes: float64(2), int64(5)\n",
      "memory usage: 140.0 MB\n"
     ]
    },
    {
     "data": {
      "text/html": [
       "<div>\n",
       "<style scoped>\n",
       "    .dataframe tbody tr th:only-of-type {\n",
       "        vertical-align: middle;\n",
       "    }\n",
       "\n",
       "    .dataframe tbody tr th {\n",
       "        vertical-align: top;\n",
       "    }\n",
       "\n",
       "    .dataframe thead th {\n",
       "        text-align: right;\n",
       "    }\n",
       "</style>\n",
       "<table border=\"1\" class=\"dataframe\">\n",
       "  <thead>\n",
       "    <tr style=\"text-align: right;\">\n",
       "      <th></th>\n",
       "      <th>periodo</th>\n",
       "      <th>customer_id</th>\n",
       "      <th>product_id</th>\n",
       "      <th>plan_precios_cuidados</th>\n",
       "      <th>cust_request_qty</th>\n",
       "      <th>cust_request_tn</th>\n",
       "      <th>tn</th>\n",
       "    </tr>\n",
       "  </thead>\n",
       "  <tbody>\n",
       "    <tr>\n",
       "      <th>0</th>\n",
       "      <td>201701</td>\n",
       "      <td>10234</td>\n",
       "      <td>20524</td>\n",
       "      <td>0</td>\n",
       "      <td>2</td>\n",
       "      <td>0.05300</td>\n",
       "      <td>0.05300</td>\n",
       "    </tr>\n",
       "    <tr>\n",
       "      <th>1</th>\n",
       "      <td>201701</td>\n",
       "      <td>10032</td>\n",
       "      <td>20524</td>\n",
       "      <td>0</td>\n",
       "      <td>1</td>\n",
       "      <td>0.13628</td>\n",
       "      <td>0.13628</td>\n",
       "    </tr>\n",
       "    <tr>\n",
       "      <th>2</th>\n",
       "      <td>201701</td>\n",
       "      <td>10217</td>\n",
       "      <td>20524</td>\n",
       "      <td>0</td>\n",
       "      <td>1</td>\n",
       "      <td>0.03028</td>\n",
       "      <td>0.03028</td>\n",
       "    </tr>\n",
       "    <tr>\n",
       "      <th>3</th>\n",
       "      <td>201701</td>\n",
       "      <td>10125</td>\n",
       "      <td>20524</td>\n",
       "      <td>0</td>\n",
       "      <td>1</td>\n",
       "      <td>0.02271</td>\n",
       "      <td>0.02271</td>\n",
       "    </tr>\n",
       "    <tr>\n",
       "      <th>4</th>\n",
       "      <td>201701</td>\n",
       "      <td>10012</td>\n",
       "      <td>20524</td>\n",
       "      <td>0</td>\n",
       "      <td>11</td>\n",
       "      <td>1.54452</td>\n",
       "      <td>1.54452</td>\n",
       "    </tr>\n",
       "    <tr>\n",
       "      <th>...</th>\n",
       "      <td>...</td>\n",
       "      <td>...</td>\n",
       "      <td>...</td>\n",
       "      <td>...</td>\n",
       "      <td>...</td>\n",
       "      <td>...</td>\n",
       "      <td>...</td>\n",
       "    </tr>\n",
       "    <tr>\n",
       "      <th>2945813</th>\n",
       "      <td>201912</td>\n",
       "      <td>10105</td>\n",
       "      <td>20853</td>\n",
       "      <td>0</td>\n",
       "      <td>1</td>\n",
       "      <td>0.02230</td>\n",
       "      <td>0.02230</td>\n",
       "    </tr>\n",
       "    <tr>\n",
       "      <th>2945814</th>\n",
       "      <td>201912</td>\n",
       "      <td>10092</td>\n",
       "      <td>20853</td>\n",
       "      <td>0</td>\n",
       "      <td>1</td>\n",
       "      <td>0.00669</td>\n",
       "      <td>0.00669</td>\n",
       "    </tr>\n",
       "    <tr>\n",
       "      <th>2945815</th>\n",
       "      <td>201912</td>\n",
       "      <td>10006</td>\n",
       "      <td>20853</td>\n",
       "      <td>0</td>\n",
       "      <td>7</td>\n",
       "      <td>0.02898</td>\n",
       "      <td>0.02898</td>\n",
       "    </tr>\n",
       "    <tr>\n",
       "      <th>2945816</th>\n",
       "      <td>201912</td>\n",
       "      <td>10018</td>\n",
       "      <td>20853</td>\n",
       "      <td>0</td>\n",
       "      <td>4</td>\n",
       "      <td>0.01561</td>\n",
       "      <td>0.01561</td>\n",
       "    </tr>\n",
       "    <tr>\n",
       "      <th>2945817</th>\n",
       "      <td>201912</td>\n",
       "      <td>10020</td>\n",
       "      <td>20853</td>\n",
       "      <td>0</td>\n",
       "      <td>2</td>\n",
       "      <td>0.01561</td>\n",
       "      <td>0.01561</td>\n",
       "    </tr>\n",
       "  </tbody>\n",
       "</table>\n",
       "<p>2293481 rows × 7 columns</p>\n",
       "</div>"
      ],
      "text/plain": [
       "         periodo  customer_id  product_id  plan_precios_cuidados  cust_request_qty  cust_request_tn       tn\n",
       "0         201701        10234       20524                      0                 2          0.05300  0.05300\n",
       "1         201701        10032       20524                      0                 1          0.13628  0.13628\n",
       "2         201701        10217       20524                      0                 1          0.03028  0.03028\n",
       "3         201701        10125       20524                      0                 1          0.02271  0.02271\n",
       "4         201701        10012       20524                      0                11          1.54452  1.54452\n",
       "...          ...          ...         ...                    ...               ...              ...      ...\n",
       "2945813   201912        10105       20853                      0                 1          0.02230  0.02230\n",
       "2945814   201912        10092       20853                      0                 1          0.00669  0.00669\n",
       "2945815   201912        10006       20853                      0                 7          0.02898  0.02898\n",
       "2945816   201912        10018       20853                      0                 4          0.01561  0.01561\n",
       "2945817   201912        10020       20853                      0                 2          0.01561  0.01561\n",
       "\n",
       "[2293481 rows x 7 columns]"
      ]
     },
     "execution_count": 4,
     "metadata": {},
     "output_type": "execute_result"
    }
   ],
   "source": [
    "# Filtrar el DataFrame original para quedarse solo con los product_id válidos\n",
    "data = data_full[data_full['product_id'].isin(product_ids_validos)]\n",
    "\n",
    "# Ver cuántos registros tiene el DataFrame filtrado\n",
    "num_registros_filtrados = len(data)\n",
    "print(f\"El DataFrame filtrado tiene {num_registros_filtrados} registros.\")\n",
    "\n",
    "# Verificar que todos los product_id en el DataFrame filtrado están en la lista de productos válidos\n",
    "productos_unicos_filtrados = data['product_id'].unique()\n",
    "productos_invalidos = [pid for pid in productos_unicos_filtrados if pid not in product_ids_validos]\n",
    "\n",
    "if len(productos_invalidos) == 0:\n",
    "    print(\"Todos los product_id en el DataFrame filtrado son válidos.\")\n",
    "else:\n",
    "    print(f\"Se encontraron productos no válidos en el DataFrame filtrado: {productos_invalidos}\")\n",
    "\n",
    "# (Opcional) Ver cuántos registros hay por cada product_id\n",
    "registros_por_producto = data['product_id'].value_counts()\n",
    "print(\"Número de registros por product_id en el DataFrame filtrado:\")\n",
    "print(registros_por_producto)\n",
    "\n",
    "# Ver como esta el data frame\n",
    "data.info()\n",
    "data"
   ]
  },
  {
   "cell_type": "code",
   "execution_count": 5,
   "metadata": {},
   "outputs": [
    {
     "name": "stdout",
     "output_type": "stream",
     "text": [
      "<class 'pandas.core.frame.DataFrame'>\n",
      "RangeIndex: 2293481 entries, 0 to 2293480\n",
      "Data columns (total 7 columns):\n",
      " #   Column                 Dtype  \n",
      "---  ------                 -----  \n",
      " 0   periodo                int64  \n",
      " 1   customer_id            int64  \n",
      " 2   product_id             int64  \n",
      " 3   plan_precios_cuidados  float64\n",
      " 4   cust_request_qty       float64\n",
      " 5   cust_request_tn        float64\n",
      " 6   tn                     float64\n",
      "dtypes: float64(4), int64(3)\n",
      "memory usage: 122.5 MB\n",
      "None\n",
      "   periodo  customer_id  product_id  plan_precios_cuidados  cust_request_qty  cust_request_tn         tn\n",
      "0   201701        10001       20001                    0.0              11.0         99.43861   99.43861\n",
      "1   201701        10001       20002                    0.0              17.0         90.13504   87.64856\n",
      "2   201701        10001       20003                    0.0              25.0        100.21284  100.21284\n",
      "3   201701        10001       20004                    0.0              13.0         21.73954   21.73954\n",
      "4   201701        10001       20006                    0.0              18.0         31.36770   29.17196\n"
     ]
    }
   ],
   "source": [
    "# Definir una función de agregación personalizada\n",
    "def agg_func(x):\n",
    "    return pd.Series({\n",
    "        'plan_precios_cuidados': x['plan_precios_cuidados'].iloc[0],  # Tomar el primer valor\n",
    "        'cust_request_qty': x['cust_request_qty'].sum(),\n",
    "        'cust_request_tn': x['cust_request_tn'].sum(),\n",
    "        'tn': x['tn'].sum()\n",
    "    })\n",
    "\n",
    "# Agrupar y agregar\n",
    "data_agrupada = data.groupby(['periodo', 'customer_id', 'product_id']).apply(agg_func).reset_index()\n",
    "\n",
    "# Mostrar información sobre el nuevo DataFrame\n",
    "print(data_agrupada.info())\n",
    "\n",
    "# Mostrar las primeras filas del nuevo DataFrame\n",
    "print(data_agrupada.head())"
   ]
  },
  {
   "cell_type": "code",
   "execution_count": 6,
   "metadata": {},
   "outputs": [
    {
     "name": "stdout",
     "output_type": "stream",
     "text": [
      "Productos seleccionados: 2\n",
      "Rango de productos: 20000 - 20002\n",
      "Registros en el DataFrame filtrado: 12172\n",
      "\n",
      "Primeros registros del DataFrame filtrado:\n",
      "     periodo  customer_id  product_id  plan_precios_cuidados  cust_request_qty  cust_request_tn         tn\n",
      "0     201701        10001       20001                    0.0              11.0         99.43861   99.43861\n",
      "1     201701        10001       20002                    0.0              17.0         90.13504   87.64856\n",
      "425   201701        10002       20001                    0.0              17.0         38.68301   35.72806\n",
      "426   201701        10002       20002                    0.0              25.0         23.62160   23.62160\n",
      "870   201701        10003       20001                    0.0              17.0        143.49426  143.49426\n",
      "\n",
      "Resumen de productos incluidos:\n",
      "   product_id     total_tn  total_qty  num_periodos\n",
      "0       20001  50340.39558    15708.0            36\n",
      "1       20002  36337.25439    15222.0            36\n"
     ]
    }
   ],
   "source": [
    "def filter_products(data, product_id_min, product_id_max):\n",
    "    \"\"\"\n",
    "    Filtra el DataFrame para incluir solo los productos dentro del rango especificado.\n",
    "    \n",
    "    Args:\n",
    "    data (pd.DataFrame): El DataFrame a filtrar.\n",
    "    product_id_min (int): El ID de producto mínimo a incluir.\n",
    "    product_id_max (int): El ID de producto máximo a incluir.\n",
    "    \n",
    "    Returns:\n",
    "    pd.DataFrame: DataFrame filtrado.\n",
    "    \"\"\"\n",
    "    filtered = data[(data['product_id'] >= product_id_min) & (data['product_id'] <= product_id_max)]\n",
    "    \n",
    "    print(f\"Productos seleccionados: {filtered['product_id'].nunique()}\")\n",
    "    print(f\"Rango de productos: {product_id_min} - {product_id_max}\")\n",
    "    print(f\"Registros en el DataFrame filtrado: {len(filtered)}\")\n",
    "    \n",
    "    return filtered\n",
    "\n",
    "# Ejemplo de uso\n",
    "product_id_min = 20000\n",
    "product_id_max = 20002\n",
    "filtered_data = filter_products(data_agrupada, product_id_min, product_id_max)\n",
    "\n",
    "# Mostrar los primeros registros del DataFrame filtrado\n",
    "print(\"\\nPrimeros registros del DataFrame filtrado:\")\n",
    "print(filtered_data.head())\n",
    "\n",
    "# Mostrar un resumen de los productos incluidos\n",
    "print(\"\\nResumen de productos incluidos:\")\n",
    "product_summary = filtered_data.groupby('product_id').agg({\n",
    "    'tn': 'sum',\n",
    "    'cust_request_qty': 'sum',\n",
    "    'periodo': 'nunique'\n",
    "}).reset_index()\n",
    "product_summary.columns = ['product_id', 'total_tn', 'total_qty', 'num_periodos']\n",
    "print(product_summary)"
   ]
  },
  {
   "cell_type": "code",
   "execution_count": 7,
   "metadata": {},
   "outputs": [
    {
     "name": "stdout",
     "output_type": "stream",
     "text": [
      "<class 'pandas.core.frame.DataFrame'>\n",
      "RangeIndex: 2 entries, 0 to 1\n",
      "Data columns (total 4 columns):\n",
      " #   Column        Non-Null Count  Dtype  \n",
      "---  ------        --------------  -----  \n",
      " 0   product_id    2 non-null      int64  \n",
      " 1   total_tn      2 non-null      float64\n",
      " 2   total_qty     2 non-null      float64\n",
      " 3   num_periodos  2 non-null      int64  \n",
      "dtypes: float64(2), int64(2)\n",
      "memory usage: 196.0 bytes\n",
      "None\n"
     ]
    }
   ],
   "source": [
    "print(product_summary.info())"
   ]
  },
  {
   "cell_type": "code",
   "execution_count": 8,
   "metadata": {},
   "outputs": [
    {
     "name": "stdout",
     "output_type": "stream",
     "text": [
      "<class 'pandas.core.frame.DataFrame'>\n",
      "Index: 12172 entries, 0 to 2293461\n",
      "Data columns (total 7 columns):\n",
      " #   Column                 Non-Null Count  Dtype  \n",
      "---  ------                 --------------  -----  \n",
      " 0   periodo                12172 non-null  int64  \n",
      " 1   customer_id            12172 non-null  int64  \n",
      " 2   product_id             12172 non-null  int64  \n",
      " 3   plan_precios_cuidados  12172 non-null  float64\n",
      " 4   cust_request_qty       12172 non-null  float64\n",
      " 5   cust_request_tn        12172 non-null  float64\n",
      " 6   tn                     12172 non-null  float64\n",
      "dtypes: float64(4), int64(3)\n",
      "memory usage: 760.8 KB\n",
      "None\n"
     ]
    }
   ],
   "source": [
    "print(filtered_data.info())"
   ]
  },
  {
   "cell_type": "code",
   "execution_count": 9,
   "metadata": {},
   "outputs": [],
   "source": [
    "import pandas as pd\n",
    "import numpy as np\n",
    "from neuralprophet import NeuralProphet\n",
    "from sklearn.preprocessing import StandardScaler\n",
    "from tqdm import tqdm"
   ]
  },
  {
   "cell_type": "code",
   "execution_count": 10,
   "metadata": {},
   "outputs": [],
   "source": [
    "# Convertir 'periodo' a datetime\n",
    "filtered_data['ds'] = pd.to_datetime(filtered_data['periodo'].astype(str), format='%Y%m')\n",
    "\n",
    "# Preparar los regresores\n",
    "regresores = ['plan_precios_cuidados', 'cust_request_qty', 'cust_request_tn']"
   ]
  },
  {
   "cell_type": "code",
   "execution_count": 11,
   "metadata": {},
   "outputs": [],
   "source": [
    "# Función para crear lags\n",
    "def create_lags(df, columns, lags):\n",
    "    for col in columns:\n",
    "        for lag in lags:\n",
    "            df[f'{col}_lag_{lag}'] = df.groupby(['product_id', 'customer_id'])[col].shift(lag)\n",
    "    return df\n",
    "\n",
    "# Crear lags\n",
    "filtered_data = create_lags(filtered_data, regresores + ['tn'], [3, 12])\n",
    "\n",
    "# Normalizar los datos\n",
    "#scaler = StandardScaler()\n",
    "#columns_to_scale = regresores + [col for col in filtered_data.columns if 'lag' in col]\n",
    "#filtered_data[columns_to_scale] = scaler.fit_transform(filtered_data[columns_to_scale])"
   ]
  },
  {
   "cell_type": "code",
   "execution_count": 12,
   "metadata": {},
   "outputs": [],
   "source": [
    "def train_and_predict(group):\n",
    "    try:\n",
    "        # Filtrar regresores con valores únicos\n",
    "        regresores_validos = [col for col in regresores + [c for c in group.columns if 'lag' in c] \n",
    "                              if group[col].nunique() > 1]\n",
    "        \n",
    "        model = NeuralProphet(\n",
    "            n_forecasts=2,\n",
    "            yearly_seasonality=True,\n",
    "            seasonality_mode='multiplicative',\n",
    "            n_lags=12,\n",
    "            batch_size=16,\n",
    "            epochs=1000,\n",
    "            learning_rate=0.1,\n",
    "            loss_func='Huber'\n",
    "        )\n",
    "        \n",
    "        # Agregar estacionalidad trimestral manualmente\n",
    "        model.add_seasonality(name='quarterly', period=91.25, fourier_order=5)\n",
    "        \n",
    "        # Renombrar 'tn' a 'y' para NeuralProphet\n",
    "        df = group[['ds', 'tn'] + regresores_validos].dropna()\n",
    "        df = df.rename(columns={'tn': 'y'})\n",
    "        \n",
    "        if len(df) < 24:  # Asegurar que haya suficientes datos para entrenar\n",
    "            return np.nan\n",
    "        \n",
    "        # Imprimir estadísticas de los datos de entrenamiento\n",
    "        print(f\"Estadísticas para product_id {group['product_id'].iloc[0]}, customer_id {group['customer_id'].iloc[0]}:\")\n",
    "        print(df['y'].describe())\n",
    "        \n",
    "        # Crear datos futuros para los regresores\n",
    "        future_periods = 2\n",
    "        future_df = pd.DataFrame({\n",
    "            'ds': pd.date_range(start=df['ds'].max(), periods=future_periods+1, freq='M')[1:],\n",
    "            'y': [np.nan] * future_periods\n",
    "        })\n",
    "        \n",
    "        for reg in regresores_validos:\n",
    "            if reg in df.columns:\n",
    "                model.add_future_regressor(reg)\n",
    "                # Usar el último valor conocido para los datos futuros\n",
    "                future_df[reg] = df[reg].iloc[-1]\n",
    "        \n",
    "        model.fit(df, freq='M')\n",
    "        \n",
    "        future = model.make_future_dataframe(df, periods=future_periods, n_historic_predictions=len(df))\n",
    "        future = pd.concat([future, future_df[regresores_validos]], axis=1)\n",
    "        \n",
    "        forecast = model.predict(future)\n",
    "        \n",
    "        prediction = forecast['yhat2'].iloc[-1]\n",
    "        \n",
    "        # Si la predicción es cero, usar el último valor no cero conocido\n",
    "        if prediction == 0:\n",
    "            last_non_zero = df['y'].replace(0, np.nan).dropna().iloc[-1] if len(df['y'].replace(0, np.nan).dropna()) > 0 else df['y'].mean()\n",
    "            prediction = last_non_zero\n",
    "        \n",
    "        print(f\"Predicción para product_id {group['product_id'].iloc[0]}, customer_id {group['customer_id'].iloc[0]}: {prediction}\")\n",
    "        \n",
    "        return prediction\n",
    "    except Exception as e:\n",
    "        print(f\"Error en product_id {group['product_id'].iloc[0]}, customer_id {group['customer_id'].iloc[0]}: {str(e)}\")\n",
    "        return np.nan"
   ]
  },
  {
   "cell_type": "code",
   "execution_count": 13,
   "metadata": {
    "scrolled": true
   },
   "outputs": [
    {
     "name": "stderr",
     "output_type": "stream",
     "text": [
      "  0%|                                                                                           | 0/11 [00:00<?, ?it/s]WARNING - (NP.forecaster.fit) - When Global modeling with local normalization, metrics are displayed in normalized scale.\n",
      "INFO - (NP.df_utils._infer_frequency) - Major frequency MS corresponds to [95.833]% of the data.\n",
      "INFO - (NP.df_utils._infer_frequency) - Defined frequency is equal to major frequency - MS\n",
      "INFO - (NP.config.init_data_params) - Setting normalization to global as only one dataframe provided for training.\n",
      "INFO - (NP.utils.set_auto_seasonalities) - Disabling weekly seasonality. Run NeuralProphet with weekly_seasonality=True to override this.\n",
      "INFO - (NP.utils.set_auto_seasonalities) - Disabling daily seasonality. Run NeuralProphet with daily_seasonality=True to override this.\n"
     ]
    },
    {
     "name": "stdout",
     "output_type": "stream",
     "text": [
      "Estadísticas para product_id 20001, customer_id 10001:\n",
      "count     24.000000\n",
      "mean     200.668123\n",
      "std      111.671781\n",
      "min       33.639910\n",
      "25%      125.175063\n",
      "50%      178.124590\n",
      "75%      254.982197\n",
      "max      439.906470\n",
      "Name: y, dtype: float64\n"
     ]
    },
    {
     "data": {
      "application/vnd.jupyter.widget-view+json": {
       "model_id": "355368462c4b47c197db36b3cf2d797a",
       "version_major": 2,
       "version_minor": 0
      },
      "text/plain": [
       "Training: 0it [00:00, ?it/s]"
      ]
     },
     "metadata": {},
     "output_type": "display_data"
    },
    {
     "name": "stderr",
     "output_type": "stream",
     "text": [
      "INFO - (NP.df_utils._infer_frequency) - Major frequency MS corresponds to [95.833]% of the data.\n",
      "INFO - (NP.df_utils._infer_frequency) - Defined frequency is equal to major frequency - MS\n",
      " 18%|███████████████                                                                    | 2/11 [00:15<01:08,  7.62s/it]WARNING - (NP.forecaster.fit) - When Global modeling with local normalization, metrics are displayed in normalized scale.\n",
      "INFO - (NP.df_utils._infer_frequency) - Major frequency MS corresponds to [95.833]% of the data.\n",
      "INFO - (NP.df_utils._infer_frequency) - Defined frequency is equal to major frequency - MS\n",
      "INFO - (NP.config.init_data_params) - Setting normalization to global as only one dataframe provided for training.\n",
      "INFO - (NP.utils.set_auto_seasonalities) - Disabling weekly seasonality. Run NeuralProphet with weekly_seasonality=True to override this.\n",
      "INFO - (NP.utils.set_auto_seasonalities) - Disabling daily seasonality. Run NeuralProphet with daily_seasonality=True to override this.\n"
     ]
    },
    {
     "name": "stdout",
     "output_type": "stream",
     "text": [
      "Error en product_id 20001, customer_id 10001: Future values of all user specified regressors not provided\n",
      "Estadísticas para product_id 20001, customer_id 10004:\n",
      "count     24.000000\n",
      "mean     210.812270\n",
      "std      120.659469\n",
      "min       34.648100\n",
      "25%      101.012135\n",
      "50%      193.376250\n",
      "75%      288.325250\n",
      "max      469.457610\n",
      "Name: y, dtype: float64\n"
     ]
    },
    {
     "data": {
      "application/vnd.jupyter.widget-view+json": {
       "model_id": "753f0dfef44b446db08af180fa340197",
       "version_major": 2,
       "version_minor": 0
      },
      "text/plain": [
       "Training: 0it [00:00, ?it/s]"
      ]
     },
     "metadata": {},
     "output_type": "display_data"
    },
    {
     "name": "stderr",
     "output_type": "stream",
     "text": [
      "INFO - (NP.df_utils._infer_frequency) - Major frequency MS corresponds to [95.833]% of the data.\n",
      "INFO - (NP.df_utils._infer_frequency) - Defined frequency is equal to major frequency - MS\n",
      " 27%|██████████████████████▋                                                            | 3/11 [00:25<01:08,  8.62s/it]WARNING - (NP.forecaster.fit) - When Global modeling with local normalization, metrics are displayed in normalized scale.\n",
      "INFO - (NP.df_utils._infer_frequency) - Major frequency MS corresponds to [95.833]% of the data.\n",
      "INFO - (NP.df_utils._infer_frequency) - Defined frequency is equal to major frequency - MS\n",
      "INFO - (NP.config.init_data_params) - Setting normalization to global as only one dataframe provided for training.\n",
      "INFO - (NP.utils.set_auto_seasonalities) - Disabling weekly seasonality. Run NeuralProphet with weekly_seasonality=True to override this.\n",
      "INFO - (NP.utils.set_auto_seasonalities) - Disabling daily seasonality. Run NeuralProphet with daily_seasonality=True to override this.\n"
     ]
    },
    {
     "name": "stdout",
     "output_type": "stream",
     "text": [
      "Error en product_id 20001, customer_id 10004: Future values of all user specified regressors not provided\n",
      "Estadísticas para product_id 20001, customer_id 10007:\n",
      "count     24.000000\n",
      "mean     121.059838\n",
      "std       47.297262\n",
      "min       49.484250\n",
      "25%       89.871387\n",
      "50%      108.811600\n",
      "75%      148.483837\n",
      "max      243.242400\n",
      "Name: y, dtype: float64\n"
     ]
    },
    {
     "data": {
      "application/vnd.jupyter.widget-view+json": {
       "model_id": "0f25705cabce4f14bace0df55c8fe457",
       "version_major": 2,
       "version_minor": 0
      },
      "text/plain": [
       "Training: 0it [00:00, ?it/s]"
      ]
     },
     "metadata": {},
     "output_type": "display_data"
    },
    {
     "name": "stderr",
     "output_type": "stream",
     "text": [
      "INFO - (NP.df_utils._infer_frequency) - Major frequency MS corresponds to [95.833]% of the data.\n",
      "INFO - (NP.df_utils._infer_frequency) - Defined frequency is equal to major frequency - MS\n",
      " 36%|██████████████████████████████▏                                                    | 4/11 [00:35<01:04,  9.22s/it]WARNING - (NP.forecaster.fit) - When Global modeling with local normalization, metrics are displayed in normalized scale.\n",
      "INFO - (NP.df_utils._infer_frequency) - Major frequency MS corresponds to [95.833]% of the data.\n",
      "INFO - (NP.df_utils._infer_frequency) - Defined frequency is equal to major frequency - MS\n",
      "INFO - (NP.config.init_data_params) - Setting normalization to global as only one dataframe provided for training.\n",
      "INFO - (NP.utils.set_auto_seasonalities) - Disabling weekly seasonality. Run NeuralProphet with weekly_seasonality=True to override this.\n",
      "INFO - (NP.utils.set_auto_seasonalities) - Disabling daily seasonality. Run NeuralProphet with daily_seasonality=True to override this.\n"
     ]
    },
    {
     "name": "stdout",
     "output_type": "stream",
     "text": [
      "Error en product_id 20001, customer_id 10007: Future values of all user specified regressors not provided\n",
      "Estadísticas para product_id 20001, customer_id 10009:\n",
      "count    24.000000\n",
      "mean     21.168835\n",
      "std      11.121252\n",
      "min       5.152970\n",
      "25%      11.737000\n",
      "50%      22.583430\n",
      "75%      28.842610\n",
      "max      41.156520\n",
      "Name: y, dtype: float64\n"
     ]
    },
    {
     "data": {
      "application/vnd.jupyter.widget-view+json": {
       "model_id": "06731705efc5427185760bd73dc20559",
       "version_major": 2,
       "version_minor": 0
      },
      "text/plain": [
       "Training: 0it [00:00, ?it/s]"
      ]
     },
     "metadata": {},
     "output_type": "display_data"
    },
    {
     "name": "stderr",
     "output_type": "stream",
     "text": [
      "INFO - (NP.df_utils._infer_frequency) - Major frequency MS corresponds to [95.833]% of the data.\n",
      "INFO - (NP.df_utils._infer_frequency) - Defined frequency is equal to major frequency - MS\n",
      " 45%|█████████████████████████████████████▋                                             | 5/11 [00:45<00:57,  9.51s/it]WARNING - (NP.forecaster.fit) - When Global modeling with local normalization, metrics are displayed in normalized scale.\n",
      "INFO - (NP.df_utils._infer_frequency) - Major frequency MS corresponds to [95.833]% of the data.\n",
      "INFO - (NP.df_utils._infer_frequency) - Defined frequency is equal to major frequency - MS\n",
      "INFO - (NP.config.init_data_params) - Setting normalization to global as only one dataframe provided for training.\n",
      "INFO - (NP.utils.set_auto_seasonalities) - Disabling weekly seasonality. Run NeuralProphet with weekly_seasonality=True to override this.\n",
      "INFO - (NP.utils.set_auto_seasonalities) - Disabling daily seasonality. Run NeuralProphet with daily_seasonality=True to override this.\n"
     ]
    },
    {
     "name": "stdout",
     "output_type": "stream",
     "text": [
      "Error en product_id 20001, customer_id 10009: Future values of all user specified regressors not provided\n",
      "Estadísticas para product_id 20001, customer_id 10013:\n",
      "count     24.000000\n",
      "mean     108.961199\n",
      "std       53.454312\n",
      "min       16.019000\n",
      "25%       81.512078\n",
      "50%      106.203250\n",
      "75%      127.941983\n",
      "max      243.981740\n",
      "Name: y, dtype: float64\n"
     ]
    },
    {
     "data": {
      "application/vnd.jupyter.widget-view+json": {
       "model_id": "6a4e74f157f241eeadbc5f335b9dd584",
       "version_major": 2,
       "version_minor": 0
      },
      "text/plain": [
       "Training: 0it [00:00, ?it/s]"
      ]
     },
     "metadata": {},
     "output_type": "display_data"
    },
    {
     "name": "stderr",
     "output_type": "stream",
     "text": [
      "INFO - (NP.df_utils._infer_frequency) - Major frequency MS corresponds to [95.833]% of the data.\n",
      "INFO - (NP.df_utils._infer_frequency) - Defined frequency is equal to major frequency - MS\n",
      " 55%|█████████████████████████████████████████████▎                                     | 6/11 [00:55<00:48,  9.73s/it]WARNING - (NP.forecaster.fit) - When Global modeling with local normalization, metrics are displayed in normalized scale.\n",
      "INFO - (NP.df_utils._infer_frequency) - Major frequency MS corresponds to [95.833]% of the data.\n",
      "INFO - (NP.df_utils._infer_frequency) - Defined frequency is equal to major frequency - MS\n",
      "INFO - (NP.config.init_data_params) - Setting normalization to global as only one dataframe provided for training.\n",
      "INFO - (NP.utils.set_auto_seasonalities) - Disabling weekly seasonality. Run NeuralProphet with weekly_seasonality=True to override this.\n",
      "INFO - (NP.utils.set_auto_seasonalities) - Disabling daily seasonality. Run NeuralProphet with daily_seasonality=True to override this.\n"
     ]
    },
    {
     "name": "stdout",
     "output_type": "stream",
     "text": [
      "Error en product_id 20001, customer_id 10013: Future values of all user specified regressors not provided\n",
      "Estadísticas para product_id 20001, customer_id 10059:\n",
      "count    24.000000\n",
      "mean      2.527446\n",
      "std       1.525269\n",
      "min       0.246450\n",
      "25%       1.534685\n",
      "50%       2.453260\n",
      "75%       3.329827\n",
      "max       6.978910\n",
      "Name: y, dtype: float64\n"
     ]
    },
    {
     "data": {
      "application/vnd.jupyter.widget-view+json": {
       "model_id": "9dcab08cc90b4edd96b4456adbb6e807",
       "version_major": 2,
       "version_minor": 0
      },
      "text/plain": [
       "Training: 0it [00:00, ?it/s]"
      ]
     },
     "metadata": {},
     "output_type": "display_data"
    },
    {
     "name": "stderr",
     "output_type": "stream",
     "text": [
      "INFO - (NP.df_utils._infer_frequency) - Major frequency MS corresponds to [95.833]% of the data.\n",
      "INFO - (NP.df_utils._infer_frequency) - Defined frequency is equal to major frequency - MS\n",
      " 64%|████████████████████████████████████████████████████▊                              | 7/11 [01:06<00:40, 10.20s/it]WARNING - (NP.forecaster.fit) - When Global modeling with local normalization, metrics are displayed in normalized scale.\n",
      "INFO - (NP.df_utils._infer_frequency) - Major frequency MS corresponds to [95.833]% of the data.\n",
      "INFO - (NP.df_utils._infer_frequency) - Defined frequency is equal to major frequency - MS\n",
      "INFO - (NP.config.init_data_params) - Setting normalization to global as only one dataframe provided for training.\n",
      "INFO - (NP.utils.set_auto_seasonalities) - Disabling weekly seasonality. Run NeuralProphet with weekly_seasonality=True to override this.\n",
      "INFO - (NP.utils.set_auto_seasonalities) - Disabling daily seasonality. Run NeuralProphet with daily_seasonality=True to override this.\n"
     ]
    },
    {
     "name": "stdout",
     "output_type": "stream",
     "text": [
      "Error en product_id 20001, customer_id 10059: Future values of all user specified regressors not provided\n",
      "Estadísticas para product_id 20002, customer_id 10001:\n",
      "count     24.000000\n",
      "mean     229.675878\n",
      "std      106.514775\n",
      "min       75.487850\n",
      "25%      154.644655\n",
      "50%      218.924845\n",
      "75%      266.163355\n",
      "max      547.878490\n",
      "Name: y, dtype: float64\n"
     ]
    },
    {
     "data": {
      "application/vnd.jupyter.widget-view+json": {
       "model_id": "e0d9ddef0ee4497b8902f7d65b609023",
       "version_major": 2,
       "version_minor": 0
      },
      "text/plain": [
       "Training: 0it [00:00, ?it/s]"
      ]
     },
     "metadata": {},
     "output_type": "display_data"
    },
    {
     "name": "stderr",
     "output_type": "stream",
     "text": [
      "INFO - (NP.df_utils._infer_frequency) - Major frequency MS corresponds to [95.833]% of the data.\n",
      "INFO - (NP.df_utils._infer_frequency) - Defined frequency is equal to major frequency - MS\n",
      " 73%|████████████████████████████████████████████████████████████▎                      | 8/11 [01:17<00:30, 10.25s/it]WARNING - (NP.forecaster.fit) - When Global modeling with local normalization, metrics are displayed in normalized scale.\n",
      "INFO - (NP.df_utils._infer_frequency) - Major frequency MS corresponds to [95.833]% of the data.\n",
      "INFO - (NP.df_utils._infer_frequency) - Defined frequency is equal to major frequency - MS\n",
      "INFO - (NP.config.init_data_params) - Setting normalization to global as only one dataframe provided for training.\n",
      "INFO - (NP.utils.set_auto_seasonalities) - Disabling weekly seasonality. Run NeuralProphet with weekly_seasonality=True to override this.\n",
      "INFO - (NP.utils.set_auto_seasonalities) - Disabling daily seasonality. Run NeuralProphet with daily_seasonality=True to override this.\n"
     ]
    },
    {
     "name": "stdout",
     "output_type": "stream",
     "text": [
      "Error en product_id 20002, customer_id 10001: Future values of all user specified regressors not provided\n",
      "Estadísticas para product_id 20002, customer_id 10003:\n",
      "count     24.000000\n",
      "mean      73.783156\n",
      "std       67.085979\n",
      "min        2.455250\n",
      "25%        9.966098\n",
      "50%       63.501770\n",
      "75%      113.466268\n",
      "max      232.211120\n",
      "Name: y, dtype: float64\n"
     ]
    },
    {
     "data": {
      "application/vnd.jupyter.widget-view+json": {
       "model_id": "364af46dfb554deda0ac6685dcf51bc0",
       "version_major": 2,
       "version_minor": 0
      },
      "text/plain": [
       "Training: 0it [00:00, ?it/s]"
      ]
     },
     "metadata": {},
     "output_type": "display_data"
    },
    {
     "name": "stderr",
     "output_type": "stream",
     "text": [
      "INFO - (NP.df_utils._infer_frequency) - Major frequency MS corresponds to [95.833]% of the data.\n",
      "INFO - (NP.df_utils._infer_frequency) - Defined frequency is equal to major frequency - MS\n",
      " 82%|███████████████████████████████████████████████████████████████████▉               | 9/11 [01:27<00:20, 10.29s/it]WARNING - (NP.forecaster.fit) - When Global modeling with local normalization, metrics are displayed in normalized scale.\n",
      "INFO - (NP.df_utils._infer_frequency) - Major frequency MS corresponds to [95.833]% of the data.\n",
      "INFO - (NP.df_utils._infer_frequency) - Defined frequency is equal to major frequency - MS\n",
      "INFO - (NP.config.init_data_params) - Setting normalization to global as only one dataframe provided for training.\n",
      "INFO - (NP.utils.set_auto_seasonalities) - Disabling weekly seasonality. Run NeuralProphet with weekly_seasonality=True to override this.\n",
      "INFO - (NP.utils.set_auto_seasonalities) - Disabling daily seasonality. Run NeuralProphet with daily_seasonality=True to override this.\n"
     ]
    },
    {
     "name": "stdout",
     "output_type": "stream",
     "text": [
      "Error en product_id 20002, customer_id 10003: Future values of all user specified regressors not provided\n",
      "Estadísticas para product_id 20002, customer_id 10004:\n",
      "count     24.000000\n",
      "mean     114.934654\n",
      "std       79.457837\n",
      "min        5.892600\n",
      "25%       59.210640\n",
      "50%       99.102935\n",
      "75%      145.130535\n",
      "max      345.454070\n",
      "Name: y, dtype: float64\n"
     ]
    },
    {
     "data": {
      "application/vnd.jupyter.widget-view+json": {
       "model_id": "113f43de8f1d48af80ed3c5d0e5c338b",
       "version_major": 2,
       "version_minor": 0
      },
      "text/plain": [
       "Training: 0it [00:00, ?it/s]"
      ]
     },
     "metadata": {},
     "output_type": "display_data"
    },
    {
     "name": "stderr",
     "output_type": "stream",
     "text": [
      "INFO - (NP.df_utils._infer_frequency) - Major frequency MS corresponds to [95.833]% of the data.\n",
      "INFO - (NP.df_utils._infer_frequency) - Defined frequency is equal to major frequency - MS\n",
      " 91%|██████████████████████████████████████████████████████████████████████████▌       | 10/11 [01:38<00:10, 10.44s/it]WARNING - (NP.forecaster.fit) - When Global modeling with local normalization, metrics are displayed in normalized scale.\n",
      "INFO - (NP.df_utils._infer_frequency) - Major frequency MS corresponds to [95.833]% of the data.\n",
      "INFO - (NP.df_utils._infer_frequency) - Defined frequency is equal to major frequency - MS\n",
      "INFO - (NP.config.init_data_params) - Setting normalization to global as only one dataframe provided for training.\n",
      "INFO - (NP.utils.set_auto_seasonalities) - Disabling weekly seasonality. Run NeuralProphet with weekly_seasonality=True to override this.\n",
      "INFO - (NP.utils.set_auto_seasonalities) - Disabling daily seasonality. Run NeuralProphet with daily_seasonality=True to override this.\n"
     ]
    },
    {
     "name": "stdout",
     "output_type": "stream",
     "text": [
      "Error en product_id 20002, customer_id 10004: Future values of all user specified regressors not provided\n",
      "Estadísticas para product_id 20002, customer_id 10008:\n",
      "count     24.000000\n",
      "mean      47.201829\n",
      "std       33.903485\n",
      "min        1.841440\n",
      "25%       22.098337\n",
      "50%       40.818575\n",
      "75%       55.918382\n",
      "max      125.831710\n",
      "Name: y, dtype: float64\n"
     ]
    },
    {
     "data": {
      "application/vnd.jupyter.widget-view+json": {
       "model_id": "ac5aed970c7d4c1aac9c1c0cdb80ef9b",
       "version_major": 2,
       "version_minor": 0
      },
      "text/plain": [
       "Training: 0it [00:00, ?it/s]"
      ]
     },
     "metadata": {},
     "output_type": "display_data"
    },
    {
     "name": "stderr",
     "output_type": "stream",
     "text": [
      "INFO - (NP.df_utils._infer_frequency) - Major frequency MS corresponds to [95.833]% of the data.\n",
      "INFO - (NP.df_utils._infer_frequency) - Defined frequency is equal to major frequency - MS\n",
      "100%|██████████████████████████████████████████████████████████████████████████████████| 11/11 [01:48<00:00, 10.42s/it]WARNING - (NP.forecaster.fit) - When Global modeling with local normalization, metrics are displayed in normalized scale.\n",
      "INFO - (NP.df_utils._infer_frequency) - Major frequency MS corresponds to [95.833]% of the data.\n",
      "INFO - (NP.df_utils._infer_frequency) - Defined frequency is equal to major frequency - MS\n",
      "INFO - (NP.config.init_data_params) - Setting normalization to global as only one dataframe provided for training.\n",
      "INFO - (NP.utils.set_auto_seasonalities) - Disabling weekly seasonality. Run NeuralProphet with weekly_seasonality=True to override this.\n",
      "INFO - (NP.utils.set_auto_seasonalities) - Disabling daily seasonality. Run NeuralProphet with daily_seasonality=True to override this.\n"
     ]
    },
    {
     "name": "stdout",
     "output_type": "stream",
     "text": [
      "Error en product_id 20002, customer_id 10008: Future values of all user specified regressors not provided\n",
      "Estadísticas para product_id 20002, customer_id 10159:\n",
      "count    24.000000\n",
      "mean      1.407587\n",
      "std       1.062401\n",
      "min       0.044640\n",
      "25%       0.842595\n",
      "50%       1.227625\n",
      "75%       1.632183\n",
      "max       4.653820\n",
      "Name: y, dtype: float64\n"
     ]
    },
    {
     "data": {
      "application/vnd.jupyter.widget-view+json": {
       "model_id": "0524d7e5e2e94e0b8c2ad3e4ffa37d57",
       "version_major": 2,
       "version_minor": 0
      },
      "text/plain": [
       "Training: 0it [00:00, ?it/s]"
      ]
     },
     "metadata": {},
     "output_type": "display_data"
    },
    {
     "name": "stderr",
     "output_type": "stream",
     "text": [
      "INFO - (NP.df_utils._infer_frequency) - Major frequency MS corresponds to [95.833]% of the data.\n",
      "INFO - (NP.df_utils._infer_frequency) - Defined frequency is equal to major frequency - MS\n",
      "100%|██████████████████████████████████████████████████████████████████████████████████| 11/11 [01:59<00:00, 10.90s/it]"
     ]
    },
    {
     "name": "stdout",
     "output_type": "stream",
     "text": [
      "Error en product_id 20002, customer_id 10159: Future values of all user specified regressors not provided\n",
      "Predicciones finales:\n",
      "Empty DataFrame\n",
      "Columns: [product_id, tn]\n",
      "Index: []\n",
      "Predicciones guardadas en 'NeuralProphet.v6.6.csv'\n",
      "Forma final de final_predictions: (0, 2)\n",
      "Columnas finales en final_predictions: ['product_id', 'tn']\n"
     ]
    },
    {
     "name": "stderr",
     "output_type": "stream",
     "text": [
      "\n"
     ]
    }
   ],
   "source": [
    "# Filtrar grupos con suficientes datos antes de aplicar train_and_predict\n",
    "def has_enough_data(group):\n",
    "    return len(group.dropna()) >= 24\n",
    "\n",
    "tqdm.pandas()\n",
    "predictions = filtered_data.groupby(['product_id', 'customer_id']).filter(has_enough_data).groupby(['product_id', 'customer_id']).progress_apply(train_and_predict)\n",
    "\n",
    "# Manejar los NaN en las predicciones\n",
    "predictions = predictions.dropna()\n",
    "\n",
    "# Sumar las predicciones por product_id\n",
    "final_predictions = predictions.groupby('product_id').sum().reset_index()\n",
    "final_predictions.columns = ['product_id', 'tn']\n",
    "\n",
    "# Imprimir las predicciones finales\n",
    "print(\"Predicciones finales:\")\n",
    "print(final_predictions)\n",
    "\n",
    "# Verificar si hay predicciones de cero o muy bajas\n",
    "low_predictions = final_predictions[final_predictions['tn'] < 100]  # Ajusta este umbral según tus necesidades\n",
    "if not low_predictions.empty:\n",
    "    print(\"Advertencia: Se encontraron predicciones bajas para los siguientes product_id:\")\n",
    "    print(low_predictions)\n",
    "\n",
    "# Guardar las predicciones en un archivo CSV\n",
    "final_predictions.to_csv('NeuralProphet.v6.6.csv', index=False)\n",
    "print(\"Predicciones guardadas en 'NeuralProphet.v6.6.csv'\")\n",
    "\n",
    "# Imprimir información adicional de depuración\n",
    "print(\"Forma final de final_predictions:\", final_predictions.shape)\n",
    "print(\"Columnas finales en final_predictions:\", final_predictions.columns.tolist())"
   ]
  },
  {
   "cell_type": "markdown",
   "metadata": {},
   "source": [
    "<a id = \"1.0\"></a>\n",
    "<p style=\"font-size:25px;color:#34656d;font-family:'Comic Sans MS';text-align:center;border-radius:5px;\">\n",
    "<strong>______________________</strong></p> "
   ]
  },
  {
   "cell_type": "code",
   "execution_count": null,
   "metadata": {},
   "outputs": [],
   "source": []
  }
 ],
 "metadata": {
  "kernelspec": {
   "display_name": "Python 3 (ipykernel)",
   "language": "python",
   "name": "python3"
  },
  "language_info": {
   "codemirror_mode": {
    "name": "ipython",
    "version": 3
   },
   "file_extension": ".py",
   "mimetype": "text/x-python",
   "name": "python",
   "nbconvert_exporter": "python",
   "pygments_lexer": "ipython3",
   "version": "3.12.3"
  }
 },
 "nbformat": 4,
 "nbformat_minor": 4
}
