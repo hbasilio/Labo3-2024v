{
 "cells": [
  {
   "cell_type": "code",
   "execution_count": 2,
   "id": "1cefbd03-4589-4ed1-945c-6fa954140f96",
   "metadata": {},
   "outputs": [
    {
     "name": "stdout",
     "output_type": "stream",
     "text": [
      "   periodo  customer_id  product_id  plan_precios_cuidados  cust_request_qty  \\\n",
      "0   201701        10234       20524                      0                 2   \n",
      "1   201701        10032       20524                      0                 1   \n",
      "2   201701        10217       20524                      0                 1   \n",
      "3   201701        10125       20524                      0                 1   \n",
      "4   201701        10012       20524                      0                11   \n",
      "\n",
      "   cust_request_tn       tn  \n",
      "0          0.05300  0.05300  \n",
      "1          0.13628  0.13628  \n",
      "2          0.03028  0.03028  \n",
      "3          0.02271  0.02271  \n",
      "4          1.54452  1.54452  \n",
      "   product_id\n",
      "0       20001\n",
      "1       20002\n",
      "2       20003\n",
      "3       20004\n",
      "4       20005\n"
     ]
    }
   ],
   "source": [
    "import pandas as pd\n",
    "import pmdarima as pm\n",
    "from datetime import datetime\n",
    "from pmdarima import model_selection\n",
    "\n",
    "# Lee el archivo como un DataFrame\n",
    "#df = pd.read_csv('/Users/micaelabassan/Desktop/fundamentos/Labo 3/sell-in.txt', delimiter='\\t',  decimal='.')  # Cambia el delimitador si es necesario\n",
    "df  = pd.read_csv('data/sell-in.csv', delimiter='\\t', decimal='.')\n",
    "df_pid_validos  = pd.read_csv('data/productos_a_predecir.txt')\n",
    "# Muestra las primeras filas del DataFrame\n",
    "print(df.head())\n",
    "print(df_pid_validos.head())"
   ]
  },
  {
   "cell_type": "code",
   "execution_count": 3,
   "id": "29204a15-4ba1-45a1-a933-48b7721b45f1",
   "metadata": {},
   "outputs": [],
   "source": [
    "product_ids_validos = df_pid_validos['product_id'].tolist()"
   ]
  },
  {
   "cell_type": "code",
   "execution_count": 4,
   "id": "b07097e8-0072-4974-bc08-30cc026e2bdc",
   "metadata": {},
   "outputs": [
    {
     "data": {
      "text/html": [
       "<div>\n",
       "<style scoped>\n",
       "    .dataframe tbody tr th:only-of-type {\n",
       "        vertical-align: middle;\n",
       "    }\n",
       "\n",
       "    .dataframe tbody tr th {\n",
       "        vertical-align: top;\n",
       "    }\n",
       "\n",
       "    .dataframe thead th {\n",
       "        text-align: right;\n",
       "    }\n",
       "</style>\n",
       "<table border=\"1\" class=\"dataframe\">\n",
       "  <thead>\n",
       "    <tr style=\"text-align: right;\">\n",
       "      <th></th>\n",
       "      <th>periodo</th>\n",
       "      <th>customer_id</th>\n",
       "      <th>product_id</th>\n",
       "      <th>plan_precios_cuidados</th>\n",
       "      <th>cust_request_qty</th>\n",
       "      <th>cust_request_tn</th>\n",
       "      <th>tn</th>\n",
       "    </tr>\n",
       "  </thead>\n",
       "  <tbody>\n",
       "    <tr>\n",
       "      <th>0</th>\n",
       "      <td>201701</td>\n",
       "      <td>10234</td>\n",
       "      <td>20524</td>\n",
       "      <td>0</td>\n",
       "      <td>2</td>\n",
       "      <td>0.05300</td>\n",
       "      <td>0.05300</td>\n",
       "    </tr>\n",
       "    <tr>\n",
       "      <th>1</th>\n",
       "      <td>201701</td>\n",
       "      <td>10032</td>\n",
       "      <td>20524</td>\n",
       "      <td>0</td>\n",
       "      <td>1</td>\n",
       "      <td>0.13628</td>\n",
       "      <td>0.13628</td>\n",
       "    </tr>\n",
       "    <tr>\n",
       "      <th>2</th>\n",
       "      <td>201701</td>\n",
       "      <td>10217</td>\n",
       "      <td>20524</td>\n",
       "      <td>0</td>\n",
       "      <td>1</td>\n",
       "      <td>0.03028</td>\n",
       "      <td>0.03028</td>\n",
       "    </tr>\n",
       "    <tr>\n",
       "      <th>3</th>\n",
       "      <td>201701</td>\n",
       "      <td>10125</td>\n",
       "      <td>20524</td>\n",
       "      <td>0</td>\n",
       "      <td>1</td>\n",
       "      <td>0.02271</td>\n",
       "      <td>0.02271</td>\n",
       "    </tr>\n",
       "    <tr>\n",
       "      <th>4</th>\n",
       "      <td>201701</td>\n",
       "      <td>10012</td>\n",
       "      <td>20524</td>\n",
       "      <td>0</td>\n",
       "      <td>11</td>\n",
       "      <td>1.54452</td>\n",
       "      <td>1.54452</td>\n",
       "    </tr>\n",
       "  </tbody>\n",
       "</table>\n",
       "</div>"
      ],
      "text/plain": [
       "   periodo  customer_id  product_id  plan_precios_cuidados  cust_request_qty  \\\n",
       "0   201701        10234       20524                      0                 2   \n",
       "1   201701        10032       20524                      0                 1   \n",
       "2   201701        10217       20524                      0                 1   \n",
       "3   201701        10125       20524                      0                 1   \n",
       "4   201701        10012       20524                      0                11   \n",
       "\n",
       "   cust_request_tn       tn  \n",
       "0          0.05300  0.05300  \n",
       "1          0.13628  0.13628  \n",
       "2          0.03028  0.03028  \n",
       "3          0.02271  0.02271  \n",
       "4          1.54452  1.54452  "
      ]
     },
     "execution_count": 4,
     "metadata": {},
     "output_type": "execute_result"
    }
   ],
   "source": [
    "df.head()"
   ]
  },
  {
   "cell_type": "code",
   "execution_count": 5,
   "id": "86f7b137-dee5-4830-9384-11600003bfd0",
   "metadata": {},
   "outputs": [
    {
     "name": "stdout",
     "output_type": "stream",
     "text": [
      "<class 'pandas.core.frame.DataFrame'>\n",
      "RangeIndex: 2945818 entries, 0 to 2945817\n",
      "Data columns (total 7 columns):\n",
      " #   Column                 Dtype  \n",
      "---  ------                 -----  \n",
      " 0   periodo                int64  \n",
      " 1   customer_id            int64  \n",
      " 2   product_id             int64  \n",
      " 3   plan_precios_cuidados  int64  \n",
      " 4   cust_request_qty       int64  \n",
      " 5   cust_request_tn        float64\n",
      " 6   tn                     float64\n",
      "dtypes: float64(2), int64(5)\n",
      "memory usage: 157.3 MB\n"
     ]
    }
   ],
   "source": [
    "df.info()"
   ]
  },
  {
   "cell_type": "code",
   "execution_count": 6,
   "id": "437f3b03-d52e-4bce-8579-b5a545fc47ea",
   "metadata": {},
   "outputs": [],
   "source": [
    "# Filtrar el DataFrame original para quedarse solo con los product_id válidos\n",
    "data = df[df['product_id'].isin(product_ids_validos)]"
   ]
  },
  {
   "cell_type": "code",
   "execution_count": 7,
   "id": "535ea9a8-fa88-46fc-ad2a-e8d0a113ac6a",
   "metadata": {},
   "outputs": [
    {
     "data": {
      "text/html": [
       "<div>\n",
       "<style scoped>\n",
       "    .dataframe tbody tr th:only-of-type {\n",
       "        vertical-align: middle;\n",
       "    }\n",
       "\n",
       "    .dataframe tbody tr th {\n",
       "        vertical-align: top;\n",
       "    }\n",
       "\n",
       "    .dataframe thead th {\n",
       "        text-align: right;\n",
       "    }\n",
       "</style>\n",
       "<table border=\"1\" class=\"dataframe\">\n",
       "  <thead>\n",
       "    <tr style=\"text-align: right;\">\n",
       "      <th></th>\n",
       "      <th>periodo</th>\n",
       "      <th>customer_id</th>\n",
       "      <th>product_id</th>\n",
       "      <th>plan_precios_cuidados</th>\n",
       "      <th>cust_request_qty</th>\n",
       "      <th>cust_request_tn</th>\n",
       "      <th>tn</th>\n",
       "    </tr>\n",
       "  </thead>\n",
       "  <tbody>\n",
       "    <tr>\n",
       "      <th>0</th>\n",
       "      <td>201701</td>\n",
       "      <td>10234</td>\n",
       "      <td>20524</td>\n",
       "      <td>0</td>\n",
       "      <td>2</td>\n",
       "      <td>0.05300</td>\n",
       "      <td>0.05300</td>\n",
       "    </tr>\n",
       "    <tr>\n",
       "      <th>1</th>\n",
       "      <td>201701</td>\n",
       "      <td>10032</td>\n",
       "      <td>20524</td>\n",
       "      <td>0</td>\n",
       "      <td>1</td>\n",
       "      <td>0.13628</td>\n",
       "      <td>0.13628</td>\n",
       "    </tr>\n",
       "    <tr>\n",
       "      <th>2</th>\n",
       "      <td>201701</td>\n",
       "      <td>10217</td>\n",
       "      <td>20524</td>\n",
       "      <td>0</td>\n",
       "      <td>1</td>\n",
       "      <td>0.03028</td>\n",
       "      <td>0.03028</td>\n",
       "    </tr>\n",
       "    <tr>\n",
       "      <th>3</th>\n",
       "      <td>201701</td>\n",
       "      <td>10125</td>\n",
       "      <td>20524</td>\n",
       "      <td>0</td>\n",
       "      <td>1</td>\n",
       "      <td>0.02271</td>\n",
       "      <td>0.02271</td>\n",
       "    </tr>\n",
       "    <tr>\n",
       "      <th>4</th>\n",
       "      <td>201701</td>\n",
       "      <td>10012</td>\n",
       "      <td>20524</td>\n",
       "      <td>0</td>\n",
       "      <td>11</td>\n",
       "      <td>1.54452</td>\n",
       "      <td>1.54452</td>\n",
       "    </tr>\n",
       "  </tbody>\n",
       "</table>\n",
       "</div>"
      ],
      "text/plain": [
       "   periodo  customer_id  product_id  plan_precios_cuidados  cust_request_qty  \\\n",
       "0   201701        10234       20524                      0                 2   \n",
       "1   201701        10032       20524                      0                 1   \n",
       "2   201701        10217       20524                      0                 1   \n",
       "3   201701        10125       20524                      0                 1   \n",
       "4   201701        10012       20524                      0                11   \n",
       "\n",
       "   cust_request_tn       tn  \n",
       "0          0.05300  0.05300  \n",
       "1          0.13628  0.13628  \n",
       "2          0.03028  0.03028  \n",
       "3          0.02271  0.02271  \n",
       "4          1.54452  1.54452  "
      ]
     },
     "execution_count": 7,
     "metadata": {},
     "output_type": "execute_result"
    }
   ],
   "source": [
    "data.head()"
   ]
  },
  {
   "cell_type": "code",
   "execution_count": 8,
   "id": "f98c47b7-3bbb-4ea1-a066-4461077129dc",
   "metadata": {},
   "outputs": [
    {
     "name": "stdout",
     "output_type": "stream",
     "text": [
      "<class 'pandas.core.frame.DataFrame'>\n",
      "Index: 2293481 entries, 0 to 2945817\n",
      "Data columns (total 7 columns):\n",
      " #   Column                 Dtype  \n",
      "---  ------                 -----  \n",
      " 0   periodo                int64  \n",
      " 1   customer_id            int64  \n",
      " 2   product_id             int64  \n",
      " 3   plan_precios_cuidados  int64  \n",
      " 4   cust_request_qty       int64  \n",
      " 5   cust_request_tn        float64\n",
      " 6   tn                     float64\n",
      "dtypes: float64(2), int64(5)\n",
      "memory usage: 140.0 MB\n"
     ]
    }
   ],
   "source": [
    "data.info()"
   ]
  },
  {
   "cell_type": "code",
   "execution_count": 9,
   "id": "33910557-7738-4cb0-8a9a-9ba561cf17d1",
   "metadata": {},
   "outputs": [
    {
     "name": "stderr",
     "output_type": "stream",
     "text": [
      "C:\\Users\\hbasilio\\AppData\\Local\\Temp\\ipykernel_36712\\324360596.py:3: FutureWarning: Setting an item of incompatible dtype is deprecated and will raise in a future error of pandas. Value '<DatetimeArray>\n",
      "['2017-01-01 00:00:00', '2017-01-01 00:00:00', '2017-01-01 00:00:00',\n",
      " '2017-01-01 00:00:00', '2017-01-01 00:00:00', '2017-01-01 00:00:00',\n",
      " '2017-01-01 00:00:00', '2017-01-01 00:00:00', '2017-01-01 00:00:00',\n",
      " '2017-01-01 00:00:00',\n",
      " ...\n",
      " '2019-12-01 00:00:00', '2019-12-01 00:00:00', '2019-12-01 00:00:00',\n",
      " '2019-12-01 00:00:00', '2019-12-01 00:00:00', '2019-12-01 00:00:00',\n",
      " '2019-12-01 00:00:00', '2019-12-01 00:00:00', '2019-12-01 00:00:00',\n",
      " '2019-12-01 00:00:00']\n",
      "Length: 2293481, dtype: datetime64[ns]' has dtype incompatible with int64, please explicitly cast to a compatible dtype first.\n",
      "  data.loc[:, 'periodo'] = pd.to_datetime(data['periodo'], format='%Y%m')\n"
     ]
    }
   ],
   "source": [
    "# Convertir el campo 'periodo' a datetime y establecerlo como índice\n",
    "#data['periodo'] = pd.to_datetime(data['periodo'], format='%Y%m')\n",
    "data.loc[:, 'periodo'] = pd.to_datetime(data['periodo'], format='%Y%m')\n",
    "#data.set_index('periodo', inplace=True)"
   ]
  },
  {
   "cell_type": "code",
   "execution_count": 10,
   "id": "5846ed53-e528-4a30-9931-3820c9677155",
   "metadata": {},
   "outputs": [
    {
     "name": "stdout",
     "output_type": "stream",
     "text": [
      "<class 'pandas.core.frame.DataFrame'>\n",
      "Index: 2293481 entries, 0 to 2945817\n",
      "Data columns (total 7 columns):\n",
      " #   Column                 Dtype         \n",
      "---  ------                 -----         \n",
      " 0   periodo                datetime64[ns]\n",
      " 1   customer_id            int64         \n",
      " 2   product_id             int64         \n",
      " 3   plan_precios_cuidados  int64         \n",
      " 4   cust_request_qty       int64         \n",
      " 5   cust_request_tn        float64       \n",
      " 6   tn                     float64       \n",
      "dtypes: datetime64[ns](1), float64(2), int64(4)\n",
      "memory usage: 140.0 MB\n"
     ]
    }
   ],
   "source": [
    "data.info()"
   ]
  },
  {
   "cell_type": "code",
   "execution_count": 11,
   "id": "cd201dfb-fc7e-4f5d-8897-357bbe315a40",
   "metadata": {},
   "outputs": [],
   "source": [
    "# Suponiendo que tu DataFrame se llama df\n",
    "df.set_index('periodo', inplace=True)"
   ]
  },
  {
   "cell_type": "code",
   "execution_count": 12,
   "id": "717018aa-0aa0-494c-a98d-cc744ede0129",
   "metadata": {},
   "outputs": [
    {
     "name": "stdout",
     "output_type": "stream",
     "text": [
      "<class 'pandas.core.frame.DataFrame'>\n",
      "Index: 2293481 entries, 0 to 2945817\n",
      "Data columns (total 7 columns):\n",
      " #   Column                 Dtype         \n",
      "---  ------                 -----         \n",
      " 0   periodo                datetime64[ns]\n",
      " 1   customer_id            int64         \n",
      " 2   product_id             int64         \n",
      " 3   plan_precios_cuidados  int64         \n",
      " 4   cust_request_qty       int64         \n",
      " 5   cust_request_tn        float64       \n",
      " 6   tn                     float64       \n",
      "dtypes: datetime64[ns](1), float64(2), int64(4)\n",
      "memory usage: 140.0 MB\n"
     ]
    }
   ],
   "source": [
    "data.info()"
   ]
  },
  {
   "cell_type": "code",
   "execution_count": 12,
   "id": "ad22ca11-c0eb-4c79-9400-19ccbc475f58",
   "metadata": {},
   "outputs": [],
   "source": [
    "# Transformar el campo periodo en formato fecha para aplicar al autoarima, y orfenarlos por fecha"
   ]
  },
  {
   "cell_type": "code",
   "execution_count": null,
   "id": "4e53d285-9379-4e69-bba3-0231a86688ac",
   "metadata": {},
   "outputs": [],
   "source": [
    "# Filtrar los datos para obtener solo los necesarios\n",
    "data = data[['periodo', 'product_id', 'tn']]\n",
    "\n",
    "# Inicializar un DataFrame para almacenar las predicciones\n",
    "predictions_df = pd.DataFrame(columns=['product_id', 'tn'])\n",
    "\n",
    "# Obtener la lista de productos únicos\n",
    "productos = data['product_id'].unique()\n",
    "\n",
    "# Loop through each product\n",
    "for producto in productos:\n",
    "    # Filtrar los datos para el producto actual\n",
    "    product_data = data[data['product_id'] == producto]\n",
    "    \n",
    "    # Dividir los datos en entrenamiento y prueba\n",
    "    train, test = model_selection.train_test_split(product_data['tn'], train_size=0.9)\n",
    "    \n",
    "    # Ajustar el modelo auto_arima\n",
    "    model = pm.auto_arima(train, seasonal=False, stepwise=True, trace=False)\n",
    "    \n",
    "    # Predecir el mes de febrero de 2020\n",
    "    february_2020_pred = model.predict(n_periods=1)[0]\n",
    "    \n",
    "    # Agregar la predicción al DataFrame principal\n",
    "    predictions_df = predictions_df.append({'product_id': producto, 'tn': february_2020_pred}, ignore_index=True)\n"
   ]
  },
  {
   "cell_type": "code",
   "execution_count": null,
   "id": "401f156d-853b-4dd7-88da-d6b8bef5b849",
   "metadata": {},
   "outputs": [],
   "source": [
    "# Guardar las predicciones en un archivo CSV\n",
    "predictions_df.to_csv('Febrero_2020_predictions.v4.1.csv', index=False)\n",
    "\n",
    "print(\"Predicciones para febrero de 2020 guardadas en 'february_2020_predictions.csv'\")"
   ]
  },
  {
   "cell_type": "code",
   "execution_count": null,
   "id": "78108f71-4a82-4998-aae7-77bbf33d9c61",
   "metadata": {},
   "outputs": [],
   "source": []
  }
 ],
 "metadata": {
  "kernelspec": {
   "display_name": "Python 3 (ipykernel)",
   "language": "python",
   "name": "python3"
  },
  "language_info": {
   "codemirror_mode": {
    "name": "ipython",
    "version": 3
   },
   "file_extension": ".py",
   "mimetype": "text/x-python",
   "name": "python",
   "nbconvert_exporter": "python",
   "pygments_lexer": "ipython3",
   "version": "3.12.3"
  }
 },
 "nbformat": 4,
 "nbformat_minor": 5
}
