{
 "cells": [
  {
   "cell_type": "code",
   "execution_count": 1,
   "id": "98a16e6d-d5c6-4d38-8591-dcdcde9c4674",
   "metadata": {},
   "outputs": [],
   "source": [
    "# Importación de librerías necesarias\n",
    "\n",
    "import pandas as pd\n",
    "import matplotlib.pyplot as plt\n",
    "import numpy as np\n",
    "from sklearn.metrics import mean_absolute_error, mean_squared_error\n",
    "from sklearn.preprocessing import StandardScaler\n",
    "from neuralprophet import NeuralProphet, set_log_level\n",
    "from sklearn.preprocessing import StandardScaler\n",
    "from datetime import datetime, timedelta\n",
    "from tqdm.notebook import tqdm\n",
    "import logging\n",
    "import warnings\n",
    "import sys\n",
    "#\n",
    "warnings.filterwarnings(\"ignore\")\n",
    "# Configurar logging y warnings\n",
    "logging.basicConfig(level=logging.WARNING, format='%(asctime)s - %(levelname)s - %(message)s')\n",
    "warnings.filterwarnings('ignore')\n",
    "set_log_level(\"ERROR\")"
   ]
  },
  {
   "cell_type": "code",
   "execution_count": 2,
   "id": "a51e5522-fbc7-4d9c-b94b-be190b4227b7",
   "metadata": {},
   "outputs": [
    {
     "name": "stdout",
     "output_type": "stream",
     "text": [
      "Cargando datos...\n",
      "Preparando datos...\n",
      "Agregando datos...\n"
     ]
    },
    {
     "data": {
      "text/html": [
       "<div>\n",
       "<style scoped>\n",
       "    .dataframe tbody tr th:only-of-type {\n",
       "        vertical-align: middle;\n",
       "    }\n",
       "\n",
       "    .dataframe tbody tr th {\n",
       "        vertical-align: top;\n",
       "    }\n",
       "\n",
       "    .dataframe thead th {\n",
       "        text-align: right;\n",
       "    }\n",
       "</style>\n",
       "<table border=\"1\" class=\"dataframe\">\n",
       "  <thead>\n",
       "    <tr style=\"text-align: right;\">\n",
       "      <th></th>\n",
       "      <th>product_id</th>\n",
       "      <th>ds</th>\n",
       "      <th>y</th>\n",
       "      <th>customer_id</th>\n",
       "      <th>año</th>\n",
       "      <th>mes</th>\n",
       "      <th>trimestre</th>\n",
       "      <th>cat1_encoded</th>\n",
       "      <th>cat2_encoded</th>\n",
       "      <th>cat3_encoded</th>\n",
       "      <th>brand_encoded</th>\n",
       "      <th>avg_tn_por_producto</th>\n",
       "      <th>avg_qty_por_cliente</th>\n",
       "      <th>ratio_tn_qty</th>\n",
       "      <th>precios_cuidados</th>\n",
       "      <th>sku_size</th>\n",
       "      <th>avg_size_por_brand</th>\n",
       "      <th>max_size_por_brand</th>\n",
       "      <th>min_size_por_brand</th>\n",
       "      <th>size_range_por_brand</th>\n",
       "    </tr>\n",
       "  </thead>\n",
       "  <tbody>\n",
       "    <tr>\n",
       "      <th>0</th>\n",
       "      <td>20001</td>\n",
       "      <td>2017-01-01</td>\n",
       "      <td>934.77222</td>\n",
       "      <td>186</td>\n",
       "      <td>2017</td>\n",
       "      <td>1</td>\n",
       "      <td>1</td>\n",
       "      <td>1</td>\n",
       "      <td>10</td>\n",
       "      <td>47</td>\n",
       "      <td>0</td>\n",
       "      <td>8.156253</td>\n",
       "      <td>1.910679</td>\n",
       "      <td>1.018760</td>\n",
       "      <td>0.0</td>\n",
       "      <td>3000.0</td>\n",
       "      <td>1834.663381</td>\n",
       "      <td>3000.0</td>\n",
       "      <td>400.0</td>\n",
       "      <td>2600.0</td>\n",
       "    </tr>\n",
       "    <tr>\n",
       "      <th>1</th>\n",
       "      <td>20001</td>\n",
       "      <td>2017-02-01</td>\n",
       "      <td>798.01620</td>\n",
       "      <td>185</td>\n",
       "      <td>2017</td>\n",
       "      <td>2</td>\n",
       "      <td>1</td>\n",
       "      <td>1</td>\n",
       "      <td>10</td>\n",
       "      <td>47</td>\n",
       "      <td>0</td>\n",
       "      <td>8.156253</td>\n",
       "      <td>1.947834</td>\n",
       "      <td>1.053940</td>\n",
       "      <td>0.0</td>\n",
       "      <td>3000.0</td>\n",
       "      <td>1834.663381</td>\n",
       "      <td>3000.0</td>\n",
       "      <td>400.0</td>\n",
       "      <td>2600.0</td>\n",
       "    </tr>\n",
       "    <tr>\n",
       "      <th>2</th>\n",
       "      <td>20001</td>\n",
       "      <td>2017-03-01</td>\n",
       "      <td>1303.35771</td>\n",
       "      <td>188</td>\n",
       "      <td>2017</td>\n",
       "      <td>3</td>\n",
       "      <td>1</td>\n",
       "      <td>1</td>\n",
       "      <td>10</td>\n",
       "      <td>47</td>\n",
       "      <td>0</td>\n",
       "      <td>8.156253</td>\n",
       "      <td>1.919275</td>\n",
       "      <td>1.680207</td>\n",
       "      <td>0.0</td>\n",
       "      <td>3000.0</td>\n",
       "      <td>1834.663381</td>\n",
       "      <td>3000.0</td>\n",
       "      <td>400.0</td>\n",
       "      <td>2600.0</td>\n",
       "    </tr>\n",
       "    <tr>\n",
       "      <th>3</th>\n",
       "      <td>20001</td>\n",
       "      <td>2017-04-01</td>\n",
       "      <td>1069.96130</td>\n",
       "      <td>104</td>\n",
       "      <td>2017</td>\n",
       "      <td>4</td>\n",
       "      <td>2</td>\n",
       "      <td>1</td>\n",
       "      <td>10</td>\n",
       "      <td>47</td>\n",
       "      <td>0</td>\n",
       "      <td>8.156253</td>\n",
       "      <td>2.472872</td>\n",
       "      <td>2.581326</td>\n",
       "      <td>0.0</td>\n",
       "      <td>3000.0</td>\n",
       "      <td>1834.663381</td>\n",
       "      <td>3000.0</td>\n",
       "      <td>400.0</td>\n",
       "      <td>2600.0</td>\n",
       "    </tr>\n",
       "    <tr>\n",
       "      <th>4</th>\n",
       "      <td>20001</td>\n",
       "      <td>2017-05-01</td>\n",
       "      <td>1502.20132</td>\n",
       "      <td>238</td>\n",
       "      <td>2017</td>\n",
       "      <td>5</td>\n",
       "      <td>2</td>\n",
       "      <td>1</td>\n",
       "      <td>10</td>\n",
       "      <td>47</td>\n",
       "      <td>0</td>\n",
       "      <td>8.156253</td>\n",
       "      <td>1.758276</td>\n",
       "      <td>1.403028</td>\n",
       "      <td>0.0</td>\n",
       "      <td>3000.0</td>\n",
       "      <td>1834.663381</td>\n",
       "      <td>3000.0</td>\n",
       "      <td>400.0</td>\n",
       "      <td>2600.0</td>\n",
       "    </tr>\n",
       "    <tr>\n",
       "      <th>...</th>\n",
       "      <td>...</td>\n",
       "      <td>...</td>\n",
       "      <td>...</td>\n",
       "      <td>...</td>\n",
       "      <td>...</td>\n",
       "      <td>...</td>\n",
       "      <td>...</td>\n",
       "      <td>...</td>\n",
       "      <td>...</td>\n",
       "      <td>...</td>\n",
       "      <td>...</td>\n",
       "      <td>...</td>\n",
       "      <td>...</td>\n",
       "      <td>...</td>\n",
       "      <td>...</td>\n",
       "      <td>...</td>\n",
       "      <td>...</td>\n",
       "      <td>...</td>\n",
       "      <td>...</td>\n",
       "      <td>...</td>\n",
       "    </tr>\n",
       "    <tr>\n",
       "      <th>22344</th>\n",
       "      <td>21276</td>\n",
       "      <td>2019-08-01</td>\n",
       "      <td>0.01265</td>\n",
       "      <td>4</td>\n",
       "      <td>2019</td>\n",
       "      <td>8</td>\n",
       "      <td>3</td>\n",
       "      <td>2</td>\n",
       "      <td>6</td>\n",
       "      <td>18</td>\n",
       "      <td>23</td>\n",
       "      <td>0.007101</td>\n",
       "      <td>4.372053</td>\n",
       "      <td>0.001860</td>\n",
       "      <td>0.0</td>\n",
       "      <td>140.0</td>\n",
       "      <td>201.614133</td>\n",
       "      <td>750.0</td>\n",
       "      <td>10.0</td>\n",
       "      <td>740.0</td>\n",
       "    </tr>\n",
       "    <tr>\n",
       "      <th>22345</th>\n",
       "      <td>21276</td>\n",
       "      <td>2019-09-01</td>\n",
       "      <td>0.01856</td>\n",
       "      <td>7</td>\n",
       "      <td>2019</td>\n",
       "      <td>9</td>\n",
       "      <td>3</td>\n",
       "      <td>2</td>\n",
       "      <td>6</td>\n",
       "      <td>18</td>\n",
       "      <td>23</td>\n",
       "      <td>0.007101</td>\n",
       "      <td>3.528196</td>\n",
       "      <td>0.001855</td>\n",
       "      <td>0.0</td>\n",
       "      <td>140.0</td>\n",
       "      <td>201.614133</td>\n",
       "      <td>750.0</td>\n",
       "      <td>10.0</td>\n",
       "      <td>740.0</td>\n",
       "    </tr>\n",
       "    <tr>\n",
       "      <th>22346</th>\n",
       "      <td>21276</td>\n",
       "      <td>2019-10-01</td>\n",
       "      <td>0.02079</td>\n",
       "      <td>8</td>\n",
       "      <td>2019</td>\n",
       "      <td>10</td>\n",
       "      <td>4</td>\n",
       "      <td>2</td>\n",
       "      <td>6</td>\n",
       "      <td>18</td>\n",
       "      <td>23</td>\n",
       "      <td>0.007101</td>\n",
       "      <td>3.438649</td>\n",
       "      <td>0.001593</td>\n",
       "      <td>0.0</td>\n",
       "      <td>140.0</td>\n",
       "      <td>201.614133</td>\n",
       "      <td>750.0</td>\n",
       "      <td>10.0</td>\n",
       "      <td>740.0</td>\n",
       "    </tr>\n",
       "    <tr>\n",
       "      <th>22347</th>\n",
       "      <td>21276</td>\n",
       "      <td>2019-11-01</td>\n",
       "      <td>0.03341</td>\n",
       "      <td>8</td>\n",
       "      <td>2019</td>\n",
       "      <td>11</td>\n",
       "      <td>4</td>\n",
       "      <td>2</td>\n",
       "      <td>6</td>\n",
       "      <td>18</td>\n",
       "      <td>23</td>\n",
       "      <td>0.007101</td>\n",
       "      <td>3.120522</td>\n",
       "      <td>0.002506</td>\n",
       "      <td>0.0</td>\n",
       "      <td>140.0</td>\n",
       "      <td>201.614133</td>\n",
       "      <td>750.0</td>\n",
       "      <td>10.0</td>\n",
       "      <td>740.0</td>\n",
       "    </tr>\n",
       "    <tr>\n",
       "      <th>22348</th>\n",
       "      <td>21276</td>\n",
       "      <td>2019-12-01</td>\n",
       "      <td>0.00892</td>\n",
       "      <td>4</td>\n",
       "      <td>2019</td>\n",
       "      <td>12</td>\n",
       "      <td>4</td>\n",
       "      <td>2</td>\n",
       "      <td>6</td>\n",
       "      <td>18</td>\n",
       "      <td>23</td>\n",
       "      <td>0.007101</td>\n",
       "      <td>4.053900</td>\n",
       "      <td>0.002230</td>\n",
       "      <td>0.0</td>\n",
       "      <td>140.0</td>\n",
       "      <td>201.614133</td>\n",
       "      <td>750.0</td>\n",
       "      <td>10.0</td>\n",
       "      <td>740.0</td>\n",
       "    </tr>\n",
       "  </tbody>\n",
       "</table>\n",
       "<p>22349 rows × 20 columns</p>\n",
       "</div>"
      ],
      "text/plain": [
       "       product_id         ds           y  customer_id   año  mes  trimestre  \\\n",
       "0           20001 2017-01-01   934.77222          186  2017    1          1   \n",
       "1           20001 2017-02-01   798.01620          185  2017    2          1   \n",
       "2           20001 2017-03-01  1303.35771          188  2017    3          1   \n",
       "3           20001 2017-04-01  1069.96130          104  2017    4          2   \n",
       "4           20001 2017-05-01  1502.20132          238  2017    5          2   \n",
       "...           ...        ...         ...          ...   ...  ...        ...   \n",
       "22344       21276 2019-08-01     0.01265            4  2019    8          3   \n",
       "22345       21276 2019-09-01     0.01856            7  2019    9          3   \n",
       "22346       21276 2019-10-01     0.02079            8  2019   10          4   \n",
       "22347       21276 2019-11-01     0.03341            8  2019   11          4   \n",
       "22348       21276 2019-12-01     0.00892            4  2019   12          4   \n",
       "\n",
       "       cat1_encoded  cat2_encoded  cat3_encoded  brand_encoded  \\\n",
       "0                 1            10            47              0   \n",
       "1                 1            10            47              0   \n",
       "2                 1            10            47              0   \n",
       "3                 1            10            47              0   \n",
       "4                 1            10            47              0   \n",
       "...             ...           ...           ...            ...   \n",
       "22344             2             6            18             23   \n",
       "22345             2             6            18             23   \n",
       "22346             2             6            18             23   \n",
       "22347             2             6            18             23   \n",
       "22348             2             6            18             23   \n",
       "\n",
       "       avg_tn_por_producto  avg_qty_por_cliente  ratio_tn_qty  \\\n",
       "0                 8.156253             1.910679      1.018760   \n",
       "1                 8.156253             1.947834      1.053940   \n",
       "2                 8.156253             1.919275      1.680207   \n",
       "3                 8.156253             2.472872      2.581326   \n",
       "4                 8.156253             1.758276      1.403028   \n",
       "...                    ...                  ...           ...   \n",
       "22344             0.007101             4.372053      0.001860   \n",
       "22345             0.007101             3.528196      0.001855   \n",
       "22346             0.007101             3.438649      0.001593   \n",
       "22347             0.007101             3.120522      0.002506   \n",
       "22348             0.007101             4.053900      0.002230   \n",
       "\n",
       "       precios_cuidados  sku_size  avg_size_por_brand  max_size_por_brand  \\\n",
       "0                   0.0    3000.0         1834.663381              3000.0   \n",
       "1                   0.0    3000.0         1834.663381              3000.0   \n",
       "2                   0.0    3000.0         1834.663381              3000.0   \n",
       "3                   0.0    3000.0         1834.663381              3000.0   \n",
       "4                   0.0    3000.0         1834.663381              3000.0   \n",
       "...                 ...       ...                 ...                 ...   \n",
       "22344               0.0     140.0          201.614133               750.0   \n",
       "22345               0.0     140.0          201.614133               750.0   \n",
       "22346               0.0     140.0          201.614133               750.0   \n",
       "22347               0.0     140.0          201.614133               750.0   \n",
       "22348               0.0     140.0          201.614133               750.0   \n",
       "\n",
       "       min_size_por_brand  size_range_por_brand  \n",
       "0                   400.0                2600.0  \n",
       "1                   400.0                2600.0  \n",
       "2                   400.0                2600.0  \n",
       "3                   400.0                2600.0  \n",
       "4                   400.0                2600.0  \n",
       "...                   ...                   ...  \n",
       "22344                10.0                 740.0  \n",
       "22345                10.0                 740.0  \n",
       "22346                10.0                 740.0  \n",
       "22347                10.0                 740.0  \n",
       "22348                10.0                 740.0  \n",
       "\n",
       "[22349 rows x 20 columns]"
      ]
     },
     "execution_count": 2,
     "metadata": {},
     "output_type": "execute_result"
    }
   ],
   "source": [
    "# 1. Cargar los datos\n",
    "print(\"Cargando datos...\")\n",
    "df = pd.read_csv('data/df_final_para_neuralprophet.csv')\n",
    "\n",
    "# 2. Preparación de los datos\n",
    "print(\"Preparando datos...\")\n",
    "df['ds'] = pd.to_datetime(df['ds'])\n",
    "df.sort_values(['product_id', 'customer_id', 'ds'], inplace=True)\n",
    "\n",
    "# 3. Agregación de datos\n",
    "print(\"Agregando datos...\")\n",
    "df_agg = df.groupby(['product_id', 'ds']).agg({\n",
    "    'y': 'sum',\n",
    "    'customer_id': 'nunique',\n",
    "    'año': 'first',\n",
    "    'mes': 'first',\n",
    "    'trimestre': 'first',\n",
    "    'cat1_encoded': 'first',\n",
    "    'cat2_encoded': 'first',\n",
    "    'cat3_encoded': 'first',\n",
    "    'brand_encoded': 'first',\n",
    "    'avg_tn_por_producto': 'mean',\n",
    "    'avg_qty_por_cliente': 'mean',\n",
    "    'ratio_tn_qty': 'mean',\n",
    "    'precios_cuidados': 'mean',\n",
    "    'sku_size': 'mean',\n",
    "    'avg_size_por_brand': 'mean',\n",
    "    'max_size_por_brand': 'mean',\n",
    "    'min_size_por_brand': 'mean',\n",
    "    'size_range_por_brand': 'mean'\n",
    "}).reset_index()\n",
    "\n",
    "df_agg"
   ]
  },
  {
   "cell_type": "code",
   "execution_count": 3,
   "id": "33b21d24-230e-42dd-bbea-bd6853e62b77",
   "metadata": {},
   "outputs": [
    {
     "name": "stdout",
     "output_type": "stream",
     "text": [
      "     product_id         ds           y  customer_id   año  mes  trimestre  \\\n",
      "0         20001 2017-01-01   934.77222          186  2017    1          1   \n",
      "1         20001 2017-02-01   798.01620          185  2017    2          1   \n",
      "2         20001 2017-03-01  1303.35771          188  2017    3          1   \n",
      "3         20001 2017-04-01  1069.96130          104  2017    4          2   \n",
      "4         20001 2017-05-01  1502.20132          238  2017    5          2   \n",
      "..          ...        ...         ...          ...   ...  ...        ...   \n",
      "427       20012 2019-08-01   301.48373          122  2019    8          3   \n",
      "428       20012 2019-09-01   330.62376          157  2019    9          3   \n",
      "429       20012 2019-10-01   282.29947          111  2019   10          4   \n",
      "430       20012 2019-11-01   357.11018          172  2019   11          4   \n",
      "431       20012 2019-12-01   173.13004           75  2019   12          4   \n",
      "\n",
      "     cat1_encoded  cat2_encoded  cat3_encoded  brand_encoded  \\\n",
      "0               1            10            47              0   \n",
      "1               1            10            47              0   \n",
      "2               1            10            47              0   \n",
      "3               1            10            47              0   \n",
      "4               1            10            47              0   \n",
      "..            ...           ...           ...            ...   \n",
      "427             1             9             0              8   \n",
      "428             1             9             0              8   \n",
      "429             1             9             0              8   \n",
      "430             1             9             0              8   \n",
      "431             1             9             0              8   \n",
      "\n",
      "     avg_tn_por_producto  avg_qty_por_cliente  ratio_tn_qty  precios_cuidados  \\\n",
      "0               8.156253             1.910679      1.018760               0.0   \n",
      "1               8.156253             1.947834      1.053940               0.0   \n",
      "2               8.156253             1.919275      1.680207               0.0   \n",
      "3               8.156253             2.472872      2.581326               0.0   \n",
      "4               8.156253             1.758276      1.403028               0.0   \n",
      "..                   ...                  ...           ...               ...   \n",
      "427             3.084606             2.075191      1.282279               0.0   \n",
      "428             3.084606             2.051185      0.692190               0.0   \n",
      "429             3.084606             2.181408      0.912207               0.0   \n",
      "430             3.084606             1.962817      0.870196               0.0   \n",
      "431             3.084606             2.304369      0.925786               0.0   \n",
      "\n",
      "     sku_size  avg_size_por_brand  max_size_por_brand  min_size_por_brand  \\\n",
      "0      3000.0         1834.663381              3000.0               400.0   \n",
      "1      3000.0         1834.663381              3000.0               400.0   \n",
      "2      3000.0         1834.663381              3000.0               400.0   \n",
      "3      3000.0         1834.663381              3000.0               400.0   \n",
      "4      3000.0         1834.663381              3000.0               400.0   \n",
      "..        ...                 ...                 ...                 ...   \n",
      "427     800.0         1310.787618              5000.0               450.0   \n",
      "428     800.0         1310.787618              5000.0               450.0   \n",
      "429     800.0         1310.787618              5000.0               450.0   \n",
      "430     800.0         1310.787618              5000.0               450.0   \n",
      "431     800.0         1310.787618              5000.0               450.0   \n",
      "\n",
      "     size_range_por_brand  \n",
      "0                  2600.0  \n",
      "1                  2600.0  \n",
      "2                  2600.0  \n",
      "3                  2600.0  \n",
      "4                  2600.0  \n",
      "..                    ...  \n",
      "427                4550.0  \n",
      "428                4550.0  \n",
      "429                4550.0  \n",
      "430                4550.0  \n",
      "431                4550.0  \n",
      "\n",
      "[432 rows x 20 columns]\n",
      "<class 'pandas.core.frame.DataFrame'>\n",
      "Index: 432 entries, 0 to 431\n",
      "Data columns (total 20 columns):\n",
      " #   Column                Non-Null Count  Dtype         \n",
      "---  ------                --------------  -----         \n",
      " 0   product_id            432 non-null    int64         \n",
      " 1   ds                    432 non-null    datetime64[ns]\n",
      " 2   y                     432 non-null    float64       \n",
      " 3   customer_id           432 non-null    int64         \n",
      " 4   año                   432 non-null    int64         \n",
      " 5   mes                   432 non-null    int64         \n",
      " 6   trimestre             432 non-null    int64         \n",
      " 7   cat1_encoded          432 non-null    int64         \n",
      " 8   cat2_encoded          432 non-null    int64         \n",
      " 9   cat3_encoded          432 non-null    int64         \n",
      " 10  brand_encoded         432 non-null    int64         \n",
      " 11  avg_tn_por_producto   432 non-null    float64       \n",
      " 12  avg_qty_por_cliente   432 non-null    float64       \n",
      " 13  ratio_tn_qty          432 non-null    float64       \n",
      " 14  precios_cuidados      432 non-null    float64       \n",
      " 15  sku_size              432 non-null    float64       \n",
      " 16  avg_size_por_brand    432 non-null    float64       \n",
      " 17  max_size_por_brand    432 non-null    float64       \n",
      " 18  min_size_por_brand    432 non-null    float64       \n",
      " 19  size_range_por_brand  432 non-null    float64       \n",
      "dtypes: datetime64[ns](1), float64(10), int64(9)\n",
      "memory usage: 70.9 KB\n"
     ]
    }
   ],
   "source": [
    "# 4. Función para filtrar datos por rango de product_id\n",
    "def filtrar_por_producto(df, producto_inicio, producto_fin):\n",
    "    return df[(df['product_id'] >= producto_inicio) & (df['product_id'] <= producto_fin)]\n",
    "\n",
    "# 5. Filtrado de datos para el rango de productos deseado\n",
    "producto_inicio = 20001\n",
    "producto_fin = 20012  # Puedes ajustar esto según tus necesidades. Ultimo = 21276\n",
    "datos_filtrados = filtrar_por_producto(df_agg, producto_inicio, producto_fin)\n",
    "\n",
    "# Preparación de datos para NeuralProphet\n",
    "print(datos_filtrados)\n",
    "datos_filtrados.info()"
   ]
  },
  {
   "cell_type": "code",
   "execution_count": 4,
   "id": "1e68736b-60db-49ef-ad8a-8d52a10f883f",
   "metadata": {},
   "outputs": [
    {
     "name": "stdout",
     "output_type": "stream",
     "text": [
      "Agregando registros en cero...\n",
      "Cantidad de registros en datos_filtrados: 432\n",
      "Cantidad de registros en datos_completos_cero: 432\n",
      "\n",
      "Columnas en datos_completos_cero:\n",
      "Index(['ds', 'product_id', 'y', 'customer_id', 'año', 'mes', 'trimestre',\n",
      "       'cat1_encoded', 'cat2_encoded', 'cat3_encoded', 'brand_encoded',\n",
      "       'avg_tn_por_producto', 'avg_qty_por_cliente', 'ratio_tn_qty',\n",
      "       'precios_cuidados', 'sku_size', 'avg_size_por_brand',\n",
      "       'max_size_por_brand', 'min_size_por_brand', 'size_range_por_brand'],\n",
      "      dtype='object')\n",
      "\n",
      "Tipos de datos en datos_completos_cero:\n",
      "ds                      datetime64[ns]\n",
      "product_id                       int64\n",
      "y                              float64\n",
      "customer_id                      int64\n",
      "año                              int64\n",
      "mes                              int64\n",
      "trimestre                        int64\n",
      "cat1_encoded                     int64\n",
      "cat2_encoded                     int64\n",
      "cat3_encoded                     int64\n",
      "brand_encoded                    int64\n",
      "avg_tn_por_producto            float64\n",
      "avg_qty_por_cliente            float64\n",
      "ratio_tn_qty                   float64\n",
      "precios_cuidados               float64\n",
      "sku_size                       float64\n",
      "avg_size_por_brand             float64\n",
      "max_size_por_brand             float64\n",
      "min_size_por_brand             float64\n",
      "size_range_por_brand           float64\n",
      "dtype: object\n",
      "\n",
      "Valores nulos en datos_completos_cero:\n",
      "ds                      0\n",
      "product_id              0\n",
      "y                       0\n",
      "customer_id             0\n",
      "año                     0\n",
      "mes                     0\n",
      "trimestre               0\n",
      "cat1_encoded            0\n",
      "cat2_encoded            0\n",
      "cat3_encoded            0\n",
      "brand_encoded           0\n",
      "avg_tn_por_producto     0\n",
      "avg_qty_por_cliente     0\n",
      "ratio_tn_qty            0\n",
      "precios_cuidados        0\n",
      "sku_size                0\n",
      "avg_size_por_brand      0\n",
      "max_size_por_brand      0\n",
      "min_size_por_brand      0\n",
      "size_range_por_brand    0\n",
      "dtype: int64\n",
      "\n",
      "Primeras filas de datos_completos_cero:\n",
      "          ds  product_id           y  customer_id   año  mes  trimestre  \\\n",
      "0 2017-01-01       20001   934.77222          186  2017    1          1   \n",
      "1 2017-02-01       20001   798.01620          185  2017    2          1   \n",
      "2 2017-03-01       20001  1303.35771          188  2017    3          1   \n",
      "3 2017-04-01       20001  1069.96130          104  2017    4          2   \n",
      "4 2017-05-01       20001  1502.20132          238  2017    5          2   \n",
      "\n",
      "   cat1_encoded  cat2_encoded  cat3_encoded  brand_encoded  \\\n",
      "0             1            10            47              0   \n",
      "1             1            10            47              0   \n",
      "2             1            10            47              0   \n",
      "3             1            10            47              0   \n",
      "4             1            10            47              0   \n",
      "\n",
      "   avg_tn_por_producto  avg_qty_por_cliente  ratio_tn_qty  precios_cuidados  \\\n",
      "0             8.156253             1.910679      1.018760               0.0   \n",
      "1             8.156253             1.947834      1.053940               0.0   \n",
      "2             8.156253             1.919275      1.680207               0.0   \n",
      "3             8.156253             2.472872      2.581326               0.0   \n",
      "4             8.156253             1.758276      1.403028               0.0   \n",
      "\n",
      "   sku_size  avg_size_por_brand  max_size_por_brand  min_size_por_brand  \\\n",
      "0    3000.0         1834.663381              3000.0               400.0   \n",
      "1    3000.0         1834.663381              3000.0               400.0   \n",
      "2    3000.0         1834.663381              3000.0               400.0   \n",
      "3    3000.0         1834.663381              3000.0               400.0   \n",
      "4    3000.0         1834.663381              3000.0               400.0   \n",
      "\n",
      "   size_range_por_brand  \n",
      "0                2600.0  \n",
      "1                2600.0  \n",
      "2                2600.0  \n",
      "3                2600.0  \n",
      "4                2600.0  \n"
     ]
    }
   ],
   "source": [
    "# 6. Agregar registros en cero\n",
    "print(\"Agregando registros en cero...\")\n",
    "def agregar_registros_cero(df):\n",
    "    df_list = []\n",
    "    for producto, datos_producto in df.groupby('product_id'):\n",
    "        fecha_inicio = datos_producto['ds'].min()\n",
    "        fecha_fin = datos_producto['ds'].max()\n",
    "        rango_fechas = pd.date_range(start=fecha_inicio, end=fecha_fin, freq='MS')\n",
    "        datos_completos = pd.DataFrame(rango_fechas, columns=['ds'])\n",
    "        datos_completos['product_id'] = producto\n",
    "        datos_completos = datos_completos.merge(datos_producto, on=['ds', 'product_id'], how='left')\n",
    "        \n",
    "        # Llenar los valores faltantes\n",
    "        datos_completos['y'].fillna(0, inplace=True)\n",
    "        for col in datos_completos.columns:\n",
    "            if col not in ['ds', 'product_id', 'y']:\n",
    "                datos_completos[col].fillna(datos_completos[col].mode().iloc[0], inplace=True)\n",
    "        \n",
    "        df_list.append(datos_completos)\n",
    "    return pd.concat(df_list, ignore_index=True)\n",
    "\n",
    "# Aplicar la función para agregar registros en cero\n",
    "datos_completos_cero = agregar_registros_cero(datos_filtrados)\n",
    "\n",
    "# Mostrar cantidad de registros\n",
    "print(f\"Cantidad de registros en datos_filtrados: {len(datos_filtrados)}\")\n",
    "print(f\"Cantidad de registros en datos_completos_cero: {len(datos_completos_cero)}\")\n",
    "\n",
    "# Verificar que todas las columnas necesarias estén presentes\n",
    "print(\"\\nColumnas en datos_completos_cero:\")\n",
    "print(datos_completos_cero.columns)\n",
    "\n",
    "# Verificar los tipos de datos\n",
    "print(\"\\nTipos de datos en datos_completos_cero:\")\n",
    "print(datos_completos_cero.dtypes)\n",
    "\n",
    "# Verificar si hay valores nulos\n",
    "print(\"\\nValores nulos en datos_completos_cero:\")\n",
    "print(datos_completos_cero.isnull().sum())\n",
    "\n",
    "# Mostrar las primeras filas del DataFrame final\n",
    "print(\"\\nPrimeras filas de datos_completos_cero:\")\n",
    "print(datos_completos_cero.head())"
   ]
  },
  {
   "cell_type": "code",
   "execution_count": 5,
   "id": "136b084b-dd91-45e1-a3e7-89b1e51c52e4",
   "metadata": {},
   "outputs": [
    {
     "name": "stdout",
     "output_type": "stream",
     "text": [
      "Forma del DataFrame sumarizado: (432, 20)\n",
      "\n",
      "Columnas del DataFrame sumarizado:\n",
      "Index(['ds', 'product_id', 'total_TN', 'año', 'mes', 'trimestre',\n",
      "       'cat1_encoded', 'cat2_encoded', 'cat3_encoded', 'brand_encoded',\n",
      "       'avg_tn_por_producto', 'avg_qty_por_cliente', 'ratio_tn_qty',\n",
      "       'precios_cuidados', 'sku_size', 'avg_size_por_brand',\n",
      "       'max_size_por_brand', 'min_size_por_brand', 'size_range_por_brand',\n",
      "       'tamaño_categoria'],\n",
      "      dtype='object')\n",
      "\n",
      "Primeras filas del DataFrame sumarizado:\n",
      "          ds  product_id    total_TN   año  mes  trimestre  cat1_encoded  \\\n",
      "0 2017-01-01       20001   934.77222  2017    1          1             1   \n",
      "1 2017-01-01       20002   550.15707  2017    1          1             1   \n",
      "2 2017-01-01       20003  1063.45835  2017    1          1             0   \n",
      "3 2017-01-01       20004   555.91614  2017    1          1             0   \n",
      "4 2017-01-01       20005   494.27011  2017    1          1             0   \n",
      "\n",
      "   cat2_encoded  cat3_encoded  brand_encoded  avg_tn_por_producto  \\\n",
      "0            10            47              0             8.156253   \n",
      "1            10            47             15             6.056209   \n",
      "2             0            48             22             4.711343   \n",
      "3             0            48             22             3.386770   \n",
      "4             0            48             22             3.923400   \n",
      "\n",
      "   avg_qty_por_cliente  ratio_tn_qty  precios_cuidados  sku_size  \\\n",
      "0             1.910679      1.018760               0.0    3000.0   \n",
      "1             2.022002      0.960741               0.0    3000.0   \n",
      "2             1.744776      1.809341               0.0     475.0   \n",
      "3             1.798512      1.337207               0.0     240.0   \n",
      "4             1.862131      1.398542               0.0     120.0   \n",
      "\n",
      "   avg_size_por_brand  max_size_por_brand  min_size_por_brand  \\\n",
      "0         1834.663381              3000.0               400.0   \n",
      "1         1245.871918             10000.0               120.0   \n",
      "2          365.348880              1000.0                60.0   \n",
      "3          365.348880              1000.0                60.0   \n",
      "4          365.348880              1000.0                60.0   \n",
      "\n",
      "   size_range_por_brand tamaño_categoria  \n",
      "0                2600.0                3  \n",
      "1                9880.0                2  \n",
      "2                 940.0                2  \n",
      "3                 940.0                2  \n",
      "4                 940.0                2  \n",
      "\n",
      "Estadísticas descriptivas del DataFrame sumarizado:\n",
      "                        ds    product_id     total_TN          año  \\\n",
      "count                  432    432.000000   432.000000   432.000000   \n",
      "mean   2018-06-16 12:00:00  20006.500000   691.129142  2018.000000   \n",
      "min    2017-01-01 00:00:00  20001.000000   171.741070  2017.000000   \n",
      "25%    2017-09-23 12:00:00  20003.750000   462.447915  2017.000000   \n",
      "50%    2018-06-16 00:00:00  20006.500000   590.306265  2018.000000   \n",
      "75%    2019-03-08 18:00:00  20009.250000   849.806642  2019.000000   \n",
      "max    2019-12-01 00:00:00  20012.000000  2295.198320  2019.000000   \n",
      "std                    NaN      3.456055   344.972078     0.817443   \n",
      "\n",
      "              mes  trimestre  cat1_encoded  cat2_encoded  cat3_encoded  \\\n",
      "count  432.000000  432.00000    432.000000      432.0000    432.000000   \n",
      "mean     6.500000    2.50000      0.750000        8.0000     40.000000   \n",
      "min      1.000000    1.00000      0.000000        0.0000      0.000000   \n",
      "25%      3.750000    1.75000      0.750000        6.7500     40.750000   \n",
      "50%      6.500000    2.50000      1.000000       10.0000     47.500000   \n",
      "75%      9.250000    3.25000      1.000000       10.0000     49.250000   \n",
      "max     12.000000    4.00000      1.000000       14.0000     60.000000   \n",
      "std      3.456055    1.11933      0.433515        4.8876     20.089822   \n",
      "\n",
      "       brand_encoded  avg_tn_por_producto  avg_qty_por_cliente  ratio_tn_qty  \\\n",
      "count     432.000000           432.000000           432.000000    432.000000   \n",
      "mean       15.166667             4.113386             1.940513      1.453517   \n",
      "min         0.000000             3.018410             1.477014      0.580676   \n",
      "25%        13.250000             3.164061             1.825132      1.073604   \n",
      "50%        15.000000             3.417807             1.904692      1.335688   \n",
      "75%        22.000000             4.214771             2.020032      1.721952   \n",
      "max        25.000000             8.156253             3.378904      3.852832   \n",
      "std         6.897997             1.484873             0.195313      0.518404   \n",
      "\n",
      "       precios_cuidados     sku_size  avg_size_por_brand  max_size_por_brand  \\\n",
      "count        432.000000   432.000000          432.000000          432.000000   \n",
      "mean           0.009259  1369.583333         1120.079039         6333.333333   \n",
      "min            0.000000   120.000000          365.348880         1000.000000   \n",
      "25%            0.000000   456.250000         1025.741159         2500.000000   \n",
      "50%            0.000000   775.000000         1245.871918         7500.000000   \n",
      "75%            0.000000  3000.000000         1310.787618        10000.000000   \n",
      "max            1.000000  3000.000000         1834.663381        10000.000000   \n",
      "std            0.095890  1174.800003          471.547286         3884.647634   \n",
      "\n",
      "       min_size_por_brand  size_range_por_brand  \n",
      "count          432.000000            432.000000  \n",
      "mean           206.666667           6126.666667  \n",
      "min             60.000000            940.000000  \n",
      "25%            105.000000           2185.000000  \n",
      "50%            120.000000           7075.000000  \n",
      "75%            400.000000           9880.000000  \n",
      "max            450.000000           9880.000000  \n",
      "std            157.043449           3884.095000  \n",
      "\n",
      "Valores nulos en el DataFrame sumarizado:\n",
      "ds                      0\n",
      "product_id              0\n",
      "total_TN                0\n",
      "año                     0\n",
      "mes                     0\n",
      "trimestre               0\n",
      "cat1_encoded            0\n",
      "cat2_encoded            0\n",
      "cat3_encoded            0\n",
      "brand_encoded           0\n",
      "avg_tn_por_producto     0\n",
      "avg_qty_por_cliente     0\n",
      "ratio_tn_qty            0\n",
      "precios_cuidados        0\n",
      "sku_size                0\n",
      "avg_size_por_brand      0\n",
      "max_size_por_brand      0\n",
      "min_size_por_brand      0\n",
      "size_range_por_brand    0\n",
      "tamaño_categoria        0\n",
      "dtype: int64\n",
      "\n",
      "DataFrame sumarizado guardado en 'datos_sumarizados_por_fecha_y_producto.csv'\n"
     ]
    }
   ],
   "source": [
    "# Definir las operaciones de agregación para cada columna\n",
    "operaciones = {\n",
    "    'y': 'sum',\n",
    "    'customer_id': 'nunique',\n",
    "    'año': 'first',\n",
    "    'mes': 'first',\n",
    "    'trimestre': 'first',\n",
    "    'cat1_encoded': 'first',\n",
    "    'cat2_encoded': 'first',\n",
    "    'cat3_encoded': 'first',\n",
    "    'brand_encoded': 'first',\n",
    "    'avg_tn_por_producto': 'mean',\n",
    "    'avg_qty_por_cliente': 'mean',\n",
    "    'ratio_tn_qty': 'mean',\n",
    "    'precios_cuidados': 'max',\n",
    "    'sku_size': 'first',\n",
    "    'avg_size_por_brand': 'first',\n",
    "    'max_size_por_brand': 'first',\n",
    "    'min_size_por_brand': 'first',\n",
    "    'size_range_por_brand': 'first'\n",
    "}\n",
    "\n",
    "# Realizar la sumarización\n",
    "datos_sumarizados = datos_completos_cero.groupby(['ds', 'product_id']).agg(operaciones).reset_index()\n",
    "\n",
    "# Renombrar la columna 'y' a 'total_TN' para mayor claridad\n",
    "datos_sumarizados = datos_sumarizados.rename(columns={'y': 'total_TN'})\n",
    "\n",
    "# Función para categorizar el tamaño del producto\n",
    "def categorizar_tamaño(row):\n",
    "    if row['sku_size'] <= row['min_size_por_brand']:\n",
    "        return '1'\n",
    "    elif row['sku_size'] >= row['max_size_por_brand']:\n",
    "        return '3'\n",
    "    else:\n",
    "        return '2'\n",
    "\n",
    "# Agregar la columna de categoría de tamaño\n",
    "datos_sumarizados['tamaño_categoria'] = datos_sumarizados.apply(categorizar_tamaño, axis=1)\n",
    "# Eliminar la columna customer_id\n",
    "datos_sumarizados = datos_sumarizados.drop(columns=['customer_id'])\n",
    "\n",
    "\n",
    "# Verificar el resultado\n",
    "print(\"Forma del DataFrame sumarizado:\", datos_sumarizados.shape)\n",
    "print(\"\\nColumnas del DataFrame sumarizado:\")\n",
    "print(datos_sumarizados.columns)\n",
    "print(\"\\nPrimeras filas del DataFrame sumarizado:\")\n",
    "print(datos_sumarizados.head())\n",
    "print(\"\\nEstadísticas descriptivas del DataFrame sumarizado:\")\n",
    "print(datos_sumarizados.describe())\n",
    "print(\"\\nValores nulos en el DataFrame sumarizado:\")\n",
    "print(datos_sumarizados.isnull().sum())\n",
    "\n",
    "# Guardar el DataFrame sumarizado en un archivo CSV\n",
    "datos_sumarizados.to_csv('datos_sumarizados_por_fecha_y_producto.csv', index=False)\n",
    "print(\"\\nDataFrame sumarizado guardado en 'datos_sumarizados_por_fecha_y_producto.csv'\")"
   ]
  },
  {
   "cell_type": "code",
   "execution_count": 6,
   "id": "e90cd3f7-c1b2-4f9e-8b63-f694a08e844a",
   "metadata": {},
   "outputs": [
    {
     "name": "stdout",
     "output_type": "stream",
     "text": [
      "Cargando datos...\n",
      "Sumarizando datos...\n",
      "\n",
      "Forma del DataFrame sumarizado: (432, 20)\n",
      "\n",
      "Columnas del DataFrame sumarizado:\n",
      "Index(['ds', 'product_id', 'total_TN', 'año', 'mes', 'trimestre',\n",
      "       'cat1_encoded', 'cat2_encoded', 'cat3_encoded', 'brand_encoded',\n",
      "       'avg_tn_por_producto', 'avg_qty_por_cliente', 'ratio_tn_qty',\n",
      "       'precios_cuidados', 'sku_size', 'avg_size_por_brand',\n",
      "       'max_size_por_brand', 'min_size_por_brand', 'size_range_por_brand',\n",
      "       'tamaño_categoria'],\n",
      "      dtype='object')\n",
      "\n",
      "Primeras filas del DataFrame sumarizado:\n",
      "          ds  product_id    total_TN   año  mes  trimestre  cat1_encoded  \\\n",
      "0 2017-01-01       20001   934.77222  2017    1          1             1   \n",
      "1 2017-01-01       20002   550.15707  2017    1          1             1   \n",
      "2 2017-01-01       20003  1063.45835  2017    1          1             0   \n",
      "3 2017-01-01       20004   555.91614  2017    1          1             0   \n",
      "4 2017-01-01       20005   494.27011  2017    1          1             0   \n",
      "\n",
      "   cat2_encoded  cat3_encoded  brand_encoded  avg_tn_por_producto  \\\n",
      "0            10            47              0             8.156253   \n",
      "1            10            47             15             6.056209   \n",
      "2             0            48             22             4.711343   \n",
      "3             0            48             22             3.386770   \n",
      "4             0            48             22             3.923400   \n",
      "\n",
      "   avg_qty_por_cliente  ratio_tn_qty  precios_cuidados  sku_size  \\\n",
      "0             1.910679      1.018760               0.0    3000.0   \n",
      "1             2.022002      0.960741               0.0    3000.0   \n",
      "2             1.744776      1.809341               0.0     475.0   \n",
      "3             1.798512      1.337207               0.0     240.0   \n",
      "4             1.862131      1.398542               0.0     120.0   \n",
      "\n",
      "   avg_size_por_brand  max_size_por_brand  min_size_por_brand  \\\n",
      "0         1834.663381              3000.0               400.0   \n",
      "1         1245.871918             10000.0               120.0   \n",
      "2          365.348880              1000.0                60.0   \n",
      "3          365.348880              1000.0                60.0   \n",
      "4          365.348880              1000.0                60.0   \n",
      "\n",
      "   size_range_por_brand  tamaño_categoria  \n",
      "0                2600.0                 3  \n",
      "1                9880.0                 2  \n",
      "2                 940.0                 2  \n",
      "3                 940.0                 2  \n",
      "4                 940.0                 2  \n",
      "\n",
      "Estadísticas descriptivas del DataFrame sumarizado:\n",
      "                        ds    product_id     total_TN          año  \\\n",
      "count                  432    432.000000   432.000000   432.000000   \n",
      "mean   2018-06-16 12:00:00  20006.500000   691.129142  2018.000000   \n",
      "min    2017-01-01 00:00:00  20001.000000   171.741070  2017.000000   \n",
      "25%    2017-09-23 12:00:00  20003.750000   462.447915  2017.000000   \n",
      "50%    2018-06-16 00:00:00  20006.500000   590.306265  2018.000000   \n",
      "75%    2019-03-08 18:00:00  20009.250000   849.806642  2019.000000   \n",
      "max    2019-12-01 00:00:00  20012.000000  2295.198320  2019.000000   \n",
      "std                    NaN      3.456055   344.972078     0.817443   \n",
      "\n",
      "              mes  trimestre  cat1_encoded  cat2_encoded  cat3_encoded  \\\n",
      "count  432.000000  432.00000    432.000000      432.0000    432.000000   \n",
      "mean     6.500000    2.50000      0.750000        8.0000     40.000000   \n",
      "min      1.000000    1.00000      0.000000        0.0000      0.000000   \n",
      "25%      3.750000    1.75000      0.750000        6.7500     40.750000   \n",
      "50%      6.500000    2.50000      1.000000       10.0000     47.500000   \n",
      "75%      9.250000    3.25000      1.000000       10.0000     49.250000   \n",
      "max     12.000000    4.00000      1.000000       14.0000     60.000000   \n",
      "std      3.456055    1.11933      0.433515        4.8876     20.089822   \n",
      "\n",
      "       brand_encoded  avg_tn_por_producto  avg_qty_por_cliente  ratio_tn_qty  \\\n",
      "count     432.000000           432.000000           432.000000    432.000000   \n",
      "mean       15.166667             4.113386             1.940513      1.453517   \n",
      "min         0.000000             3.018410             1.477014      0.580676   \n",
      "25%        13.250000             3.164061             1.825132      1.073604   \n",
      "50%        15.000000             3.417807             1.904692      1.335688   \n",
      "75%        22.000000             4.214771             2.020032      1.721952   \n",
      "max        25.000000             8.156253             3.378904      3.852832   \n",
      "std         6.897997             1.484873             0.195313      0.518404   \n",
      "\n",
      "       precios_cuidados     sku_size  avg_size_por_brand  max_size_por_brand  \\\n",
      "count        432.000000   432.000000          432.000000          432.000000   \n",
      "mean           0.009259  1369.583333         1120.079039         6333.333333   \n",
      "min            0.000000   120.000000          365.348880         1000.000000   \n",
      "25%            0.000000   456.250000         1025.741159         2500.000000   \n",
      "50%            0.000000   775.000000         1245.871918         7500.000000   \n",
      "75%            0.000000  3000.000000         1310.787618        10000.000000   \n",
      "max            1.000000  3000.000000         1834.663381        10000.000000   \n",
      "std            0.095890  1174.800003          471.547286         3884.647634   \n",
      "\n",
      "       min_size_por_brand  size_range_por_brand  tamaño_categoria  \n",
      "count          432.000000            432.000000        432.000000  \n",
      "mean           206.666667           6126.666667          2.083333  \n",
      "min             60.000000            940.000000          2.000000  \n",
      "25%            105.000000           2185.000000          2.000000  \n",
      "50%            120.000000           7075.000000          2.000000  \n",
      "75%            400.000000           9880.000000          2.000000  \n",
      "max            450.000000           9880.000000          3.000000  \n",
      "std            157.043449           3884.095000          0.276706  \n",
      "\n",
      "Valores nulos en el DataFrame sumarizado:\n",
      "ds                      0\n",
      "product_id              0\n",
      "total_TN                0\n",
      "año                     0\n",
      "mes                     0\n",
      "trimestre               0\n",
      "cat1_encoded            0\n",
      "cat2_encoded            0\n",
      "cat3_encoded            0\n",
      "brand_encoded           0\n",
      "avg_tn_por_producto     0\n",
      "avg_qty_por_cliente     0\n",
      "ratio_tn_qty            0\n",
      "precios_cuidados        0\n",
      "sku_size                0\n",
      "avg_size_por_brand      0\n",
      "max_size_por_brand      0\n",
      "min_size_por_brand      0\n",
      "size_range_por_brand    0\n",
      "tamaño_categoria        0\n",
      "dtype: int64\n",
      "\n",
      "DataFrame sumarizado guardado en 'datos_sumarizados_final.csv'\n",
      "\n",
      "Regresores disponibles:\n",
      "['año', 'mes', 'trimestre', 'cat1_encoded', 'cat2_encoded', 'cat3_encoded', 'brand_encoded', 'avg_tn_por_producto', 'avg_qty_por_cliente', 'ratio_tn_qty', 'precios_cuidados', 'sku_size', 'avg_size_por_brand', 'max_size_por_brand', 'min_size_por_brand', 'size_range_por_brand', 'tamaño_categoria']\n",
      "\n",
      "Todos los regresores están presentes en el DataFrame.\n"
     ]
    }
   ],
   "source": [
    "# Cargar el archivo CSV\n",
    "print(\"Cargando datos...\")\n",
    "df = pd.read_csv('datos_sumarizados_por_fecha_y_producto.csv')\n",
    "\n",
    "# Convertir la columna 'ds' a datetime\n",
    "df['ds'] = pd.to_datetime(df['ds'])\n",
    "\n",
    "# Definir las operaciones de agregación para cada columna\n",
    "operaciones = {\n",
    "    'total_TN': 'sum',\n",
    "    'año': 'first',\n",
    "    'mes': 'first',\n",
    "    'trimestre': 'first',\n",
    "    'cat1_encoded': 'first',\n",
    "    'cat2_encoded': 'first',\n",
    "    'cat3_encoded': 'first',\n",
    "    'brand_encoded': 'first',\n",
    "    'avg_tn_por_producto': 'mean',\n",
    "    'avg_qty_por_cliente': 'mean',\n",
    "    'ratio_tn_qty': 'mean',\n",
    "    'precios_cuidados': 'max',\n",
    "    'sku_size': 'mean',\n",
    "    'avg_size_por_brand': 'mean',\n",
    "    'max_size_por_brand': 'max',\n",
    "    'min_size_por_brand': 'min',\n",
    "    'size_range_por_brand': 'mean',\n",
    "    'tamaño_categoria': lambda x: x.mode().iloc[0] if not x.empty else np.nan\n",
    "}\n",
    "\n",
    "# Realizar la sumarización\n",
    "print(\"Sumarizando datos...\")\n",
    "datos_sumarizados = df.groupby(['ds', 'product_id']).agg(operaciones).reset_index()\n",
    "\n",
    "# Eliminar la columna customer_id si existe\n",
    "if 'customer_id' in datos_sumarizados.columns:\n",
    "    datos_sumarizados = datos_sumarizados.drop('customer_id', axis=1)\n",
    "\n",
    "# Verificar el resultado\n",
    "print(\"\\nForma del DataFrame sumarizado:\", datos_sumarizados.shape)\n",
    "print(\"\\nColumnas del DataFrame sumarizado:\")\n",
    "print(datos_sumarizados.columns)\n",
    "print(\"\\nPrimeras filas del DataFrame sumarizado:\")\n",
    "print(datos_sumarizados.head())\n",
    "print(\"\\nEstadísticas descriptivas del DataFrame sumarizado:\")\n",
    "print(datos_sumarizados.describe())\n",
    "print(\"\\nValores nulos en el DataFrame sumarizado:\")\n",
    "print(datos_sumarizados.isnull().sum())\n",
    "\n",
    "# Guardar el DataFrame sumarizado en un nuevo archivo CSV\n",
    "datos_sumarizados.to_csv('datos_sumarizados_final.csv', index=False)\n",
    "print(\"\\nDataFrame sumarizado guardado en 'datos_sumarizados_final.csv'\")\n",
    "\n",
    "# Definir los regresores\n",
    "regresores = [\n",
    "    'año', 'mes', 'trimestre', 'cat1_encoded', 'cat2_encoded', 'cat3_encoded',\n",
    "    'brand_encoded', 'avg_tn_por_producto', 'avg_qty_por_cliente', 'ratio_tn_qty',\n",
    "    'precios_cuidados', 'sku_size', 'avg_size_por_brand', 'max_size_por_brand',\n",
    "    'min_size_por_brand', 'size_range_por_brand', 'tamaño_categoria'\n",
    "]\n",
    "\n",
    "print(\"\\nRegresores disponibles:\")\n",
    "print(regresores)\n",
    "\n",
    "# Verificar que todos los regresores estén presentes en el DataFrame\n",
    "regresores_faltantes = [reg for reg in regresores if reg not in datos_sumarizados.columns]\n",
    "if regresores_faltantes:\n",
    "    print(\"\\nAdvertencia: Los siguientes regresores no están presentes en el DataFrame:\")\n",
    "    print(regresores_faltantes)\n",
    "else:\n",
    "    print(\"\\nTodos los regresores están presentes en el DataFrame.\")"
   ]
  },
  {
   "cell_type": "code",
   "execution_count": 7,
   "id": "e2f2af26-2d7b-4010-9fe6-9c58186942af",
   "metadata": {},
   "outputs": [
    {
     "name": "stdout",
     "output_type": "stream",
     "text": [
      "Index(['ds', 'product_id', 'total_TN', 'año', 'mes', 'trimestre',\n",
      "       'cat1_encoded', 'cat2_encoded', 'cat3_encoded', 'brand_encoded',\n",
      "       'avg_tn_por_producto', 'avg_qty_por_cliente', 'ratio_tn_qty',\n",
      "       'precios_cuidados', 'sku_size', 'avg_size_por_brand',\n",
      "       'max_size_por_brand', 'min_size_por_brand', 'size_range_por_brand',\n",
      "       'tamaño_categoria'],\n",
      "      dtype='object')\n"
     ]
    },
    {
     "data": {
      "text/html": [
       "<div>\n",
       "<style scoped>\n",
       "    .dataframe tbody tr th:only-of-type {\n",
       "        vertical-align: middle;\n",
       "    }\n",
       "\n",
       "    .dataframe tbody tr th {\n",
       "        vertical-align: top;\n",
       "    }\n",
       "\n",
       "    .dataframe thead th {\n",
       "        text-align: right;\n",
       "    }\n",
       "</style>\n",
       "<table border=\"1\" class=\"dataframe\">\n",
       "  <thead>\n",
       "    <tr style=\"text-align: right;\">\n",
       "      <th></th>\n",
       "      <th>ds</th>\n",
       "      <th>product_id</th>\n",
       "      <th>total_TN</th>\n",
       "      <th>año</th>\n",
       "      <th>mes</th>\n",
       "      <th>trimestre</th>\n",
       "      <th>cat1_encoded</th>\n",
       "      <th>cat2_encoded</th>\n",
       "      <th>cat3_encoded</th>\n",
       "      <th>brand_encoded</th>\n",
       "      <th>avg_tn_por_producto</th>\n",
       "      <th>avg_qty_por_cliente</th>\n",
       "      <th>ratio_tn_qty</th>\n",
       "      <th>precios_cuidados</th>\n",
       "      <th>sku_size</th>\n",
       "      <th>avg_size_por_brand</th>\n",
       "      <th>max_size_por_brand</th>\n",
       "      <th>min_size_por_brand</th>\n",
       "      <th>size_range_por_brand</th>\n",
       "      <th>tamaño_categoria</th>\n",
       "    </tr>\n",
       "  </thead>\n",
       "  <tbody>\n",
       "    <tr>\n",
       "      <th>0</th>\n",
       "      <td>2017-01-01</td>\n",
       "      <td>20001</td>\n",
       "      <td>934.77222</td>\n",
       "      <td>2017</td>\n",
       "      <td>1</td>\n",
       "      <td>1</td>\n",
       "      <td>1</td>\n",
       "      <td>10</td>\n",
       "      <td>47</td>\n",
       "      <td>0</td>\n",
       "      <td>8.156253</td>\n",
       "      <td>1.910679</td>\n",
       "      <td>1.018760</td>\n",
       "      <td>0.0</td>\n",
       "      <td>3000.0</td>\n",
       "      <td>1834.663381</td>\n",
       "      <td>3000.0</td>\n",
       "      <td>400.0</td>\n",
       "      <td>2600.0</td>\n",
       "      <td>3</td>\n",
       "    </tr>\n",
       "    <tr>\n",
       "      <th>1</th>\n",
       "      <td>2017-01-01</td>\n",
       "      <td>20002</td>\n",
       "      <td>550.15707</td>\n",
       "      <td>2017</td>\n",
       "      <td>1</td>\n",
       "      <td>1</td>\n",
       "      <td>1</td>\n",
       "      <td>10</td>\n",
       "      <td>47</td>\n",
       "      <td>15</td>\n",
       "      <td>6.056209</td>\n",
       "      <td>2.022002</td>\n",
       "      <td>0.960741</td>\n",
       "      <td>0.0</td>\n",
       "      <td>3000.0</td>\n",
       "      <td>1245.871918</td>\n",
       "      <td>10000.0</td>\n",
       "      <td>120.0</td>\n",
       "      <td>9880.0</td>\n",
       "      <td>2</td>\n",
       "    </tr>\n",
       "    <tr>\n",
       "      <th>2</th>\n",
       "      <td>2017-01-01</td>\n",
       "      <td>20003</td>\n",
       "      <td>1063.45835</td>\n",
       "      <td>2017</td>\n",
       "      <td>1</td>\n",
       "      <td>1</td>\n",
       "      <td>0</td>\n",
       "      <td>0</td>\n",
       "      <td>48</td>\n",
       "      <td>22</td>\n",
       "      <td>4.711343</td>\n",
       "      <td>1.744776</td>\n",
       "      <td>1.809341</td>\n",
       "      <td>0.0</td>\n",
       "      <td>475.0</td>\n",
       "      <td>365.348880</td>\n",
       "      <td>1000.0</td>\n",
       "      <td>60.0</td>\n",
       "      <td>940.0</td>\n",
       "      <td>2</td>\n",
       "    </tr>\n",
       "    <tr>\n",
       "      <th>3</th>\n",
       "      <td>2017-01-01</td>\n",
       "      <td>20004</td>\n",
       "      <td>555.91614</td>\n",
       "      <td>2017</td>\n",
       "      <td>1</td>\n",
       "      <td>1</td>\n",
       "      <td>0</td>\n",
       "      <td>0</td>\n",
       "      <td>48</td>\n",
       "      <td>22</td>\n",
       "      <td>3.386770</td>\n",
       "      <td>1.798512</td>\n",
       "      <td>1.337207</td>\n",
       "      <td>0.0</td>\n",
       "      <td>240.0</td>\n",
       "      <td>365.348880</td>\n",
       "      <td>1000.0</td>\n",
       "      <td>60.0</td>\n",
       "      <td>940.0</td>\n",
       "      <td>2</td>\n",
       "    </tr>\n",
       "    <tr>\n",
       "      <th>4</th>\n",
       "      <td>2017-01-01</td>\n",
       "      <td>20005</td>\n",
       "      <td>494.27011</td>\n",
       "      <td>2017</td>\n",
       "      <td>1</td>\n",
       "      <td>1</td>\n",
       "      <td>0</td>\n",
       "      <td>0</td>\n",
       "      <td>48</td>\n",
       "      <td>22</td>\n",
       "      <td>3.923400</td>\n",
       "      <td>1.862131</td>\n",
       "      <td>1.398542</td>\n",
       "      <td>0.0</td>\n",
       "      <td>120.0</td>\n",
       "      <td>365.348880</td>\n",
       "      <td>1000.0</td>\n",
       "      <td>60.0</td>\n",
       "      <td>940.0</td>\n",
       "      <td>2</td>\n",
       "    </tr>\n",
       "    <tr>\n",
       "      <th>...</th>\n",
       "      <td>...</td>\n",
       "      <td>...</td>\n",
       "      <td>...</td>\n",
       "      <td>...</td>\n",
       "      <td>...</td>\n",
       "      <td>...</td>\n",
       "      <td>...</td>\n",
       "      <td>...</td>\n",
       "      <td>...</td>\n",
       "      <td>...</td>\n",
       "      <td>...</td>\n",
       "      <td>...</td>\n",
       "      <td>...</td>\n",
       "      <td>...</td>\n",
       "      <td>...</td>\n",
       "      <td>...</td>\n",
       "      <td>...</td>\n",
       "      <td>...</td>\n",
       "      <td>...</td>\n",
       "      <td>...</td>\n",
       "    </tr>\n",
       "    <tr>\n",
       "      <th>427</th>\n",
       "      <td>2019-12-01</td>\n",
       "      <td>20008</td>\n",
       "      <td>195.36854</td>\n",
       "      <td>2019</td>\n",
       "      <td>12</td>\n",
       "      <td>4</td>\n",
       "      <td>1</td>\n",
       "      <td>14</td>\n",
       "      <td>53</td>\n",
       "      <td>15</td>\n",
       "      <td>3.091321</td>\n",
       "      <td>2.280424</td>\n",
       "      <td>1.194656</td>\n",
       "      <td>0.0</td>\n",
       "      <td>750.0</td>\n",
       "      <td>1245.871918</td>\n",
       "      <td>10000.0</td>\n",
       "      <td>120.0</td>\n",
       "      <td>9880.0</td>\n",
       "      <td>2</td>\n",
       "    </tr>\n",
       "    <tr>\n",
       "      <th>428</th>\n",
       "      <td>2019-12-01</td>\n",
       "      <td>20009</td>\n",
       "      <td>495.03574</td>\n",
       "      <td>2019</td>\n",
       "      <td>12</td>\n",
       "      <td>4</td>\n",
       "      <td>1</td>\n",
       "      <td>10</td>\n",
       "      <td>47</td>\n",
       "      <td>25</td>\n",
       "      <td>3.018410</td>\n",
       "      <td>2.215033</td>\n",
       "      <td>1.393536</td>\n",
       "      <td>0.0</td>\n",
       "      <td>3000.0</td>\n",
       "      <td>1659.303624</td>\n",
       "      <td>10000.0</td>\n",
       "      <td>400.0</td>\n",
       "      <td>9600.0</td>\n",
       "      <td>2</td>\n",
       "    </tr>\n",
       "    <tr>\n",
       "      <th>429</th>\n",
       "      <td>2019-12-01</td>\n",
       "      <td>20010</td>\n",
       "      <td>359.59998</td>\n",
       "      <td>2019</td>\n",
       "      <td>12</td>\n",
       "      <td>4</td>\n",
       "      <td>1</td>\n",
       "      <td>10</td>\n",
       "      <td>60</td>\n",
       "      <td>15</td>\n",
       "      <td>4.049247</td>\n",
       "      <td>2.081314</td>\n",
       "      <td>1.871189</td>\n",
       "      <td>0.0</td>\n",
       "      <td>400.0</td>\n",
       "      <td>1245.871918</td>\n",
       "      <td>10000.0</td>\n",
       "      <td>120.0</td>\n",
       "      <td>9880.0</td>\n",
       "      <td>2</td>\n",
       "    </tr>\n",
       "    <tr>\n",
       "      <th>430</th>\n",
       "      <td>2019-12-01</td>\n",
       "      <td>20011</td>\n",
       "      <td>392.38290</td>\n",
       "      <td>2019</td>\n",
       "      <td>12</td>\n",
       "      <td>4</td>\n",
       "      <td>1</td>\n",
       "      <td>10</td>\n",
       "      <td>60</td>\n",
       "      <td>15</td>\n",
       "      <td>3.448843</td>\n",
       "      <td>2.045489</td>\n",
       "      <td>0.989774</td>\n",
       "      <td>0.0</td>\n",
       "      <td>3000.0</td>\n",
       "      <td>1245.871918</td>\n",
       "      <td>10000.0</td>\n",
       "      <td>120.0</td>\n",
       "      <td>9880.0</td>\n",
       "      <td>2</td>\n",
       "    </tr>\n",
       "    <tr>\n",
       "      <th>431</th>\n",
       "      <td>2019-12-01</td>\n",
       "      <td>20012</td>\n",
       "      <td>173.13004</td>\n",
       "      <td>2019</td>\n",
       "      <td>12</td>\n",
       "      <td>4</td>\n",
       "      <td>1</td>\n",
       "      <td>9</td>\n",
       "      <td>0</td>\n",
       "      <td>8</td>\n",
       "      <td>3.084606</td>\n",
       "      <td>2.304369</td>\n",
       "      <td>0.925786</td>\n",
       "      <td>0.0</td>\n",
       "      <td>800.0</td>\n",
       "      <td>1310.787618</td>\n",
       "      <td>5000.0</td>\n",
       "      <td>450.0</td>\n",
       "      <td>4550.0</td>\n",
       "      <td>2</td>\n",
       "    </tr>\n",
       "  </tbody>\n",
       "</table>\n",
       "<p>432 rows × 20 columns</p>\n",
       "</div>"
      ],
      "text/plain": [
       "            ds  product_id    total_TN   año  mes  trimestre  cat1_encoded  \\\n",
       "0   2017-01-01       20001   934.77222  2017    1          1             1   \n",
       "1   2017-01-01       20002   550.15707  2017    1          1             1   \n",
       "2   2017-01-01       20003  1063.45835  2017    1          1             0   \n",
       "3   2017-01-01       20004   555.91614  2017    1          1             0   \n",
       "4   2017-01-01       20005   494.27011  2017    1          1             0   \n",
       "..         ...         ...         ...   ...  ...        ...           ...   \n",
       "427 2019-12-01       20008   195.36854  2019   12          4             1   \n",
       "428 2019-12-01       20009   495.03574  2019   12          4             1   \n",
       "429 2019-12-01       20010   359.59998  2019   12          4             1   \n",
       "430 2019-12-01       20011   392.38290  2019   12          4             1   \n",
       "431 2019-12-01       20012   173.13004  2019   12          4             1   \n",
       "\n",
       "     cat2_encoded  cat3_encoded  brand_encoded  avg_tn_por_producto  \\\n",
       "0              10            47              0             8.156253   \n",
       "1              10            47             15             6.056209   \n",
       "2               0            48             22             4.711343   \n",
       "3               0            48             22             3.386770   \n",
       "4               0            48             22             3.923400   \n",
       "..            ...           ...            ...                  ...   \n",
       "427            14            53             15             3.091321   \n",
       "428            10            47             25             3.018410   \n",
       "429            10            60             15             4.049247   \n",
       "430            10            60             15             3.448843   \n",
       "431             9             0              8             3.084606   \n",
       "\n",
       "     avg_qty_por_cliente  ratio_tn_qty  precios_cuidados  sku_size  \\\n",
       "0               1.910679      1.018760               0.0    3000.0   \n",
       "1               2.022002      0.960741               0.0    3000.0   \n",
       "2               1.744776      1.809341               0.0     475.0   \n",
       "3               1.798512      1.337207               0.0     240.0   \n",
       "4               1.862131      1.398542               0.0     120.0   \n",
       "..                   ...           ...               ...       ...   \n",
       "427             2.280424      1.194656               0.0     750.0   \n",
       "428             2.215033      1.393536               0.0    3000.0   \n",
       "429             2.081314      1.871189               0.0     400.0   \n",
       "430             2.045489      0.989774               0.0    3000.0   \n",
       "431             2.304369      0.925786               0.0     800.0   \n",
       "\n",
       "     avg_size_por_brand  max_size_por_brand  min_size_por_brand  \\\n",
       "0           1834.663381              3000.0               400.0   \n",
       "1           1245.871918             10000.0               120.0   \n",
       "2            365.348880              1000.0                60.0   \n",
       "3            365.348880              1000.0                60.0   \n",
       "4            365.348880              1000.0                60.0   \n",
       "..                  ...                 ...                 ...   \n",
       "427         1245.871918             10000.0               120.0   \n",
       "428         1659.303624             10000.0               400.0   \n",
       "429         1245.871918             10000.0               120.0   \n",
       "430         1245.871918             10000.0               120.0   \n",
       "431         1310.787618              5000.0               450.0   \n",
       "\n",
       "     size_range_por_brand  tamaño_categoria  \n",
       "0                  2600.0                 3  \n",
       "1                  9880.0                 2  \n",
       "2                   940.0                 2  \n",
       "3                   940.0                 2  \n",
       "4                   940.0                 2  \n",
       "..                    ...               ...  \n",
       "427                9880.0                 2  \n",
       "428                9600.0                 2  \n",
       "429                9880.0                 2  \n",
       "430                9880.0                 2  \n",
       "431                4550.0                 2  \n",
       "\n",
       "[432 rows x 20 columns]"
      ]
     },
     "execution_count": 7,
     "metadata": {},
     "output_type": "execute_result"
    }
   ],
   "source": [
    "print(datos_sumarizados.columns)\n",
    "datos_sumarizados"
   ]
  },
  {
   "cell_type": "code",
   "execution_count": 9,
   "id": "24c06936-b818-4794-ab0c-b434256ac53b",
   "metadata": {},
   "outputs": [
    {
     "data": {
      "application/vnd.jupyter.widget-view+json": {
       "model_id": "caca8aa638964e6b8430741010109f09",
       "version_major": 2,
       "version_minor": 0
      },
      "text/plain": [
       "Finding best initial lr:   0%|          | 0/203 [00:00<?, ?it/s]"
      ]
     },
     "metadata": {},
     "output_type": "display_data"
    },
    {
     "data": {
      "application/vnd.jupyter.widget-view+json": {
       "model_id": "0776791a0133453ab3979b1be7f449a1",
       "version_major": 2,
       "version_minor": 0
      },
      "text/plain": [
       "Training: 0it [00:00, ?it/s]"
      ]
     },
     "metadata": {},
     "output_type": "display_data"
    },
    {
     "data": {
      "application/vnd.jupyter.widget-view+json": {
       "model_id": "8ee023d12723400599352bf73acfb7a3",
       "version_major": 2,
       "version_minor": 0
      },
      "text/plain": [
       "Predicting: 4it [00:00, ?it/s]"
      ]
     },
     "metadata": {},
     "output_type": "display_data"
    },
    {
     "data": {
      "application/vnd.jupyter.widget-view+json": {
       "model_id": "73c5a1393b474eef89e4793b7d2b2266",
       "version_major": 2,
       "version_minor": 0
      },
      "text/plain": [
       "Finding best initial lr:   0%|          | 0/203 [00:00<?, ?it/s]"
      ]
     },
     "metadata": {},
     "output_type": "display_data"
    },
    {
     "data": {
      "application/vnd.jupyter.widget-view+json": {
       "model_id": "02ab65e568f549ada98132b2215f786e",
       "version_major": 2,
       "version_minor": 0
      },
      "text/plain": [
       "Training: 0it [00:00, ?it/s]"
      ]
     },
     "metadata": {},
     "output_type": "display_data"
    },
    {
     "data": {
      "application/vnd.jupyter.widget-view+json": {
       "model_id": "a10867b1143443d087bfadb5b956d64d",
       "version_major": 2,
       "version_minor": 0
      },
      "text/plain": [
       "Predicting: 4it [00:00, ?it/s]"
      ]
     },
     "metadata": {},
     "output_type": "display_data"
    },
    {
     "data": {
      "application/vnd.jupyter.widget-view+json": {
       "model_id": "1b11d6784a6b46b09c32b0272fdf1c10",
       "version_major": 2,
       "version_minor": 0
      },
      "text/plain": [
       "Finding best initial lr:   0%|          | 0/203 [00:00<?, ?it/s]"
      ]
     },
     "metadata": {},
     "output_type": "display_data"
    },
    {
     "data": {
      "application/vnd.jupyter.widget-view+json": {
       "model_id": "d663d4753eea4743b04bf39ba2962210",
       "version_major": 2,
       "version_minor": 0
      },
      "text/plain": [
       "Training: 0it [00:00, ?it/s]"
      ]
     },
     "metadata": {},
     "output_type": "display_data"
    },
    {
     "data": {
      "application/vnd.jupyter.widget-view+json": {
       "model_id": "804742bcfb2c4b6f8d374c7e924a4d74",
       "version_major": 2,
       "version_minor": 0
      },
      "text/plain": [
       "Predicting: 4it [00:00, ?it/s]"
      ]
     },
     "metadata": {},
     "output_type": "display_data"
    },
    {
     "data": {
      "application/vnd.jupyter.widget-view+json": {
       "model_id": "00e6e074d82e456b88769a41b3c05659",
       "version_major": 2,
       "version_minor": 0
      },
      "text/plain": [
       "Finding best initial lr:   0%|          | 0/203 [00:00<?, ?it/s]"
      ]
     },
     "metadata": {},
     "output_type": "display_data"
    },
    {
     "data": {
      "application/vnd.jupyter.widget-view+json": {
       "model_id": "a4e0683473fc493da517c3c2b8a5b8b1",
       "version_major": 2,
       "version_minor": 0
      },
      "text/plain": [
       "Training: 0it [00:00, ?it/s]"
      ]
     },
     "metadata": {},
     "output_type": "display_data"
    },
    {
     "data": {
      "application/vnd.jupyter.widget-view+json": {
       "model_id": "bb45b424b23c4fa8965755bc738592d5",
       "version_major": 2,
       "version_minor": 0
      },
      "text/plain": [
       "Predicting: 4it [00:00, ?it/s]"
      ]
     },
     "metadata": {},
     "output_type": "display_data"
    },
    {
     "data": {
      "application/vnd.jupyter.widget-view+json": {
       "model_id": "c9cb9d49e0fd4f6b86704a64b3593090",
       "version_major": 2,
       "version_minor": 0
      },
      "text/plain": [
       "Finding best initial lr:   0%|          | 0/203 [00:00<?, ?it/s]"
      ]
     },
     "metadata": {},
     "output_type": "display_data"
    },
    {
     "data": {
      "application/vnd.jupyter.widget-view+json": {
       "model_id": "e6a172a24f5d4b5299ca4f2eeea815ee",
       "version_major": 2,
       "version_minor": 0
      },
      "text/plain": [
       "Training: 0it [00:00, ?it/s]"
      ]
     },
     "metadata": {},
     "output_type": "display_data"
    },
    {
     "data": {
      "application/vnd.jupyter.widget-view+json": {
       "model_id": "44da24ededbd4819bb6c84d06f468409",
       "version_major": 2,
       "version_minor": 0
      },
      "text/plain": [
       "Predicting: 4it [00:00, ?it/s]"
      ]
     },
     "metadata": {},
     "output_type": "display_data"
    },
    {
     "data": {
      "application/vnd.jupyter.widget-view+json": {
       "model_id": "7e5d7d2d718d46a1b13a1ffd04fba1a6",
       "version_major": 2,
       "version_minor": 0
      },
      "text/plain": [
       "Finding best initial lr:   0%|          | 0/203 [00:00<?, ?it/s]"
      ]
     },
     "metadata": {},
     "output_type": "display_data"
    },
    {
     "data": {
      "application/vnd.jupyter.widget-view+json": {
       "model_id": "29de8bec750d4d288970dbbe6c707b80",
       "version_major": 2,
       "version_minor": 0
      },
      "text/plain": [
       "Training: 0it [00:00, ?it/s]"
      ]
     },
     "metadata": {},
     "output_type": "display_data"
    },
    {
     "data": {
      "application/vnd.jupyter.widget-view+json": {
       "model_id": "82a0df8fba9b434685be0c1590cacf49",
       "version_major": 2,
       "version_minor": 0
      },
      "text/plain": [
       "Predicting: 4it [00:00, ?it/s]"
      ]
     },
     "metadata": {},
     "output_type": "display_data"
    },
    {
     "data": {
      "application/vnd.jupyter.widget-view+json": {
       "model_id": "4e67cde42e364dac98cf065d08a31103",
       "version_major": 2,
       "version_minor": 0
      },
      "text/plain": [
       "Finding best initial lr:   0%|          | 0/203 [00:00<?, ?it/s]"
      ]
     },
     "metadata": {},
     "output_type": "display_data"
    },
    {
     "data": {
      "application/vnd.jupyter.widget-view+json": {
       "model_id": "f174910de36c49ed998c9a273087e32a",
       "version_major": 2,
       "version_minor": 0
      },
      "text/plain": [
       "Training: 0it [00:00, ?it/s]"
      ]
     },
     "metadata": {},
     "output_type": "display_data"
    },
    {
     "data": {
      "application/vnd.jupyter.widget-view+json": {
       "model_id": "803c53df4b0d4d00b274acd7be7e38a3",
       "version_major": 2,
       "version_minor": 0
      },
      "text/plain": [
       "Predicting: 4it [00:00, ?it/s]"
      ]
     },
     "metadata": {},
     "output_type": "display_data"
    },
    {
     "data": {
      "application/vnd.jupyter.widget-view+json": {
       "model_id": "bdbbf8b5b13745a19a29afe5ccea2d13",
       "version_major": 2,
       "version_minor": 0
      },
      "text/plain": [
       "Finding best initial lr:   0%|          | 0/203 [00:00<?, ?it/s]"
      ]
     },
     "metadata": {},
     "output_type": "display_data"
    },
    {
     "data": {
      "application/vnd.jupyter.widget-view+json": {
       "model_id": "df498151a4264f9ea836331dd8932f56",
       "version_major": 2,
       "version_minor": 0
      },
      "text/plain": [
       "Training: 0it [00:00, ?it/s]"
      ]
     },
     "metadata": {},
     "output_type": "display_data"
    },
    {
     "data": {
      "application/vnd.jupyter.widget-view+json": {
       "model_id": "6582d3177a9242c7820f1c3fa30ddaa2",
       "version_major": 2,
       "version_minor": 0
      },
      "text/plain": [
       "Predicting: 4it [00:00, ?it/s]"
      ]
     },
     "metadata": {},
     "output_type": "display_data"
    },
    {
     "data": {
      "application/vnd.jupyter.widget-view+json": {
       "model_id": "9aab00a2823845d3996356787ba936a5",
       "version_major": 2,
       "version_minor": 0
      },
      "text/plain": [
       "Finding best initial lr:   0%|          | 0/203 [00:00<?, ?it/s]"
      ]
     },
     "metadata": {},
     "output_type": "display_data"
    },
    {
     "data": {
      "application/vnd.jupyter.widget-view+json": {
       "model_id": "2e7ab390edd74e0e80695ce015fbfd82",
       "version_major": 2,
       "version_minor": 0
      },
      "text/plain": [
       "Training: 0it [00:00, ?it/s]"
      ]
     },
     "metadata": {},
     "output_type": "display_data"
    },
    {
     "data": {
      "application/vnd.jupyter.widget-view+json": {
       "model_id": "f4f6e535ffde4cc8968159a9110886aa",
       "version_major": 2,
       "version_minor": 0
      },
      "text/plain": [
       "Predicting: 4it [00:00, ?it/s]"
      ]
     },
     "metadata": {},
     "output_type": "display_data"
    },
    {
     "data": {
      "application/vnd.jupyter.widget-view+json": {
       "model_id": "dfe068dd2afe4ccb8daf4684867b4529",
       "version_major": 2,
       "version_minor": 0
      },
      "text/plain": [
       "Finding best initial lr:   0%|          | 0/203 [00:00<?, ?it/s]"
      ]
     },
     "metadata": {},
     "output_type": "display_data"
    },
    {
     "data": {
      "application/vnd.jupyter.widget-view+json": {
       "model_id": "2fcd06bf186342108a039ea9e136186d",
       "version_major": 2,
       "version_minor": 0
      },
      "text/plain": [
       "Training: 0it [00:00, ?it/s]"
      ]
     },
     "metadata": {},
     "output_type": "display_data"
    },
    {
     "data": {
      "application/vnd.jupyter.widget-view+json": {
       "model_id": "0315cea84b764aa9adaad3ccf35895a0",
       "version_major": 2,
       "version_minor": 0
      },
      "text/plain": [
       "Predicting: 4it [00:00, ?it/s]"
      ]
     },
     "metadata": {},
     "output_type": "display_data"
    },
    {
     "data": {
      "application/vnd.jupyter.widget-view+json": {
       "model_id": "2d2e06474deb4e3fb870b407240f9d93",
       "version_major": 2,
       "version_minor": 0
      },
      "text/plain": [
       "Finding best initial lr:   0%|          | 0/203 [00:00<?, ?it/s]"
      ]
     },
     "metadata": {},
     "output_type": "display_data"
    },
    {
     "data": {
      "application/vnd.jupyter.widget-view+json": {
       "model_id": "f29a85e6e275430cbad97039ddb5f22a",
       "version_major": 2,
       "version_minor": 0
      },
      "text/plain": [
       "Training: 0it [00:00, ?it/s]"
      ]
     },
     "metadata": {},
     "output_type": "display_data"
    },
    {
     "data": {
      "application/vnd.jupyter.widget-view+json": {
       "model_id": "296a81d401834f78b1a50a46942f3cbf",
       "version_major": 2,
       "version_minor": 0
      },
      "text/plain": [
       "Predicting: 4it [00:00, ?it/s]"
      ]
     },
     "metadata": {},
     "output_type": "display_data"
    },
    {
     "data": {
      "application/vnd.jupyter.widget-view+json": {
       "model_id": "66d726df8b3e4beebe6a59ad36d66290",
       "version_major": 2,
       "version_minor": 0
      },
      "text/plain": [
       "Finding best initial lr:   0%|          | 0/203 [00:00<?, ?it/s]"
      ]
     },
     "metadata": {},
     "output_type": "display_data"
    },
    {
     "data": {
      "application/vnd.jupyter.widget-view+json": {
       "model_id": "9d4e53b8ab4f4ed9b29d054d4497c24c",
       "version_major": 2,
       "version_minor": 0
      },
      "text/plain": [
       "Training: 0it [00:00, ?it/s]"
      ]
     },
     "metadata": {},
     "output_type": "display_data"
    },
    {
     "data": {
      "application/vnd.jupyter.widget-view+json": {
       "model_id": "d824644a59c04a52b7d870fceeb47def",
       "version_major": 2,
       "version_minor": 0
      },
      "text/plain": [
       "Predicting: 4it [00:00, ?it/s]"
      ]
     },
     "metadata": {},
     "output_type": "display_data"
    }
   ],
   "source": [
    "# Suponemos que 'datos' ya está preparado y contiene las columnas ['ds', 'y', 'product_id']\n",
    "datos['ds'] = pd.to_datetime(datos['ds'])\n",
    "datos.sort_values(by=['product_id', 'ds'], inplace=True)\n",
    "\n",
    "# Filtrar productos con más de 15 periodos de historia\n",
    "productos_mas_historia = datos_completos_cero['product_id'].value_counts()[datos_completos_cero['product_id'].value_counts() > 15].index.tolist()\n",
    "print(f\"Número de productos con más de 15 periodos de historia: {len(productos_mas_historia)}\")\n",
    "\n",
    "# Dividir los datos en train, validation y test\n",
    "train_df = datos_completos_cero[datos_completos_cero['ds'] < '2019-11-01']\n",
    "val_df = datos_completos_cero[datos_completos_cero['ds'] == '2019-11-01']\n",
    "test_df = datos_completos_cero[datos_completos_cero['ds'] == '2019-12-01']\n",
    "\n",
    "def entrenar_y_predecir(train_df, val_df, test_df):\n",
    "    modelos = {}\n",
    "    predicciones = pd.DataFrame()\n",
    "    for producto in tqdm(productos_mas_historia, desc=\"Procesando productos\"):\n",
    "        df_producto_train = train_df[train_df['product_id'] == producto][['ds', 'y']]\n",
    "        df_producto_val = val_df[val_df['product_id'] == producto][['ds', 'y']]\n",
    "        df_producto_test = test_df[test_df['product_id'] == producto][['ds', 'y']]\n",
    "        \n",
    "        m = NeuralProphet(\n",
    "            n_forecasts=2,\n",
    "            yearly_seasonality=True,\n",
    "            batch_size=12,\n",
    "            epochs=1000,\n",
    "            learning_rate=0.025,\n",
    "            loss_func='Huber',\n",
    "            daily_seasonality=False,\n",
    "            weekly_seasonality=False,\n",
    "            seasonality_mode='multiplicative',\n",
    "            # Agregado\n",
    "            #lagged_reg_layers=[16, 8],\n",
    "        )\n",
    "        \n",
    "        # Combinar train y validation para el entrenamiento final\n",
    "        df_producto_train_val = pd.concat([df_producto_train, df_producto_val])\n",
    "        \n",
    "        m.fit(df_producto_train, validation_df=df_producto_val, freq='M')\n",
    "        \n",
    "        # Crear future dataframe manualmente\n",
    "        last_date = df_producto_test['ds'].max()\n",
    "        future_dates = pd.date_range(start=last_date, periods=3, freq='MS')[1:]  # Dos meses adelante\n",
    "        future = pd.DataFrame({'ds': future_dates, 'y': [None]*len(future_dates)})\n",
    "        \n",
    "        forecast = m.predict(future)\n",
    "        \n",
    "        forecast.loc[forecast['yhat1'] < 0, 'yhat1'] = 0  # Convertir valores negativos a cero\n",
    "        pred_febrero_2020 = forecast[forecast['ds'] == pd.Timestamp('2020-02-01')][['ds', 'yhat1']]\n",
    "        pred_febrero_2020['product_id'] = producto\n",
    "        predicciones = pd.concat([predicciones, pred_febrero_2020[['ds', 'yhat1', 'product_id']]])\n",
    "        modelos[producto] = m\n",
    "    return predicciones, modelos\n",
    "\n",
    "# Entrenar el modelo y obtener predicciones\n",
    "predicciones_febrero_2020, modelos = entrenar_y_predecir(train_df, val_df, test_df)\n",
    "\n",
    "# Renombrar las columnas para el archivo de salida\n",
    "predicciones_febrero_2020.rename(columns={'yhat1': 'tn'}, inplace=True)\n",
    "\n",
    "# Convertir la columna 'ds' al formato YYYYMM\n",
    "predicciones_febrero_2020['ds'] = predicciones_febrero_2020['ds'].dt.strftime('%Y%m')\n",
    "\n",
    "# Guardar el resultado en un archivo .csv solo con la predicción para febrero 2020\n",
    "predicciones_febrero_2020.to_csv('NeuralProphet_mas_20_periodos.v7.1.1.csv', index=False)\n",
    "\n",
    "# Mostrar un resumen del resultado\n",
    "print(f\"Número total de predicciones: {len(predicciones_febrero_2020)}\")\n",
    "print(predicciones_febrero_2020.head())\n",
    "#########################\n",
    "#########################\n",
    "#########################\n",
    "\n",
    "from neuralprophet import NeuralProphet\n",
    "import pandas as pd\n",
    "\n",
    "# Renombrar la columna 'total_TN' a 'y'\n",
    "datos_sumarizados = datos_sumarizados.rename(columns={'total_TN': 'y'})\n",
    "\n",
    "# Definir las columnas necesarias para NeuralProphet\n",
    "expected_columns = ['ds', 'y']\n",
    "\n",
    "# Filtrar datos por product_id\n",
    "product_ids = datos_sumarizados['product_id'].unique()\n",
    "\n",
    "# Preparar un DataFrame para almacenar los resultados\n",
    "resultados = pd.DataFrame()\n",
    "\n",
    "# Entrenar y predecir para cada product_id\n",
    "for pid in product_ids:\n",
    "    # Crear una nueva instancia del modelo para cada product_id\n",
    "    model = NeuralProphet(\n",
    "        n_lags=3,  # Número de lags para los regresores\n",
    "        n_forecasts=2,  # Número de períodos a predecir\n",
    "    )\n",
    "    \n",
    "    datos_producto = datos_sumarizados[datos_sumarizados['product_id'] == pid].copy()\n",
    "    \n",
    "    # Filtrar las columnas necesarias\n",
    "    datos_producto = datos_producto[expected_columns]\n",
    "    \n",
    "    # Asegurarse de que 'ds' sea de tipo datetime\n",
    "    datos_producto['ds'] = pd.to_datetime(datos_producto['ds'])\n",
    "    \n",
    "    # Ordenar los datos por fecha\n",
    "    datos_producto = datos_producto.sort_values('ds')\n",
    "    \n",
    "    # Verificar si hay suficientes datos para entrenar el modelo\n",
    "    if len(datos_producto) <= 3:\n",
    "        print(f\"Not enough data for product_id {pid}\")\n",
    "        continue\n",
    "    \n",
    "    # Entrenar el modelo\n",
    "    model.fit(datos_producto, freq='M')\n",
    "    \n",
    "    # Crear DataFrame futuro\n",
    "    future = model.make_future_dataframe(df=datos_producto, periods=2)\n",
    "    \n",
    "    # Predecir\n",
    "    forecast = model.predict(future)\n",
    "    \n",
    "    # Verificar las predicciones\n",
    "    if forecast.empty:\n",
    "        print(f\"No predictions for product_id {pid}\")\n",
    "        continue\n",
    "    \n",
    "    # Filtrar predicciones para febrero de 2020\n",
    "    predicciones_febrero = forecast[forecast['ds'].dt.strftime('%Y-%m') == '2020-02'][['ds', 'yhat1']]\n",
    "    \n",
    "    # Verificar si hay predicciones para febrero de 2020\n",
    "    if predicciones_febrero.empty:\n",
    "        print(f\"No predictions for February 2020 for product_id {pid}\")\n",
    "        continue\n",
    "    \n",
    "    # Agregar product_id a las predicciones\n",
    "    predicciones_febrero['product_id'] = pid\n",
    "    \n",
    "    # Renombrar la columna de predicción\n",
    "    predicciones_febrero.rename(columns={'yhat1': 'tn'}, inplace=True)\n",
    "    \n",
    "    # Añadir las predicciones al DataFrame de resultados\n",
    "    resultados = pd.concat([resultados, predicciones_febrero])\n",
    "\n",
    "# Guardar los resultados en un archivo CSV\n",
    "resultados[['product_id', 'tn']].to_csv('predicciones_febrero_2020.v9.0.0.csv', index=False)\n"
   ]
  },
  {
   "cell_type": "code",
   "execution_count": 8,
   "id": "73fa1008-39a8-4530-89e5-07f62d917395",
   "metadata": {},
   "outputs": [
    {
     "data": {
      "application/vnd.jupyter.widget-view+json": {
       "model_id": "730a0c88b03048088cf5a2f2c95d9446",
       "version_major": 2,
       "version_minor": 0
      },
      "text/plain": [
       "Finding best initial lr:   0%|          | 0/203 [00:00<?, ?it/s]"
      ]
     },
     "metadata": {},
     "output_type": "display_data"
    },
    {
     "data": {
      "application/vnd.jupyter.widget-view+json": {
       "model_id": "d3ea52d17cc7416b93e1c1bc70a76e01",
       "version_major": 2,
       "version_minor": 0
      },
      "text/plain": [
       "Training: 0it [00:00, ?it/s]"
      ]
     },
     "metadata": {},
     "output_type": "display_data"
    },
    {
     "data": {
      "application/vnd.jupyter.widget-view+json": {
       "model_id": "3f9c9ab2e4b84eb4ae8dc364c51998cd",
       "version_major": 2,
       "version_minor": 0
      },
      "text/plain": [
       "Predicting: 4it [00:00, ?it/s]"
      ]
     },
     "metadata": {},
     "output_type": "display_data"
    },
    {
     "data": {
      "application/vnd.jupyter.widget-view+json": {
       "model_id": "53fc18efb7964574ba5ef415e209b717",
       "version_major": 2,
       "version_minor": 0
      },
      "text/plain": [
       "Finding best initial lr:   0%|          | 0/203 [00:00<?, ?it/s]"
      ]
     },
     "metadata": {},
     "output_type": "display_data"
    },
    {
     "data": {
      "application/vnd.jupyter.widget-view+json": {
       "model_id": "a1e4a1bb8936464499f161fd73d60f3c",
       "version_major": 2,
       "version_minor": 0
      },
      "text/plain": [
       "Training: 0it [00:00, ?it/s]"
      ]
     },
     "metadata": {},
     "output_type": "display_data"
    },
    {
     "data": {
      "application/vnd.jupyter.widget-view+json": {
       "model_id": "68b6b4b4eb474bd0a4e4e727fdf6c5ee",
       "version_major": 2,
       "version_minor": 0
      },
      "text/plain": [
       "Predicting: 4it [00:00, ?it/s]"
      ]
     },
     "metadata": {},
     "output_type": "display_data"
    },
    {
     "data": {
      "application/vnd.jupyter.widget-view+json": {
       "model_id": "6d61e14be9944d96baca2dfed0b8bafa",
       "version_major": 2,
       "version_minor": 0
      },
      "text/plain": [
       "Finding best initial lr:   0%|          | 0/203 [00:00<?, ?it/s]"
      ]
     },
     "metadata": {},
     "output_type": "display_data"
    },
    {
     "data": {
      "application/vnd.jupyter.widget-view+json": {
       "model_id": "0a97f7ff54d14a32b00e1beef929c1db",
       "version_major": 2,
       "version_minor": 0
      },
      "text/plain": [
       "Training: 0it [00:00, ?it/s]"
      ]
     },
     "metadata": {},
     "output_type": "display_data"
    },
    {
     "data": {
      "application/vnd.jupyter.widget-view+json": {
       "model_id": "88a34a965cab4dc08594e7be09d288a5",
       "version_major": 2,
       "version_minor": 0
      },
      "text/plain": [
       "Predicting: 4it [00:00, ?it/s]"
      ]
     },
     "metadata": {},
     "output_type": "display_data"
    },
    {
     "data": {
      "application/vnd.jupyter.widget-view+json": {
       "model_id": "a7e19acafc7047c28a614f422fd9e6a9",
       "version_major": 2,
       "version_minor": 0
      },
      "text/plain": [
       "Finding best initial lr:   0%|          | 0/203 [00:00<?, ?it/s]"
      ]
     },
     "metadata": {},
     "output_type": "display_data"
    },
    {
     "data": {
      "application/vnd.jupyter.widget-view+json": {
       "model_id": "83e8f29062d54e4abc5e4a3c34c29151",
       "version_major": 2,
       "version_minor": 0
      },
      "text/plain": [
       "Training: 0it [00:00, ?it/s]"
      ]
     },
     "metadata": {},
     "output_type": "display_data"
    },
    {
     "data": {
      "application/vnd.jupyter.widget-view+json": {
       "model_id": "54217c5282a7441f8ce1033e06c28b83",
       "version_major": 2,
       "version_minor": 0
      },
      "text/plain": [
       "Predicting: 4it [00:00, ?it/s]"
      ]
     },
     "metadata": {},
     "output_type": "display_data"
    },
    {
     "data": {
      "application/vnd.jupyter.widget-view+json": {
       "model_id": "712aebd7c1d540399e0a41ea8258f339",
       "version_major": 2,
       "version_minor": 0
      },
      "text/plain": [
       "Finding best initial lr:   0%|          | 0/203 [00:00<?, ?it/s]"
      ]
     },
     "metadata": {},
     "output_type": "display_data"
    },
    {
     "data": {
      "application/vnd.jupyter.widget-view+json": {
       "model_id": "ea01d7bf1b564e56a440169a03dacac0",
       "version_major": 2,
       "version_minor": 0
      },
      "text/plain": [
       "Training: 0it [00:00, ?it/s]"
      ]
     },
     "metadata": {},
     "output_type": "display_data"
    },
    {
     "data": {
      "application/vnd.jupyter.widget-view+json": {
       "model_id": "0311635e96174355b828e858cb46bdbf",
       "version_major": 2,
       "version_minor": 0
      },
      "text/plain": [
       "Predicting: 4it [00:00, ?it/s]"
      ]
     },
     "metadata": {},
     "output_type": "display_data"
    },
    {
     "data": {
      "application/vnd.jupyter.widget-view+json": {
       "model_id": "732db7ba47bc4cb78ea4a6e5d305de0c",
       "version_major": 2,
       "version_minor": 0
      },
      "text/plain": [
       "Finding best initial lr:   0%|          | 0/203 [00:00<?, ?it/s]"
      ]
     },
     "metadata": {},
     "output_type": "display_data"
    },
    {
     "data": {
      "application/vnd.jupyter.widget-view+json": {
       "model_id": "a3fa0e5a91474ee0a286375ff1d4cf02",
       "version_major": 2,
       "version_minor": 0
      },
      "text/plain": [
       "Training: 0it [00:00, ?it/s]"
      ]
     },
     "metadata": {},
     "output_type": "display_data"
    },
    {
     "data": {
      "application/vnd.jupyter.widget-view+json": {
       "model_id": "a0c7925be8564d02885e5b092e796fcd",
       "version_major": 2,
       "version_minor": 0
      },
      "text/plain": [
       "Predicting: 4it [00:00, ?it/s]"
      ]
     },
     "metadata": {},
     "output_type": "display_data"
    },
    {
     "data": {
      "application/vnd.jupyter.widget-view+json": {
       "model_id": "af9691dda98e4a5cb8f162b7992a24f4",
       "version_major": 2,
       "version_minor": 0
      },
      "text/plain": [
       "Finding best initial lr:   0%|          | 0/203 [00:00<?, ?it/s]"
      ]
     },
     "metadata": {},
     "output_type": "display_data"
    },
    {
     "data": {
      "application/vnd.jupyter.widget-view+json": {
       "model_id": "09611a02b1de496d863f5014fc706f6d",
       "version_major": 2,
       "version_minor": 0
      },
      "text/plain": [
       "Training: 0it [00:00, ?it/s]"
      ]
     },
     "metadata": {},
     "output_type": "display_data"
    },
    {
     "data": {
      "application/vnd.jupyter.widget-view+json": {
       "model_id": "624046d55c94453a9fc1844f5eb17540",
       "version_major": 2,
       "version_minor": 0
      },
      "text/plain": [
       "Predicting: 4it [00:00, ?it/s]"
      ]
     },
     "metadata": {},
     "output_type": "display_data"
    },
    {
     "data": {
      "application/vnd.jupyter.widget-view+json": {
       "model_id": "dc578b96986b49059bef9216b230ab28",
       "version_major": 2,
       "version_minor": 0
      },
      "text/plain": [
       "Finding best initial lr:   0%|          | 0/203 [00:00<?, ?it/s]"
      ]
     },
     "metadata": {},
     "output_type": "display_data"
    },
    {
     "data": {
      "application/vnd.jupyter.widget-view+json": {
       "model_id": "6a595c621a8f4eb398d7c76fbcc117f7",
       "version_major": 2,
       "version_minor": 0
      },
      "text/plain": [
       "Training: 0it [00:00, ?it/s]"
      ]
     },
     "metadata": {},
     "output_type": "display_data"
    },
    {
     "data": {
      "application/vnd.jupyter.widget-view+json": {
       "model_id": "26e8f249cd134565814d9f6803e7fd5b",
       "version_major": 2,
       "version_minor": 0
      },
      "text/plain": [
       "Predicting: 4it [00:00, ?it/s]"
      ]
     },
     "metadata": {},
     "output_type": "display_data"
    },
    {
     "data": {
      "application/vnd.jupyter.widget-view+json": {
       "model_id": "fa83124a08f44c449fff212451608766",
       "version_major": 2,
       "version_minor": 0
      },
      "text/plain": [
       "Finding best initial lr:   0%|          | 0/203 [00:00<?, ?it/s]"
      ]
     },
     "metadata": {},
     "output_type": "display_data"
    },
    {
     "data": {
      "application/vnd.jupyter.widget-view+json": {
       "model_id": "7052df01e887495e918f07062653f8bc",
       "version_major": 2,
       "version_minor": 0
      },
      "text/plain": [
       "Training: 0it [00:00, ?it/s]"
      ]
     },
     "metadata": {},
     "output_type": "display_data"
    },
    {
     "data": {
      "application/vnd.jupyter.widget-view+json": {
       "model_id": "8e4ca5f4787f423e83ad1bd46473cf12",
       "version_major": 2,
       "version_minor": 0
      },
      "text/plain": [
       "Predicting: 4it [00:00, ?it/s]"
      ]
     },
     "metadata": {},
     "output_type": "display_data"
    },
    {
     "data": {
      "application/vnd.jupyter.widget-view+json": {
       "model_id": "9c3c01c80729477db1b56df48096a828",
       "version_major": 2,
       "version_minor": 0
      },
      "text/plain": [
       "Finding best initial lr:   0%|          | 0/203 [00:00<?, ?it/s]"
      ]
     },
     "metadata": {},
     "output_type": "display_data"
    },
    {
     "data": {
      "application/vnd.jupyter.widget-view+json": {
       "model_id": "8b00ba1a97e143e89da72e35a98f2324",
       "version_major": 2,
       "version_minor": 0
      },
      "text/plain": [
       "Training: 0it [00:00, ?it/s]"
      ]
     },
     "metadata": {},
     "output_type": "display_data"
    },
    {
     "data": {
      "application/vnd.jupyter.widget-view+json": {
       "model_id": "7d3aa896c0ac477fafab3e5541525757",
       "version_major": 2,
       "version_minor": 0
      },
      "text/plain": [
       "Predicting: 4it [00:00, ?it/s]"
      ]
     },
     "metadata": {},
     "output_type": "display_data"
    },
    {
     "data": {
      "application/vnd.jupyter.widget-view+json": {
       "model_id": "2a1ac6222bc14936b79367f37ab572ee",
       "version_major": 2,
       "version_minor": 0
      },
      "text/plain": [
       "Finding best initial lr:   0%|          | 0/203 [00:00<?, ?it/s]"
      ]
     },
     "metadata": {},
     "output_type": "display_data"
    },
    {
     "data": {
      "application/vnd.jupyter.widget-view+json": {
       "model_id": "1cd2a2c97e0647c0b94ecdab6c772893",
       "version_major": 2,
       "version_minor": 0
      },
      "text/plain": [
       "Training: 0it [00:00, ?it/s]"
      ]
     },
     "metadata": {},
     "output_type": "display_data"
    },
    {
     "data": {
      "application/vnd.jupyter.widget-view+json": {
       "model_id": "20f8b12d102f4fb3aea5c17f365a1041",
       "version_major": 2,
       "version_minor": 0
      },
      "text/plain": [
       "Predicting: 4it [00:00, ?it/s]"
      ]
     },
     "metadata": {},
     "output_type": "display_data"
    },
    {
     "data": {
      "application/vnd.jupyter.widget-view+json": {
       "model_id": "a69f68aa1ff34867b90deb261e709cfd",
       "version_major": 2,
       "version_minor": 0
      },
      "text/plain": [
       "Finding best initial lr:   0%|          | 0/203 [00:00<?, ?it/s]"
      ]
     },
     "metadata": {},
     "output_type": "display_data"
    },
    {
     "data": {
      "application/vnd.jupyter.widget-view+json": {
       "model_id": "134ba37f545344e4b53e9d59ac18c21b",
       "version_major": 2,
       "version_minor": 0
      },
      "text/plain": [
       "Training: 0it [00:00, ?it/s]"
      ]
     },
     "metadata": {},
     "output_type": "display_data"
    },
    {
     "data": {
      "application/vnd.jupyter.widget-view+json": {
       "model_id": "8ef3c2bf27d74d2b93403ffb00b45885",
       "version_major": 2,
       "version_minor": 0
      },
      "text/plain": [
       "Predicting: 4it [00:00, ?it/s]"
      ]
     },
     "metadata": {},
     "output_type": "display_data"
    }
   ],
   "source": [
    "from neuralprophet import NeuralProphet\n",
    "import pandas as pd\n",
    "\n",
    "# Renombrar la columna 'total_TN' a 'y'\n",
    "datos_sumarizados = datos_sumarizados.rename(columns={'total_TN': 'y'})\n",
    "\n",
    "# Definir las columnas necesarias para NeuralProphet\n",
    "expected_columns = ['ds', 'y']#, 'trimestre', 'avg_tn_por_producto', 'avg_qty_por_cliente']\n",
    "\n",
    "# Filtrar datos por product_id\n",
    "product_ids = datos_sumarizados['product_id'].unique()\n",
    "\n",
    "# Preparar un DataFrame para almacenar los resultados\n",
    "resultados = pd.DataFrame()\n",
    "\n",
    "# Entrenar y predecir para cada product_id\n",
    "for pid in product_ids:\n",
    "    # Crear una nueva instancia del modelo para cada product_id\n",
    "    model = NeuralProphet(\n",
    "        n_lags=3,  # Número de lags para los regresores\n",
    "        n_forecasts=2,  # Número de períodos a predecir\n",
    "    )\n",
    "    \n",
    "    # Agregar los regresores laggeados\n",
    "    #model.add_lagged_regressor(\"trimestre\")\n",
    "    #model.add_lagged_regressor(\"avg_tn_por_producto\")\n",
    "    #model.add_lagged_regressor(\"avg_qty_por_cliente\")\n",
    "    \n",
    "    datos_producto = datos_sumarizados[datos_sumarizados['product_id'] == pid].copy()\n",
    "    \n",
    "    # Filtrar las columnas necesarias\n",
    "    datos_producto = datos_producto[expected_columns]\n",
    "    \n",
    "    # Asegurarse de que 'ds' sea de tipo datetime\n",
    "    datos_producto['ds'] = pd.to_datetime(datos_producto['ds'])\n",
    "    \n",
    "    # Ordenar los datos por fecha\n",
    "    datos_producto = datos_producto.sort_values('ds')\n",
    "    \n",
    "    # Entrenar el modelo\n",
    "    model.fit(datos_producto, freq='M')\n",
    "    \n",
    "    # Crear DataFrame futuro\n",
    "    future = model.make_future_dataframe(df=datos_producto, periods=2)\n",
    "    \n",
    "    # Predecir\n",
    "    forecast = model.predict(future)\n",
    "    \n",
    "    # Filtrar predicciones para febrero de 2020\n",
    "    predicciones_febrero = forecast[forecast['ds'].dt.strftime('%Y-%m') == '2020-02'][['ds', 'yhat1']]\n",
    "    \n",
    "    # Agregar product_id a las predicciones\n",
    "    predicciones_febrero['product_id'] = pid\n",
    "    \n",
    "    # Renombrar la columna de predicción\n",
    "    predicciones_febrero.rename(columns={'yhat1': 'tn'}, inplace=True)\n",
    "    \n",
    "    # Añadir las predicciones al DataFrame de resultados\n",
    "    resultados = pd.concat([resultados, predicciones_febrero])\n",
    "\n",
    "# Guardar los resultados en un archivo CSV\n",
    "resultados[['product_id', 'tn']].to_csv('predicciones_febrero_2020.v9.0.0.csv', index=False)"
   ]
  },
  {
   "cell_type": "code",
   "execution_count": null,
   "id": "6eaff7c4-d5ef-45a8-8776-c24d621d2733",
   "metadata": {},
   "outputs": [],
   "source": []
  }
 ],
 "metadata": {
  "kernelspec": {
   "display_name": "Python 3 (ipykernel)",
   "language": "python",
   "name": "python3"
  },
  "language_info": {
   "codemirror_mode": {
    "name": "ipython",
    "version": 3
   },
   "file_extension": ".py",
   "mimetype": "text/x-python",
   "name": "python",
   "nbconvert_exporter": "python",
   "pygments_lexer": "ipython3",
   "version": "3.12.3"
  }
 },
 "nbformat": 4,
 "nbformat_minor": 5
}
