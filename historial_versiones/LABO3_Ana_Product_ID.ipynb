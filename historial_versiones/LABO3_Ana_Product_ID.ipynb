{
 "cells": [
  {
   "cell_type": "code",
   "execution_count": 1,
   "id": "fd68ac32-b88a-4c4a-a613-281216b9ddba",
   "metadata": {},
   "outputs": [],
   "source": [
    "import pandas as pd\n",
    "import plotly.express as px\n",
    "import plotly.graph_objects as go\n",
    "from ipywidgets import interact, widgets"
   ]
  },
  {
   "cell_type": "code",
   "execution_count": 2,
   "id": "f61f566a-5e69-41cb-9420-95888cbad430",
   "metadata": {},
   "outputs": [],
   "source": [
    "# Cargar los datos\n",
    "data = pd.read_csv('data/sell-in.csv', delimiter='\\t')\n",
    "\n",
    "# Convertir el período a un formato de fecha\n",
    "data['periodo'] = pd.to_datetime(data['periodo'], format='%Y%m')"
   ]
  },
  {
   "cell_type": "code",
   "execution_count": 3,
   "id": "c041edaf-0cbe-47db-b4ab-fb93a5a635c4",
   "metadata": {},
   "outputs": [
    {
     "data": {
      "text/html": [
       "<div>\n",
       "<style scoped>\n",
       "    .dataframe tbody tr th:only-of-type {\n",
       "        vertical-align: middle;\n",
       "    }\n",
       "\n",
       "    .dataframe tbody tr th {\n",
       "        vertical-align: top;\n",
       "    }\n",
       "\n",
       "    .dataframe thead th {\n",
       "        text-align: right;\n",
       "    }\n",
       "</style>\n",
       "<table border=\"1\" class=\"dataframe\">\n",
       "  <thead>\n",
       "    <tr style=\"text-align: right;\">\n",
       "      <th></th>\n",
       "      <th>periodo</th>\n",
       "      <th>customer_id</th>\n",
       "      <th>product_id</th>\n",
       "      <th>plan_precios_cuidados</th>\n",
       "      <th>cust_request_qty</th>\n",
       "      <th>cust_request_tn</th>\n",
       "      <th>tn</th>\n",
       "    </tr>\n",
       "  </thead>\n",
       "  <tbody>\n",
       "    <tr>\n",
       "      <th>0</th>\n",
       "      <td>2017-01-01</td>\n",
       "      <td>10234</td>\n",
       "      <td>20524</td>\n",
       "      <td>0</td>\n",
       "      <td>2</td>\n",
       "      <td>0.05300</td>\n",
       "      <td>0.05300</td>\n",
       "    </tr>\n",
       "    <tr>\n",
       "      <th>1</th>\n",
       "      <td>2017-01-01</td>\n",
       "      <td>10032</td>\n",
       "      <td>20524</td>\n",
       "      <td>0</td>\n",
       "      <td>1</td>\n",
       "      <td>0.13628</td>\n",
       "      <td>0.13628</td>\n",
       "    </tr>\n",
       "    <tr>\n",
       "      <th>2</th>\n",
       "      <td>2017-01-01</td>\n",
       "      <td>10217</td>\n",
       "      <td>20524</td>\n",
       "      <td>0</td>\n",
       "      <td>1</td>\n",
       "      <td>0.03028</td>\n",
       "      <td>0.03028</td>\n",
       "    </tr>\n",
       "    <tr>\n",
       "      <th>3</th>\n",
       "      <td>2017-01-01</td>\n",
       "      <td>10125</td>\n",
       "      <td>20524</td>\n",
       "      <td>0</td>\n",
       "      <td>1</td>\n",
       "      <td>0.02271</td>\n",
       "      <td>0.02271</td>\n",
       "    </tr>\n",
       "    <tr>\n",
       "      <th>4</th>\n",
       "      <td>2017-01-01</td>\n",
       "      <td>10012</td>\n",
       "      <td>20524</td>\n",
       "      <td>0</td>\n",
       "      <td>11</td>\n",
       "      <td>1.54452</td>\n",
       "      <td>1.54452</td>\n",
       "    </tr>\n",
       "    <tr>\n",
       "      <th>...</th>\n",
       "      <td>...</td>\n",
       "      <td>...</td>\n",
       "      <td>...</td>\n",
       "      <td>...</td>\n",
       "      <td>...</td>\n",
       "      <td>...</td>\n",
       "      <td>...</td>\n",
       "    </tr>\n",
       "    <tr>\n",
       "      <th>2945813</th>\n",
       "      <td>2019-12-01</td>\n",
       "      <td>10105</td>\n",
       "      <td>20853</td>\n",
       "      <td>0</td>\n",
       "      <td>1</td>\n",
       "      <td>0.02230</td>\n",
       "      <td>0.02230</td>\n",
       "    </tr>\n",
       "    <tr>\n",
       "      <th>2945814</th>\n",
       "      <td>2019-12-01</td>\n",
       "      <td>10092</td>\n",
       "      <td>20853</td>\n",
       "      <td>0</td>\n",
       "      <td>1</td>\n",
       "      <td>0.00669</td>\n",
       "      <td>0.00669</td>\n",
       "    </tr>\n",
       "    <tr>\n",
       "      <th>2945815</th>\n",
       "      <td>2019-12-01</td>\n",
       "      <td>10006</td>\n",
       "      <td>20853</td>\n",
       "      <td>0</td>\n",
       "      <td>7</td>\n",
       "      <td>0.02898</td>\n",
       "      <td>0.02898</td>\n",
       "    </tr>\n",
       "    <tr>\n",
       "      <th>2945816</th>\n",
       "      <td>2019-12-01</td>\n",
       "      <td>10018</td>\n",
       "      <td>20853</td>\n",
       "      <td>0</td>\n",
       "      <td>4</td>\n",
       "      <td>0.01561</td>\n",
       "      <td>0.01561</td>\n",
       "    </tr>\n",
       "    <tr>\n",
       "      <th>2945817</th>\n",
       "      <td>2019-12-01</td>\n",
       "      <td>10020</td>\n",
       "      <td>20853</td>\n",
       "      <td>0</td>\n",
       "      <td>2</td>\n",
       "      <td>0.01561</td>\n",
       "      <td>0.01561</td>\n",
       "    </tr>\n",
       "  </tbody>\n",
       "</table>\n",
       "<p>2945818 rows × 7 columns</p>\n",
       "</div>"
      ],
      "text/plain": [
       "           periodo  customer_id  product_id  plan_precios_cuidados  \\\n",
       "0       2017-01-01        10234       20524                      0   \n",
       "1       2017-01-01        10032       20524                      0   \n",
       "2       2017-01-01        10217       20524                      0   \n",
       "3       2017-01-01        10125       20524                      0   \n",
       "4       2017-01-01        10012       20524                      0   \n",
       "...            ...          ...         ...                    ...   \n",
       "2945813 2019-12-01        10105       20853                      0   \n",
       "2945814 2019-12-01        10092       20853                      0   \n",
       "2945815 2019-12-01        10006       20853                      0   \n",
       "2945816 2019-12-01        10018       20853                      0   \n",
       "2945817 2019-12-01        10020       20853                      0   \n",
       "\n",
       "         cust_request_qty  cust_request_tn       tn  \n",
       "0                       2          0.05300  0.05300  \n",
       "1                       1          0.13628  0.13628  \n",
       "2                       1          0.03028  0.03028  \n",
       "3                       1          0.02271  0.02271  \n",
       "4                      11          1.54452  1.54452  \n",
       "...                   ...              ...      ...  \n",
       "2945813                 1          0.02230  0.02230  \n",
       "2945814                 1          0.00669  0.00669  \n",
       "2945815                 7          0.02898  0.02898  \n",
       "2945816                 4          0.01561  0.01561  \n",
       "2945817                 2          0.01561  0.01561  \n",
       "\n",
       "[2945818 rows x 7 columns]"
      ]
     },
     "execution_count": 3,
     "metadata": {},
     "output_type": "execute_result"
    }
   ],
   "source": [
    "data"
   ]
  },
  {
   "cell_type": "code",
   "execution_count": 4,
   "id": "9a78bdaa-6e84-4d21-96ac-a84b3b87737d",
   "metadata": {},
   "outputs": [
    {
     "data": {
      "application/vnd.jupyter.widget-view+json": {
       "model_id": "806f229b448e4676b1df0af93f78300c",
       "version_major": 2,
       "version_minor": 0
      },
      "text/plain": [
       "interactive(children=(Dropdown(description='Product ID:', options=(20001, 20002, 20003, 20004, 20005, 20006, 2…"
      ]
     },
     "metadata": {},
     "output_type": "display_data"
    },
    {
     "data": {
      "text/plain": [
       "<function __main__.plot_series(product_id)>"
      ]
     },
     "execution_count": 4,
     "metadata": {},
     "output_type": "execute_result"
    }
   ],
   "source": [
    "# Crear una función para visualizar las series temporales\n",
    "def plot_series(product_id):\n",
    "    # Filtrar los datos para el product_id seleccionado\n",
    "    product_data = data[data['product_id'] == product_id]\n",
    "    \n",
    "    # Agrupar los datos por período y sumar las ventas en toneladas\n",
    "    product_data_grouped = product_data.groupby('periodo')['tn'].sum().reset_index()\n",
    "    \n",
    "    # Crear la figura con plotly\n",
    "    fig = px.line(product_data_grouped, x='periodo', y='tn', title=f'Ventas en toneladas para product_id {product_id}')\n",
    "    fig.update_layout(xaxis_title='Periodo', yaxis_title='Toneladas vendidas')\n",
    "    fig.show()\n",
    "\n",
    "# Obtener la lista de product_id únicos y ordenarla\n",
    "product_ids = sorted(data['product_id'].unique())\n",
    "\n",
    "# Crear un widget interactivo para seleccionar el product_id\n",
    "product_id_selector = widgets.Dropdown(options=product_ids, description='Product ID:')\n",
    "\n",
    "# Usar interact para crear la interfaz interactiva\n",
    "interact(plot_series, product_id=product_id_selector)"
   ]
  },
  {
   "cell_type": "code",
   "execution_count": 5,
   "id": "2e12dc92-2535-452e-ac9e-3f99f8bca770",
   "metadata": {},
   "outputs": [
    {
     "name": "stdout",
     "output_type": "stream",
     "text": [
      "     periodo  customer_id  product_id  plan_precios_cuidados  \\\n",
      "0 2017-01-01        10234       20524                      0   \n",
      "1 2017-01-01        10032       20524                      0   \n",
      "2 2017-01-01        10217       20524                      0   \n",
      "3 2017-01-01        10125       20524                      0   \n",
      "4 2017-01-01        10012       20524                      0   \n",
      "\n",
      "   cust_request_qty  cust_request_tn       tn  \n",
      "0                 2          0.05300  0.05300  \n",
      "1                 1          0.13628  0.13628  \n",
      "2                 1          0.03028  0.03028  \n",
      "3                 1          0.02271  0.02271  \n",
      "4                11          1.54452  1.54452  \n"
     ]
    },
    {
     "data": {
      "application/vnd.jupyter.widget-view+json": {
       "model_id": "1001f831b6d64fc2b369f2c5c10d89a7",
       "version_major": 2,
       "version_minor": 0
      },
      "text/plain": [
       "interactive(children=(Dropdown(description='Product ID:', options=(20001, 20002, 20003, 20004, 20005, 20006, 2…"
      ]
     },
     "metadata": {},
     "output_type": "display_data"
    },
    {
     "data": {
      "text/plain": [
       "<function __main__.plot_series(product_id)>"
      ]
     },
     "execution_count": 5,
     "metadata": {},
     "output_type": "execute_result"
    }
   ],
   "source": [
    "# Ver las primeras filas para verificar los nombres de las columnas\n",
    "print(data.head())\n",
    "\n",
    "# Asegurarnos de que la columna 'periodo' existe\n",
    "if 'periodo' not in data.columns:\n",
    "    raise KeyError(\"La columna 'periodo' no se encuentra en el DataFrame. Verifica los nombres de las columnas.\")\n",
    "\n",
    "# Convertir el período a un formato de fecha\n",
    "data['periodo'] = pd.to_datetime(data['periodo'], format='%Y%m')\n",
    "\n",
    "# Crear una función para visualizar las series temporales\n",
    "def plot_series(product_id):\n",
    "    # Filtrar los datos para el product_id seleccionado\n",
    "    product_data = data[data['product_id'] == product_id]\n",
    "    \n",
    "    # Agrupar los datos por período y sumar las ventas en toneladas\n",
    "    product_data_grouped = product_data.groupby('periodo')['tn'].sum().reset_index()\n",
    "    \n",
    "    # Crear la figura con plotly\n",
    "    fig = px.line(product_data_grouped, x='periodo', y='tn', title=f'Ventas en toneladas para product_id {product_id}')\n",
    "    \n",
    "    # Mejorar la visualización\n",
    "    fig.update_layout(\n",
    "        xaxis_title='Periodo',\n",
    "        yaxis_title='Toneladas vendidas',\n",
    "        xaxis=dict(\n",
    "            tickformat=\"%Y-%m\",\n",
    "            tickmode='array',\n",
    "            tickvals=product_data_grouped['periodo']\n",
    "        ),\n",
    "        width=1000,  # Aumentar el tamaño del gráfico\n",
    "        height=500,\n",
    "        xaxis_rangeslider_visible=True  # Agregar un rango deslizante\n",
    "    )\n",
    "    \n",
    "    fig.show()\n",
    "\n",
    "# Obtener la lista de product_id únicos y ordenarla\n",
    "product_ids = sorted(data['product_id'].unique())\n",
    "\n",
    "# Crear un widget interactivo para seleccionar el product_id\n",
    "product_id_selector = widgets.Dropdown(options=product_ids, description='Product ID:')\n",
    "\n",
    "# Usar interact para crear la interfaz interactiva\n",
    "interact(plot_series, product_id=product_id_selector)"
   ]
  },
  {
   "cell_type": "code",
   "execution_count": null,
   "id": "7e5f8298-c77f-4fd4-af4c-69ee71c36ae9",
   "metadata": {},
   "outputs": [],
   "source": []
  }
 ],
 "metadata": {
  "kernelspec": {
   "display_name": "Python 3 (ipykernel)",
   "language": "python",
   "name": "python3"
  },
  "language_info": {
   "codemirror_mode": {
    "name": "ipython",
    "version": 3
   },
   "file_extension": ".py",
   "mimetype": "text/x-python",
   "name": "python",
   "nbconvert_exporter": "python",
   "pygments_lexer": "ipython3",
   "version": "3.12.3"
  }
 },
 "nbformat": 4,
 "nbformat_minor": 5
}
